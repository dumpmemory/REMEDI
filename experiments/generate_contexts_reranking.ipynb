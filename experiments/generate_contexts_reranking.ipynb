{
 "cells": [
  {
   "cell_type": "code",
   "execution_count": null,
   "id": "0beb8680",
   "metadata": {},
   "outputs": [],
   "source": [
    "device = 'cuda'"
   ]
  },
  {
   "cell_type": "code",
   "execution_count": null,
   "id": "45bf863f",
   "metadata": {},
   "outputs": [],
   "source": [
    "import transformers\n",
    "\n",
    "# tokenizer = transformers.AutoTokenizer.from_pretrained('google/t5-large-ssm')\n",
    "# tokenizer.mask_token = tokenizer.additional_special_tokens[0]\n",
    "# model = transformers.AutoModelForSeq2SeqLM\\\n",
    "#     .from_pretrained('google/t5-large-ssm')\\\n",
    "#     .to(device)\n",
    "# period = '.'\n",
    "\n",
    "tokenizer = transformers.BartTokenizer.from_pretrained('facebook/bart-large')\n",
    "model = transformers.BartForConditionalGeneration.from_pretrained('facebook/bart-large',\n",
    "                                                                  forced_bos_token_id=0).to(device)\n",
    "period = ''\n",
    "\n",
    "# tokenizer = transformers.T5Tokenizer.from_pretrained('t5-large')\n",
    "# tokenizer.mask_token = tokenizer.additional_special_tokens[0]\n",
    "# model = transformers.T5ForConditionalGeneration.from_pretrained('t5-large').to(device)\n",
    "# period = ''"
   ]
  },
  {
   "cell_type": "code",
   "execution_count": null,
   "id": "9a1ad0e1",
   "metadata": {},
   "outputs": [],
   "source": [
    "import torch\n",
    "\n",
    "occupation = 'speed skater'\n",
    "prompts = [\n",
    "    f'The job of a {occupation} is to {tokenizer.mask_token}{period}',\n",
    "    f'A {occupation} works inside a {tokenizer.mask_token}{period}',\n",
    "    f'A {occupation} uses a {tokenizer.mask_token}{period}',\n",
    "    f'A {occupation} has a degree in {tokenizer.mask_token}{period}',\n",
    "]\n",
    "inputs = tokenizer(prompts, return_tensors='pt', padding='longest').to(device)\n",
    "outputs = model.generate(**inputs,\n",
    "                         output_scores=True,\n",
    "                         return_dict_in_generate=True,\n",
    "                         # num_beams=2,\n",
    "                        )\n",
    "print(outputs.sequences_scores)\n",
    "tokenizer.batch_decode(outputs.sequences, skip_special_tokens=True)"
   ]
  },
  {
   "cell_type": "code",
   "execution_count": null,
   "id": "26549c73",
   "metadata": {},
   "outputs": [],
   "source": [
    "import json\n",
    "import pathlib\n",
    "\n",
    "contexts_file = pathlib.Path('../bart-occupation-contexts.json')\n",
    "with contexts_file.open('r') as handle:\n",
    "    data = json.load(handle)\n",
    "filtered = {d: data[d] for d in data if data[d]['duty'].strip()}\n",
    "len(filtered), filtered"
   ]
  },
  {
   "cell_type": "code",
   "execution_count": null,
   "id": "f6c590e8",
   "metadata": {},
   "outputs": [],
   "source": []
  },
  {
   "cell_type": "code",
   "execution_count": null,
   "id": "7462a89c",
   "metadata": {},
   "outputs": [],
   "source": [
    "import names_dataset\n",
    "nd = names_dataset.NameDataset()\n",
    "all_us_names = nd.get_top_names(n=100, country_alpha2='US')['US']\n",
    "generic_us_names = [*all_us_names['M'], *all_us_names['F']]"
   ]
  },
  {
   "cell_type": "code",
   "execution_count": null,
   "id": "c5454724",
   "metadata": {},
   "outputs": [],
   "source": [
    "import random\n",
    "samples = [\n",
    "    {\n",
    "        'text': random.choice([\n",
    "            f'{random.choice(generic_us_names)} has a degree in {values[\"degree\"]}.',\n",
    "            f'{random.choice(generic_us_names)} went to college to study {values[\"degree\"]}.',\n",
    "            #f'{random.choice(generic_us_names)} needs a {values[\"tool\"]} for work.',\n",
    "            #f'{random.choice(generic_us_names)} got stuck in traffic on the way to the {values[\"location\"]}.',\n",
    "            f'{random.choice(generic_us_names)} uses a {values[\"tool\"]} at the {values[\"location\"]}.',\n",
    "            f'{random.choice(generic_us_names)} has a job to {values[\"duty\"]}.',\n",
    "            f'{random.choice(generic_us_names)} works as a {key}.',\n",
    "        ]),\n",
    "        'label': key,\n",
    "        'token': 1,\n",
    "    }\n",
    "    for key, values in data.items()\n",
    "    for _ in range(100)\n",
    "]\n",
    "\n",
    "file = pathlib.Path('probing-test.json')\n",
    "with file.open('w') as handle:\n",
    "    json.dump(samples, handle)"
   ]
  },
  {
   "cell_type": "code",
   "execution_count": null,
   "id": "bc7277f9",
   "metadata": {},
   "outputs": [],
   "source": []
  }
 ],
 "metadata": {
  "kernelspec": {
   "display_name": "Python 3",
   "language": "python",
   "name": "python3"
  },
  "language_info": {
   "codemirror_mode": {
    "name": "ipython",
    "version": 3
   },
   "file_extension": ".py",
   "mimetype": "text/x-python",
   "name": "python",
   "nbconvert_exporter": "python",
   "pygments_lexer": "ipython3",
   "version": "3.8.10"
  }
 },
 "nbformat": 4,
 "nbformat_minor": 5
}
