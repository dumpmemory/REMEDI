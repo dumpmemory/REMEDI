{
 "cells": [
  {
   "cell_type": "code",
   "execution_count": 1,
   "id": "bd4dbfd3",
   "metadata": {},
   "outputs": [],
   "source": [
    "import sys\n",
    "sys.path.append(\"..\")"
   ]
  },
  {
   "cell_type": "code",
   "execution_count": 3,
   "id": "ce7d4d9c",
   "metadata": {},
   "outputs": [],
   "source": [
    "from src.utils import dataset_utils, model_utils\n",
    "\n",
    "device = \"cuda:4\"\n",
    "batch_size = 32\n",
    "layer = 15\n",
    "mt = model_utils.load_model(\"gpt2-xl\", fp16=True)\n",
    "mt.model.to(device);"
   ]
  },
  {
   "cell_type": "code",
   "execution_count": 4,
   "id": "42fd6df5",
   "metadata": {},
   "outputs": [
    {
     "name": "stderr",
     "output_type": "stream",
     "text": [
      "Using custom data configuration default-ee2142d0578538d6\n",
      "Found cached dataset json (/raid/lingo/dez/cache/huggingface/datasets/json/default-ee2142d0578538d6/0.0.0/e6070c77f18f01a5ad4551a8b7edfba20b8438b7cad4d94e6ad9378022ce4aab)\n",
      "Loading cached processed dataset at /raid/lingo/dez/cache/huggingface/datasets/json/default-ee2142d0578538d6/0.0.0/e6070c77f18f01a5ad4551a8b7edfba20b8438b7cad4d94e6ad9378022ce4aab/cache-953cae2bd9dbcb51.arrow\n"
     ]
    }
   ],
   "source": [
    "dataset = dataset_utils.load_dataset(\"counterfact\", split=\"train[:5000]\")"
   ]
  },
  {
   "cell_type": "code",
   "execution_count": 14,
   "id": "1f2cf7e8",
   "metadata": {},
   "outputs": [
    {
     "data": {
      "application/vnd.jupyter.widget-view+json": {
       "model_id": "7ccec755babf44ca81ed65557a6e1b66",
       "version_major": 2,
       "version_minor": 0
      },
      "text/plain": [
       "precompute editor inputs:   0%|          | 0/141 [00:00<?, ?ba/s]"
      ]
     },
     "metadata": {},
     "output_type": "display_data"
    },
    {
     "data": {
      "application/vnd.jupyter.widget-view+json": {
       "model_id": "e645b87fa3c5417dbc5c77e8b8a8e5ef",
       "version_major": 2,
       "version_minor": 0
      },
      "text/plain": [
       "precompute editor inputs:   0%|          | 0/16 [00:00<?, ?ba/s]"
      ]
     },
     "metadata": {},
     "output_type": "display_data"
    }
   ],
   "source": [
    "from src import editors, precompute\n",
    "import importlib\n",
    "importlib.reload(editors)\n",
    "importlib.reload(precompute)\n",
    "layer = 10\n",
    "splits = dataset_utils.maybe_train_test_split(dataset, test_size=.1)\n",
    "splits = precompute.editor_inputs_from_dataset(\n",
    "    mt=mt,\n",
    "    dataset=splits,\n",
    "    batch_size=batch_size,\n",
    "    layers=[layer],\n",
    "    device=device)"
   ]
  },
  {
   "cell_type": "code",
   "execution_count": null,
   "id": "9be958d4",
   "metadata": {},
   "outputs": [
    {
     "data": {
      "application/vnd.jupyter.widget-view+json": {
       "model_id": "dc57906340ce46e3b93387c21b8c4d04",
       "version_major": 2,
       "version_minor": 0
      },
      "text/plain": [
       "  0%|          | 0/141 [00:00<?, ?it/s]"
      ]
     },
     "metadata": {},
     "output_type": "display_data"
    },
    {
     "data": {
      "application/vnd.jupyter.widget-view+json": {
       "model_id": "6e30a41360ec421f932638b18fe7bbca",
       "version_major": 2,
       "version_minor": 0
      },
      "text/plain": [
       "  0%|          | 0/16 [00:00<?, ?it/s]"
      ]
     },
     "metadata": {},
     "output_type": "display_data"
    },
    {
     "data": {
      "application/vnd.jupyter.widget-view+json": {
       "model_id": "19088b750eef4bc881830bb0ed96ca9a",
       "version_major": 2,
       "version_minor": 0
      },
      "text/plain": [
       "  0%|          | 0/141 [00:00<?, ?it/s]"
      ]
     },
     "metadata": {},
     "output_type": "display_data"
    }
   ],
   "source": [
    "from src import editors\n",
    "\n",
    "import importlib\n",
    "importlib.reload(editors)\n",
    "\n",
    "editor = editors.BiaffineEditor(mt=mt, layer=layer).to(device)\n",
    "editor.fit(\n",
    "    dataset=splits,\n",
    "    device=device,\n",
    "    batch_size=batch_size,\n",
    "    lr=1e-4,\n",
    "    max_epochs=5,\n",
    "    lam_adv=None,\n",
    "    lam_kl=None,\n",
    "#     lam_kl=.2,\n",
    ")"
   ]
  },
  {
   "cell_type": "code",
   "execution_count": 28,
   "id": "e5540877",
   "metadata": {},
   "outputs": [
    {
     "name": "stdout",
     "output_type": "stream",
     "text": [
      "['Jane Smith works in a different way than most of the other articles in this article. The article is about the relationship between the']\n"
     ]
    }
   ],
   "source": [
    "importlib.reload(editors)\n",
    "entity = \"Jane Smith\"\n",
    "attribute = \"has an MD from Harvard Medical School\"\n",
    "context = \"{entity} {attribute}\".format(entity=entity, attribute=attribute)\n",
    "prompt = \"{entity} works in a\".format(entity=entity)\n",
    "\n",
    "import torch\n",
    "\n",
    "with editors.apply(editor, alpha=1, device=device) as edited:\n",
    "    outputs = edited.model.generate({\n",
    "        \"entity\": [entity],\n",
    "        \"context\": [context],\n",
    "        \"prompt\": [prompt],\n",
    "        \"attribute\": [attribute],\n",
    "    }, max_new_tokens=20)\n",
    "print(mt.tokenizer.batch_decode(outputs))"
   ]
  },
  {
   "cell_type": "code",
   "execution_count": 7,
   "id": "9b0112e3",
   "metadata": {},
   "outputs": [
    {
     "data": {
      "application/vnd.jupyter.widget-view+json": {
       "model_id": "12c2e29b303348d0bd6348c53e8b51c1",
       "version_major": 2,
       "version_minor": 0
      },
      "text/plain": [
       "evaluate editor (layer=17):   0%|          | 0/16 [00:00<?, ?it/s]"
      ]
     },
     "metadata": {},
     "output_type": "display_data"
    }
   ],
   "source": [
    "importlib.reload(editors)\n",
    "# importlib.reload(tokenizer_utils)\n",
    "editor.half()\n",
    "results = editor.evaluate(splits[\"test\"], alpha=1, batch_size=batch_size, device=device)"
   ]
  },
  {
   "cell_type": "code",
   "execution_count": 8,
   "id": "718b0090",
   "metadata": {},
   "outputs": [
    {
     "name": "stdout",
     "output_type": "stream",
     "text": [
      "Suzuki vs Honda\n",
      "Honda Insight is produced by Honda Motor Co., Ltd. of Japan. The\n",
      "['ĠHonda', 'Ġthe', 'ĠToyota', 'Ġa', 'ĠH', 'ĠKaw', 'ĠSuzuki', 'ĠK', 'ĠD', 'ĠBMW']\n",
      "Honda Insight is produced by Nissan Nissan is produced by Nissan Nissan is produced by\n",
      "['ĠNissan', 'ĠGeneral', 'ĠHonda', 'ĠToyota', 'ĠSubaru', 'ĠSuzuki', 'ĠVolkswagen', 'ĠMazda', 'ĠChevrolet', 'ĠBMW']\n"
     ]
    }
   ],
   "source": [
    "result = results.results[2]\n",
    "print(result.sample[\"target_mediated\"], \"vs\", result.sample[\"target_unmediated\"])\n",
    "print(result.before_generations)\n",
    "print(result.before_top_tokens)\n",
    "print(result.after_generations)\n",
    "print(result.after_top_tokens)"
   ]
  },
  {
   "cell_type": "code",
   "execution_count": null,
   "id": "77cfe425",
   "metadata": {},
   "outputs": [],
   "source": []
  }
 ],
 "metadata": {
  "kernelspec": {
   "display_name": "Python 3 (ipykernel)",
   "language": "python",
   "name": "python3"
  },
  "language_info": {
   "codemirror_mode": {
    "name": "ipython",
    "version": 3
   },
   "file_extension": ".py",
   "mimetype": "text/x-python",
   "name": "python",
   "nbconvert_exporter": "python",
   "pygments_lexer": "ipython3",
   "version": "3.10.0"
  }
 },
 "nbformat": 4,
 "nbformat_minor": 5
}
