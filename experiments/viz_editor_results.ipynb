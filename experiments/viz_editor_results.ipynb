{
 "cells": [
  {
   "cell_type": "code",
   "execution_count": null,
   "id": "a42b5144",
   "metadata": {},
   "outputs": [],
   "source": [
    "import sys\n",
    "sys.path.append(\"..\")"
   ]
  },
  {
   "cell_type": "code",
   "execution_count": null,
   "id": "001845a4",
   "metadata": {},
   "outputs": [],
   "source": [
    "from pathlib import Path\n",
    "\n",
    "editor_type = \"linear\"\n",
    "results_dir = Path(\"/raid/lingo/dez/web/unitname/context-mediation\") / editor_type\n",
    "results_dir.mkdir(exist_ok=True, parents=True)\n",
    "\n",
    "outputs_dir = Path(\"../results/editors/linear\")\n",
    "layers = [int(path.name) for path in outputs_dir.glob(\"*\")][:-1]\n",
    "editor_type, layers"
   ]
  },
  {
   "cell_type": "markdown",
   "id": "ed5279ba",
   "metadata": {},
   "source": [
    "# Load Results"
   ]
  },
  {
   "cell_type": "code",
   "execution_count": null,
   "id": "fbfa5b6d",
   "metadata": {},
   "outputs": [],
   "source": [
    "import json\n",
    "\n",
    "from src import editors\n",
    "\n",
    "from tqdm.auto import tqdm\n",
    "\n",
    "def load_results(layer):\n",
    "    file = outputs_dir / str(layer) / \"eval.json\"\n",
    "    with file.open(\"r\") as handle:\n",
    "        data = json.load(handle)\n",
    "    return data[\"results\"]\n",
    "\n",
    "results_by_layer = {\n",
    "    layer: load_results(layer) for layer in layers\n",
    "}"
   ]
  },
  {
   "cell_type": "code",
   "execution_count": null,
   "id": "56797a61",
   "metadata": {},
   "outputs": [],
   "source": [
    "# Maybe pre-filter results so that only cases where model was originally correct is considered.\n",
    "def filter_results(rs_by_l):\n",
    "    return {\n",
    "        l: [\n",
    "            r\n",
    "            for r in rs\n",
    "            if r[\"sample\"][\"target_unmediated\"] in {tok.strip(\"Ġ \") for tok in r[\"before_top_tokens\"][:5]}\n",
    "            and r[\"after_target_mediated_score\"] - r[\"before_target_mediated_score\"] > 1e-6\n",
    "        ]\n",
    "        for l, rs in rs_by_l.items()\n",
    "    }\n",
    "\n",
    "filtered_by_layer = filter_results(results_by_layer)"
   ]
  },
  {
   "cell_type": "code",
   "execution_count": null,
   "id": "1ea440c1",
   "metadata": {},
   "outputs": [],
   "source": [
    "filtered_by_layer[0][0]"
   ]
  },
  {
   "cell_type": "markdown",
   "id": "7c79773e",
   "metadata": {},
   "source": [
    "# Average Delta Mediated Prob"
   ]
  },
  {
   "cell_type": "code",
   "execution_count": null,
   "id": "ee302edc",
   "metadata": {},
   "outputs": [],
   "source": [
    "average_delta_by_layer = {\n",
    "    layer: sum(\n",
    "        result[\"after_target_mediated_score\"] - result[\"before_target_mediated_score\"]\n",
    "        for result in results\n",
    "    ) / len(results)\n",
    "    for layer, results in filtered_by_layer.items()\n",
    "}\n",
    "average_delta_by_layer"
   ]
  },
  {
   "cell_type": "code",
   "execution_count": null,
   "id": "ef533651",
   "metadata": {},
   "outputs": [],
   "source": [
    "import matplotlib.pyplot as plt\n",
    "import numpy as np\n",
    "import seaborn as sns\n",
    "\n",
    "def heatmap_by_layer(values_by_layer, title):\n",
    "    plt.figure(figsize=(15, 2))\n",
    "    plt.title(title)\n",
    "    data = np.array([[values_by_layer[layer] for layer in sorted(values_by_layer)]])\n",
    "    sns.heatmap(data)\n",
    "    plt.yticks([]);\n",
    "    plt.xlabel(\"gpt2-xl layer\")\n",
    "\n",
    "heatmap_by_layer(average_delta_by_layer, \"Avg. Relative Change in P(mediated)\")\n",
    "plt.savefig(str(results_dir / \"effect_size.png\"))"
   ]
  },
  {
   "cell_type": "markdown",
   "id": "ef478147",
   "metadata": {},
   "source": [
    "# Average Mediated - Unmediated Delta"
   ]
  },
  {
   "cell_type": "code",
   "execution_count": null,
   "id": "b70f9c73",
   "metadata": {},
   "outputs": [],
   "source": [
    "average_delta_diff_by_layer = {}\n",
    "for layer, results in filtered_by_layer.items():\n",
    "    diffs = []\n",
    "    for result in results:\n",
    "        before = result[\"before_target_mediated_score\"] - result[\"before_target_unmediated_score\"]\n",
    "        after = result[\"after_target_mediated_score\"] - result[\"after_target_unmediated_score\"]\n",
    "        if after - before < 1e-6 or before < 1e-6:\n",
    "            diff = 0\n",
    "        else:\n",
    "            diff = after - before\n",
    "        diffs.append(diff)\n",
    "    average_delta_diff_by_layer[layer] = sum(diffs) / len(diffs)\n",
    "average_delta_diff_by_layer"
   ]
  },
  {
   "cell_type": "code",
   "execution_count": null,
   "id": "9e2fb903",
   "metadata": {},
   "outputs": [],
   "source": [
    "heatmap_by_layer(average_delta_diff_by_layer, \"Avg. Relative Change in P(Mediated) - P(Unmediated)\")"
   ]
  },
  {
   "cell_type": "markdown",
   "id": "eb8b367c",
   "metadata": {},
   "source": [
    "# Accuracy P(Med) > P(Unmediated)"
   ]
  },
  {
   "cell_type": "code",
   "execution_count": null,
   "id": "89a8f701",
   "metadata": {},
   "outputs": [],
   "source": [
    "accuracy_by_layer = {}\n",
    "for layer, results in filtered_by_layer.items():\n",
    "    correct = 0\n",
    "    for result in results:\n",
    "        if result[\"after_target_mediated_score\"] > result[\"after_target_unmediated_score\"]:\n",
    "            correct += 1\n",
    "    accuracy_by_layer[layer] = correct / len(results)"
   ]
  },
  {
   "cell_type": "code",
   "execution_count": null,
   "id": "6801d519",
   "metadata": {},
   "outputs": [],
   "source": [
    "heatmap_by_layer(accuracy_by_layer, \"Accuracy\")\n",
    "plt.savefig(str(results_dir / \"accuracy.png\"))"
   ]
  },
  {
   "cell_type": "markdown",
   "id": "02ebe736",
   "metadata": {},
   "source": [
    "# HTML"
   ]
  },
  {
   "cell_type": "code",
   "execution_count": null,
   "id": "9c85d54b",
   "metadata": {},
   "outputs": [],
   "source": [
    "results = [\n",
    "    [results_by_layer[layer][index] for layer in results_by_layer]\n",
    "    for index in range(len(results_by_layer[0]))\n",
    "]\n",
    "html = [\n",
    "    \"<!doctype html>\",\n",
    "    \"<html>\",\n",
    "    \"<body>\",\n",
    "    f'<img alt=\"effect_size\" src=\"https://unitname.csail.mit.edu/context-mediation/{editor_type}/effect_size.png\">',\n",
    "    f'<img alt=\"accuracy\" src=\"https://unitname.csail.mit.edu/context-mediation/{editor_type}/accuracy.png\">',\n",
    "]\n",
    "for sample_num, rs in enumerate(results):\n",
    "    kv = lambda key: f\"<b>{key}: </b>{rs[0]['sample'][key]}\"\n",
    "    html += [\n",
    "        \"<div>\",\n",
    "        f\"<h2>Sample {sample_num}</h2>\",\n",
    "        \"<div>Inputs:</div>\",\n",
    "        \"<ul>\",\n",
    "        f\"<li>{kv('entity')}</li>\",\n",
    "        f\"<li>{kv('context')}</li>\",\n",
    "        f\"<li>{kv('attribute')}</li>\",\n",
    "        f\"<li>{kv('prompt')}</li>\",\n",
    "        f\"<li>{kv('target_mediated')}</li>\",\n",
    "        f\"<li>{kv('target_unmediated')}</li>\",\n",
    "        \"</ul>\",\n",
    "    ]\n",
    "    html += [\n",
    "        \"<div>Model outputs:</div>\",\n",
    "        \"<ul>\",\n",
    "    ]\n",
    "    html += [\n",
    "        \"<li>\",\n",
    "        \"<b>original: </b>\",\n",
    "        f\"{rs[0]['before_generations']}\"\n",
    "        \"</li>\",\n",
    "    ]\n",
    "    for layer, result in enumerate(rs):\n",
    "        html += [\n",
    "            f\"<li>after edit <b>layer {layer}</b>: {result['after_generations']}</li>\"\n",
    "        ]\n",
    "    html += [\n",
    "        \"</ul>\",\n",
    "        \"<hr>\",\n",
    "    ]\n",
    "\n",
    "html += [\n",
    "    \"</body>\",\n",
    "    \"</html>\",\n",
    "]\n",
    "\n",
    "html_file = results_dir / \"editing_results.html\"\n",
    "html_file.parent.mkdir(exist_ok=True, parents=True)\n",
    "with html_file.open(\"w\") as handle:\n",
    "    handle.write(\"\\n\".join(html))"
   ]
  },
  {
   "cell_type": "markdown",
   "id": "6c1a6efa",
   "metadata": {},
   "source": [
    "# Playground"
   ]
  },
  {
   "cell_type": "code",
   "execution_count": null,
   "id": "1dae58d8",
   "metadata": {},
   "outputs": [],
   "source": [
    "entity = \"Stanford University\"\n",
    "attribute = \"was founded in the city of Madrid\"\n",
    "context = f\"{entity} {attribute}\"\n",
    "prompt = f\"{entity}, located in the country of\"\n",
    "\n",
    "with editors.apply(editor, alpha=.5) as edited_mt:\n",
    "    outputs = edited_mt.model.generate({\n",
    "        \"entity\": entity,\n",
    "        \"prompt\": prompt,\n",
    "        \"attribute\": attribute,\n",
    "        \"context\": context,\n",
    "    }, max_new_tokens=20)\n",
    "mt.tokenizer.batch_decode(outputs)"
   ]
  },
  {
   "cell_type": "code",
   "execution_count": null,
   "id": "c0e1507d",
   "metadata": {},
   "outputs": [],
   "source": []
  }
 ],
 "metadata": {
  "kernelspec": {
   "display_name": "Python 3 (ipykernel)",
   "language": "python",
   "name": "python3"
  },
  "language_info": {
   "codemirror_mode": {
    "name": "ipython",
    "version": 3
   },
   "file_extension": ".py",
   "mimetype": "text/x-python",
   "name": "python",
   "nbconvert_exporter": "python",
   "pygments_lexer": "ipython3",
   "version": "3.10.0"
  }
 },
 "nbformat": 4,
 "nbformat_minor": 5
}
