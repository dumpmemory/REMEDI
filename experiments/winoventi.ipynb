{
 "cells": [
  {
   "cell_type": "code",
   "execution_count": null,
   "id": "836d66d4",
   "metadata": {},
   "outputs": [],
   "source": [
    "import transformers\n",
    "\n",
    "device = \"cuda:0\"\n",
    "config = \"EleutherAI/gpt-neo-125M\"\n",
    "model = transformers.AutoModelForCausalLM.from_pretrained(config).to(device)\n",
    "tokenizer = transformers.AutoTokenizer.from_pretrained(config)"
   ]
  },
  {
   "cell_type": "code",
   "execution_count": null,
   "id": "d6d5d3f4",
   "metadata": {},
   "outputs": [],
   "source": [
    "import csv\n",
    "from pathlib import Path\n",
    "\n",
    "winoventi_file = Path(\"/raid/lingo/dez/data/winoventi.tsv\")\n",
    "with winoventi_file.open(\"r\") as handle:\n",
    "    rows = tuple(csv.DictReader(handle, delimiter=\"\\t\"))\n",
    "rows[0]"
   ]
  },
  {
   "cell_type": "code",
   "execution_count": null,
   "id": "622af10f",
   "metadata": {},
   "outputs": [],
   "source": []
  }
 ],
 "metadata": {
  "kernelspec": {
   "display_name": "Python 3",
   "language": "python",
   "name": "python3"
  },
  "language_info": {
   "codemirror_mode": {
    "name": "ipython",
    "version": 3
   },
   "file_extension": ".py",
   "mimetype": "text/x-python",
   "name": "python",
   "nbconvert_exporter": "python",
   "pygments_lexer": "ipython3",
   "version": "3.8.10"
  }
 },
 "nbformat": 4,
 "nbformat_minor": 5
}
