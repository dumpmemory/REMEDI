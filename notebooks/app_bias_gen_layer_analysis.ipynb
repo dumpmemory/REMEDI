{
 "cells": [
  {
   "cell_type": "code",
   "execution_count": null,
   "id": "80d970ed",
   "metadata": {},
   "outputs": [],
   "source": [
    "from pathlib import Path\n",
    "\n",
    "RESULTS_ROOT = Path(\"../results\")"
   ]
  },
  {
   "cell_type": "code",
   "execution_count": null,
   "id": "b4607906",
   "metadata": {},
   "outputs": [],
   "source": [
    "import json\n",
    "\n",
    "import matplotlib.pyplot as plt\n",
    "from tqdm.auto import tqdm\n",
    "\n",
    "layers = []\n",
    "efficacies = []\n",
    "fluencies = []\n",
    "for layer in tqdm(range(28)):\n",
    "    results_dir = RESULTS_ROOT / \"icml_eval_bias_gen_gptj_small/linear\" / str(layer)\n",
    "\n",
    "    metrics_file = results_dir / \"error_correction_metrics.json\"\n",
    "    if not metrics_file.exists():\n",
    "        print(f\"skipping layer {layer}\")\n",
    "        continue\n",
    "    with metrics_file.open(\"r\") as handle:\n",
    "        results = json.load(handle)\n",
    "    layers.append(layer)\n",
    "    efficacies.append(results[\"top1_accuracy\"])\n",
    "    fluencies.append(results[\"fluency\"][\"mean\"])\n",
    "plt.bar(layers, efficacies)"
   ]
  }
 ],
 "metadata": {
  "kernelspec": {
   "display_name": "Python 3 (ipykernel)",
   "language": "python",
   "name": "python3"
  },
  "language_info": {
   "codemirror_mode": {
    "name": "ipython",
    "version": 3
   },
   "file_extension": ".py",
   "mimetype": "text/x-python",
   "name": "python",
   "nbconvert_exporter": "python",
   "pygments_lexer": "ipython3",
   "version": "3.10.0"
  }
 },
 "nbformat": 4,
 "nbformat_minor": 5
}
