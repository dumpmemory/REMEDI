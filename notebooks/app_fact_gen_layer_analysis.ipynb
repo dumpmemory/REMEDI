{
 "cells": [
  {
   "cell_type": "code",
   "execution_count": null,
   "id": "e7a741de",
   "metadata": {},
   "outputs": [],
   "source": [
    "import sys\n",
    "sys.path.append(\"..\")"
   ]
  },
  {
   "cell_type": "code",
   "execution_count": null,
   "id": "8865dd34",
   "metadata": {},
   "outputs": [],
   "source": [
    "from pathlib import Path\n",
    "\n",
    "RESULTS_ROOT = Path(\"../results\")"
   ]
  },
  {
   "cell_type": "markdown",
   "id": "395026cb",
   "metadata": {},
   "source": [
    "# Fact Gen. Layers Analysis"
   ]
  },
  {
   "cell_type": "code",
   "execution_count": null,
   "id": "7c35ff7a",
   "metadata": {},
   "outputs": [],
   "source": [
    "import json\n",
    "\n",
    "import matplotlib.pyplot as plt\n",
    "from tqdm.auto import tqdm\n",
    "\n",
    "layers = []\n",
    "efficacies = []\n",
    "fluencies = []\n",
    "consistencies = []\n",
    "essences = []\n",
    "for layer in tqdm(range(28)):\n",
    "    results_dir = RESULTS_ROOT / \"icml_eval_fact_gen_gptj_small/linear\" / str(layer)\n",
    "\n",
    "    efficacy_file = results_dir / \"efficacy_metrics.json\"\n",
    "    if not efficacy_file.exists():\n",
    "        continue\n",
    "    with efficacy_file.open(\"r\") as handle:\n",
    "        results = json.load(handle)    \n",
    "    efficacy = results[\"score\"][\"mean\"]\n",
    "\n",
    "    generation_file = results_dir / \"generation_metrics.json\"\n",
    "    if not generation_file.exists() or layer == 19:\n",
    "        continue\n",
    "    with generation_file.open(\"r\") as handle:\n",
    "        results = json.load(handle)\n",
    "    fluency = results[\"fluency\"][\"mean\"]\n",
    "    consistency = results[\"consistency\"][\"mean\"]\n",
    "\n",
    "    essence_file = results_dir / \"essence_metrics.json\"\n",
    "    with essence_file.open(\"r\") as handle:\n",
    "        results = json.load(handle)\n",
    "    essence = results[\"essence\"][\"mean\"]\n",
    "    \n",
    "    layers.append(layer)\n",
    "    efficacies.append(efficacy)\n",
    "    fluencies.append(fluency)\n",
    "    consistencies.append(consistency)\n",
    "    essences.append(essence)\n",
    "    \n",
    "\n",
    "    \n",
    "plt.bar(layers, efficacies)"
   ]
  },
  {
   "cell_type": "code",
   "execution_count": null,
   "id": "9e326aef",
   "metadata": {},
   "outputs": [],
   "source": [
    "plt.bar(layers, fluencies)"
   ]
  },
  {
   "cell_type": "code",
   "execution_count": null,
   "id": "657c10b3",
   "metadata": {},
   "outputs": [],
   "source": [
    "plt.bar(layers, consistencies)"
   ]
  },
  {
   "cell_type": "code",
   "execution_count": null,
   "id": "afe7a753",
   "metadata": {},
   "outputs": [],
   "source": [
    "plt.bar(layers, essences)"
   ]
  },
  {
   "cell_type": "markdown",
   "id": "0c64f84e",
   "metadata": {},
   "source": [
    "# Bias Gen Layers Analysis"
   ]
  },
  {
   "cell_type": "code",
   "execution_count": null,
   "id": "602c0e4a",
   "metadata": {},
   "outputs": [],
   "source": [
    "layers = []\n",
    "efficacies = []\n",
    "fluencies = []\n",
    "for layer in tqdm(range(28)):\n",
    "    results_dir = RESULTS_ROOT / \"icml_eval_bias_gen_gptj_small/linear\" / str(layer)\n",
    "\n",
    "    metrics_file = results_dir / \"error_correction_metrics.json\"\n",
    "    if not metrics_file.exists():\n",
    "        print(f\"skipping layer {layer}\")\n",
    "        continue\n",
    "    with metrics_file.open(\"r\") as handle:\n",
    "        results = json.load(handle)\n",
    "    layers.append(layer)\n",
    "    efficacies.append(results[\"top1_accuracy\"])\n",
    "    fluencies.append(results[\"fluency\"][\"mean\"])\n",
    "plt.bar(layers, efficacies)"
   ]
  },
  {
   "cell_type": "code",
   "execution_count": null,
   "id": "a916844e",
   "metadata": {},
   "outputs": [],
   "source": [
    "plt.bar(layers, fluencies)"
   ]
  },
  {
   "cell_type": "code",
   "execution_count": null,
   "id": "739ed3b8",
   "metadata": {},
   "outputs": [],
   "source": [
    "scores = [f * e for f, e in zip(fluencies, efficacies)]\n",
    "plt.bar(layers, scores)"
   ]
  },
  {
   "cell_type": "code",
   "execution_count": null,
   "id": "a544934b",
   "metadata": {},
   "outputs": [],
   "source": []
  }
 ],
 "metadata": {
  "kernelspec": {
   "display_name": "Python 3 (ipykernel)",
   "language": "python",
   "name": "python3"
  },
  "language_info": {
   "codemirror_mode": {
    "name": "ipython",
    "version": 3
   },
   "file_extension": ".py",
   "mimetype": "text/x-python",
   "name": "python",
   "nbconvert_exporter": "python",
   "pygments_lexer": "ipython3",
   "version": "3.10.0"
  }
 },
 "nbformat": 4,
 "nbformat_minor": 5
}
