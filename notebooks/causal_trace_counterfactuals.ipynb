{
 "cells": [
  {
   "cell_type": "code",
   "execution_count": null,
   "id": "62ccda18",
   "metadata": {},
   "outputs": [],
   "source": [
    "device = \"cuda:0\"\n",
    "config = \"gpt2-large\"\n",
    "data_dir = \"data\""
   ]
  },
  {
   "cell_type": "code",
   "execution_count": null,
   "id": "1229055b",
   "metadata": {},
   "outputs": [],
   "source": [
    "import transformers\n",
    "\n",
    "model = transformers.AutoModelForCausalLM.from_pretrained(config).to(device).eval()\n",
    "tokenizer = transformers.AutoTokenizer.from_pretrained(config)\n",
    "tokenizer.pad_token = tokenizer.eos_token"
   ]
  },
  {
   "cell_type": "markdown",
   "id": "1fb5257f",
   "metadata": {},
   "source": [
    "# Does GPT-2 Resolve Counterfactuals?\n",
    "\n",
    "Make a \"contextual CounterFact\" dataset and see how GPT2 does."
   ]
  },
  {
   "cell_type": "code",
   "execution_count": null,
   "id": "90689adf",
   "metadata": {},
   "outputs": [],
   "source": [
    "import dsets\n",
    "import tokenizer_utils\n",
    "from tqdm.auto import tqdm\n",
    "\n",
    "uncapitalize = lambda s: s[0].lower() + s[1:]\n",
    "\n",
    "counterfact = dsets.CounterFactDataset(data_dir)\n",
    "counterfact_ctx = []\n",
    "for index in tqdm(range(len(counterfact))):\n",
    "    sample = counterfact[index]\n",
    "    subject = sample[\"requested_rewrite\"][\"subject\"]\n",
    "    new = sample[\"requested_rewrite\"][\"target_new\"][\"str\"]\n",
    "    true = sample[\"requested_rewrite\"][\"target_true\"][\"str\"]\n",
    "    prompt = sample[\"requested_rewrite\"][\"prompt\"].format(subject)\n",
    "    supposition = sample[\"generation_prompts\"][0].strip()\n",
    "    if not supposition.startswith(subject):\n",
    "        supposition = uncapitalize(supposition)\n",
    "\n",
    "    context = f\"Suppose {supposition} {new}.\"\n",
    "    context_prompt = f\"{context} {prompt}\"\n",
    "    context_prompt_new = f\"{context_prompt} {new}\"\n",
    "    context_prompt_true = f\"{context_prompt} {true}\"\n",
    "    reformatted = {\n",
    "        \"entity\": subject,\n",
    "        \"context\": context,\n",
    "        \"prompt\": prompt,\n",
    "        \"new\": new,\n",
    "        \"true\": true,\n",
    "        \"context_prompt\": context_prompt,\n",
    "        \"context_prompt_new\": context_prompt_new,\n",
    "        \"context_prompt_new_token_range\": tokenizer_utils.find_token_range(\n",
    "            context_prompt_new,\n",
    "            new,\n",
    "            tokenizer,\n",
    "            occurrence=1),\n",
    "        \"context_prompt_true\": context_prompt_true,\n",
    "        \"context_prompt_true_token_range\": tokenizer_utils.find_token_range(context_prompt_true, true, tokenizer),\n",
    "        \"relation_id\": sample[\"requested_rewrite\"][\"relation_id\"],\n",
    "    }\n",
    "    counterfact_ctx.append(reformatted)"
   ]
  },
  {
   "cell_type": "code",
   "execution_count": null,
   "id": "267bf823",
   "metadata": {},
   "outputs": [],
   "source": [
    "counterfact_ctx[14]"
   ]
  },
  {
   "cell_type": "code",
   "execution_count": null,
   "id": "8ffba988",
   "metadata": {},
   "outputs": [],
   "source": [
    "import torch\n",
    "import torch.utils.data\n",
    "\n",
    "def compute_logprobs(outputs, ranges):\n",
    "    seq_token_logprobs = torch.log_softmax(outputs.logits, dim=-1)\n",
    "    \n",
    "    logprobs = []\n",
    "    for token_logprobs, start, end in zip(seq_token_logprobs, *ranges):\n",
    "        logprob = token_logprobs[start:end].sum()\n",
    "        logprobs.append(logprob)\n",
    "    return torch.tensor(logprobs)\n",
    "\n",
    "def evaluate(dataset):\n",
    "    loader = torch.utils.data.DataLoader(dataset, batch_size=64)\n",
    "    correct = 0\n",
    "    with torch.inference_mode():\n",
    "        for batch in tqdm(loader):\n",
    "            logprobs = {}\n",
    "            for key in (\"new\", \"true\"):\n",
    "                texts = batch[f\"context_prompt_{key}\"]\n",
    "                ranges = batch[f\"context_prompt_{key}_token_range\"]\n",
    "                inputs = tokenizer(\n",
    "                    list(texts),\n",
    "                    return_tensors=\"pt\",\n",
    "                    padding=\"longest\").to(device)\n",
    "                outputs = model(**inputs)\n",
    "                logprobs[key] = compute_logprobs(outputs, ranges)\n",
    "            correct += logprobs[\"new\"].gt(logprobs[\"true\"]).sum().item()\n",
    "    return correct / len(dataset)\n",
    "\n",
    "evaluate(counterfact_ctx)"
   ]
  },
  {
   "cell_type": "markdown",
   "id": "749faec7",
   "metadata": {},
   "source": [
    "# Causal Trace CounterFact\n",
    "\n",
    "Convert contextual CounterFact into something like the knowns dataset."
   ]
  },
  {
   "cell_type": "code",
   "execution_count": null,
   "id": "edb7946c",
   "metadata": {},
   "outputs": [],
   "source": [
    "def as_knowns(dataset, key):\n",
    "    reformatteds = []\n",
    "    for index, sample in enumerate(counterfact_ctx):\n",
    "        entity = sample[\"entity\"]\n",
    "        context_prompt = sample[\"context_prompt\"]\n",
    "        reformatted = {\n",
    "            \"known_id\": index,\n",
    "            \"subject\": entity,\n",
    "            \"attribute\": sample[key],\n",
    "            \"template\": context_prompt.replace(f\"{entity}\", \"{}\"),\n",
    "            \"prompt\": context_prompt,\n",
    "            \"relation_id\": sample[\"relation_id\"],\n",
    "        }\n",
    "        reformatteds.append(reformatted)\n",
    "    return reformatteds\n",
    "\n",
    "knowns_counterfact_mediated = as_knowns(counterfact_ctx, \"new\")\n",
    "knowns_counterfact_unmediated = as_knowns(counterfact_ctx, \"true\")"
   ]
  },
  {
   "cell_type": "code",
   "execution_count": null,
   "id": "37bd07db",
   "metadata": {},
   "outputs": [],
   "source": [
    "knowns_counterfact_mediated[0]"
   ]
  },
  {
   "cell_type": "code",
   "execution_count": null,
   "id": "8a467c58",
   "metadata": {},
   "outputs": [],
   "source": [
    "knowns_counterfact_unmediated[0]"
   ]
  },
  {
   "cell_type": "code",
   "execution_count": null,
   "id": "beef43fc",
   "metadata": {},
   "outputs": [],
   "source": [
    "import json\n",
    "import random\n",
    "from pathlib import Path\n",
    "\n",
    "k = 2500\n",
    "for name, dataset in (\n",
    "    (\"mediated\", knowns_counterfact_mediated),\n",
    "    (\"unmediated\", knowns_counterfact_unmediated),\n",
    "):\n",
    "    file = Path(f\"knowns_counterfact_{name}_{k}.json\")\n",
    "    with file.open(\"w\") as handle:\n",
    "        json.dump(random.sample(dataset, k=k), handle)"
   ]
  },
  {
   "cell_type": "markdown",
   "id": "1f4ab9c3",
   "metadata": {},
   "source": [
    "# Causal Trace WINOVENTI"
   ]
  },
  {
   "cell_type": "code",
   "execution_count": null,
   "id": "59f49a53",
   "metadata": {},
   "outputs": [],
   "source": [
    "import csv\n",
    "from pathlib import Path\n",
    "\n",
    "data_file = Path(\"/raid/lingo/dez/data/winoventi.tsv\")\n",
    "with data_file.open(\"r\") as handle:\n",
    "    samples = tuple(csv.DictReader(handle, delimiter=\"\\t\"))\n",
    "samples[2]"
   ]
  },
  {
   "cell_type": "code",
   "execution_count": null,
   "id": "a814f7c8",
   "metadata": {},
   "outputs": [],
   "source": []
  }
 ],
 "metadata": {
  "kernelspec": {
   "display_name": "Python 3",
   "language": "python",
   "name": "python3"
  },
  "language_info": {
   "codemirror_mode": {
    "name": "ipython",
    "version": 3
   },
   "file_extension": ".py",
   "mimetype": "text/x-python",
   "name": "python",
   "nbconvert_exporter": "python",
   "pygments_lexer": "ipython3",
   "version": "3.8.10"
  }
 },
 "nbformat": 4,
 "nbformat_minor": 5
}
