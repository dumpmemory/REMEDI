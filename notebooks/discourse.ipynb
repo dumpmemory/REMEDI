{
 "cells": [
  {
   "cell_type": "code",
   "execution_count": null,
   "id": "b7876c86",
   "metadata": {},
   "outputs": [],
   "source": [
    "import json\n",
    "import pathlib\n",
    "\n",
    "file = pathlib.Path('../results/probe_discourse/gpt-j-6B/occupations-discourse-probed.json')\n",
    "with file.open('r') as handle:\n",
    "    data = json.load(handle)"
   ]
  },
  {
   "cell_type": "code",
   "execution_count": null,
   "id": "9be2bb2c",
   "metadata": {},
   "outputs": [],
   "source": [
    "len(data)"
   ]
  },
  {
   "cell_type": "code",
   "execution_count": null,
   "id": "f28f897e",
   "metadata": {},
   "outputs": [],
   "source": [
    "[x for x in data if 'leonardo dicaprio' in x['entity'].lower()]"
   ]
  },
  {
   "cell_type": "code",
   "execution_count": null,
   "id": "b7a8ea9e",
   "metadata": {},
   "outputs": [],
   "source": [
    "file = pathlib.Path('../data/gpt-j-6B/occupations-discourse-predicted.json')\n",
    "with file.open('r') as handle:\n",
    "    data = json.load(handle)"
   ]
  },
  {
   "cell_type": "code",
   "execution_count": null,
   "id": "73afebce",
   "metadata": {},
   "outputs": [],
   "source": [
    "data"
   ]
  },
  {
   "cell_type": "code",
   "execution_count": null,
   "id": "8bda72be",
   "metadata": {},
   "outputs": [],
   "source": []
  }
 ],
 "metadata": {
  "kernelspec": {
   "display_name": "Python 3",
   "language": "python",
   "name": "python3"
  },
  "language_info": {
   "codemirror_mode": {
    "name": "ipython",
    "version": 3
   },
   "file_extension": ".py",
   "mimetype": "text/x-python",
   "name": "python",
   "nbconvert_exporter": "python",
   "pygments_lexer": "ipython3",
   "version": "3.8.10"
  }
 },
 "nbformat": 4,
 "nbformat_minor": 5
}
