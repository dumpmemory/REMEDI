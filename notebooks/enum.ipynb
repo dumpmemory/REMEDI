{
 "cells": [
  {
   "cell_type": "code",
   "execution_count": null,
   "id": "731461bc",
   "metadata": {},
   "outputs": [],
   "source": [
    "import enum\n",
    "\n",
    "class MyEnum(enum.Enum):\n",
    "    \n",
    "    A = 1, 'bar'\n",
    "    B = 'baz', 'boof'\n",
    "    \n",
    "    def __init__(self, a, b):\n",
    "        self.a = a\n",
    "        self.b = b\n",
    "        \n",
    "MyEnum.A.a"
   ]
  },
  {
   "cell_type": "code",
   "execution_count": null,
   "id": "14ebc8f9",
   "metadata": {},
   "outputs": [],
   "source": []
  }
 ],
 "metadata": {
  "kernelspec": {
   "display_name": "Python 3",
   "language": "python",
   "name": "python3"
  },
  "language_info": {
   "codemirror_mode": {
    "name": "ipython",
    "version": 3
   },
   "file_extension": ".py",
   "mimetype": "text/x-python",
   "name": "python",
   "nbconvert_exporter": "python",
   "pygments_lexer": "ipython3",
   "version": "3.8.10"
  }
 },
 "nbformat": 4,
 "nbformat_minor": 5
}
