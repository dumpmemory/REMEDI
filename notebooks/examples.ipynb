{
 "cells": [
  {
   "cell_type": "code",
   "execution_count": 2,
   "id": "be73d5c5",
   "metadata": {},
   "outputs": [],
   "source": [
    "device = 'cuda:1'"
   ]
  },
  {
   "cell_type": "code",
   "execution_count": 3,
   "id": "fc191d39",
   "metadata": {},
   "outputs": [],
   "source": [
    "import transformers\n",
    "tokenizer = transformers.GPT2Tokenizer.from_pretrained('EleutherAI/gpt-neo-1.3B')\n",
    "gpt = transformers.GPTNeoForCausalLM.from_pretrained('EleutherAI/gpt-neo-1.3B').to(device)"
   ]
  },
  {
   "cell_type": "markdown",
   "id": "d201c686",
   "metadata": {},
   "source": [
    "Can we alter the language model's knowledge of entities or object properties/affordances, using only the discourse context?"
   ]
  },
  {
   "cell_type": "code",
   "execution_count": 4,
   "id": "c7054e5f",
   "metadata": {},
   "outputs": [
    {
     "name": "stderr",
     "output_type": "stream",
     "text": [
      "Setting `pad_token_id` to `eos_token_id`:50256 for open-end generation.\n"
     ]
    },
    {
     "data": {
      "text/plain": [
       "'Barrack Obama is a twenty-seven year old firefighter in Kansas. What are his responsibilities? He is the President of the United States. He is the Commander-in-Chief'"
      ]
     },
     "execution_count": 4,
     "metadata": {},
     "output_type": "execute_result"
    }
   ],
   "source": [
    "# Interesting examples where discourse overwrites commonsense:\n",
    "# prompt = 'A banana is a purple fruit. Oranges are colored'\n",
    "# prompt = 'Bananas are colored'\n",
    "\n",
    "prompt = 'Barrack Obama is a twenty-seven year old firefighter in Kansas. What are his responsibilities?'\n",
    "# prompt = 'What are Barrack Obama\\'s responsibilities?'\n",
    "\n",
    "# prompt = 'I cut down my tree with a'\n",
    "# prompt = ('A fork is a single-handed striking tool with a sharp blade. A hatchet is a blunt utensil used for eating soup. '\n",
    "#           'I cut down the tree with a')\n",
    "\n",
    "# prompt = 'A banana is a kitchen utensil. I planted my flowers in my garden using a'\n",
    "\n",
    "# Interesting examples where discourse *does not* overwrite commensense:\n",
    "#prompt = 'Steve jobs dropped out of'\n",
    "#prompt = 'Bill Gates invented the iPhone and founded Apple. He dropped out of'\n",
    "\n",
    "inputs = tokenizer(prompt, return_tensors='pt')\n",
    "completion = gpt.generate(inputs.input_ids.to(device), max_length=37)\n",
    "tokenizer.decode(completion.squeeze().tolist())"
   ]
  },
  {
   "cell_type": "code",
   "execution_count": null,
   "id": "735d6a14",
   "metadata": {},
   "outputs": [],
   "source": []
  }
 ],
 "metadata": {
  "kernelspec": {
   "display_name": "Python 3",
   "language": "python",
   "name": "python3"
  },
  "language_info": {
   "codemirror_mode": {
    "name": "ipython",
    "version": 3
   },
   "file_extension": ".py",
   "mimetype": "text/x-python",
   "name": "python",
   "nbconvert_exporter": "python",
   "pygments_lexer": "ipython3",
   "version": "3.8.10"
  }
 },
 "nbformat": 4,
 "nbformat_minor": 5
}
