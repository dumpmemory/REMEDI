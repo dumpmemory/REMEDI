{
 "cells": [
  {
   "cell_type": "code",
   "execution_count": null,
   "id": "484f6e48",
   "metadata": {},
   "outputs": [],
   "source": [
    "!ls ../results"
   ]
  },
  {
   "cell_type": "code",
   "execution_count": null,
   "id": "ae5e865e",
   "metadata": {},
   "outputs": [],
   "source": [
    "import json\n",
    "from pathlib import Path\n",
    "\n",
    "import pandas as pd\n",
    "from scipy.stats import hmean\n",
    "\n",
    "RESULTS_ROOT = Path(\"../../results\")\n",
    "\n",
    "\n",
    "def load_json(file):\n",
    "    with file.open(\"r\") as handle:\n",
    "        return json.load(handle)\n",
    "\n",
    "\n",
    "def layer_dirs(results_dir):\n",
    "    return sorted(results_dir.iterdir(), key=lambda x: int(x.name))\n",
    "\n",
    "\n",
    "def load_metrics(model, dataset):\n",
    "    gen_results_dir = RESULTS_ROOT / f\"post_icml_sweep_gen_{dataset}_{model}\"\n",
    "    assert gen_results_dir.exists()\n",
    "\n",
    "    if dataset == \"biosbias\":\n",
    "        gen_results_dir /= \"contextual\"\n",
    "\n",
    "    rows = []\n",
    "    for gen_layer_dir in layer_dirs(gen_results_dir / \"linear\"):\n",
    "        layer = int(gen_layer_dir.name)\n",
    "        if dataset == \"counterfact\":\n",
    "            efficacy = load_json(gen_layer_dir / \"efficacy_metrics.json\")\n",
    "            paraphrase = load_json(gen_layer_dir / \"paraphrase_metrics.json\")\n",
    "            generation = load_json(gen_layer_dir / \"generation_metrics.json\")\n",
    "            essence = load_json(gen_layer_dir / \"essence_metrics.json\")\n",
    "\n",
    "            efficacy_score = efficacy[\"score\"][\"mean\"]\n",
    "            fluency_score = generation[\"fluency\"][\"mean\"]\n",
    "            row = {\n",
    "                \"layer\": layer,\n",
    "                \"efficacy\": efficacy_score,\n",
    "                \"consistency\": generation[\"consistency\"][\"mean\"],\n",
    "                \"fluency\": fluency_score,\n",
    "                \"essence\": essence[\"essence\"][\"mean\"],\n",
    "                \"score\": hmean([efficacy_score, fluency_score])\n",
    "            }\n",
    "        else:\n",
    "            assert dataset == \"biosbias\"\n",
    "            correction = load_json(gen_layer_dir / \"error_correction_metrics.json\")\n",
    "            accuracy_score = correction[\"topk_accuracy\"]\n",
    "            fluency_score = correction[\"fluency\"][\"mean\"]\n",
    "            row = {\n",
    "                \"layer\": layer,\n",
    "                \"topk_accuracy\": accuracy_score,\n",
    "                \"consistency\": correction[\"consistency\"][\"mean\"],\n",
    "                \"fluency\": fluency_score,\n",
    "                \"score\": hmean([accuracy_score, fluency_score])\n",
    "            }\n",
    "        rows.append(row)\n",
    "    return pd.DataFrame(rows)"
   ]
  },
  {
   "cell_type": "code",
   "execution_count": null,
   "id": "a611b5bb",
   "metadata": {},
   "outputs": [],
   "source": [
    "import matplotlib.pyplot as plt\n",
    "import seaborn as sns\n",
    "\n",
    "\n",
    "MODEL_PLOT_NAMES = {\n",
    "    \"gptj\": \"GPT-J\",\n",
    "    \"gpt2\": \"GPT2\",\n",
    "    \"gpt2-xl\": \"GPT2-XL\",\n",
    "}\n",
    "\n",
    "DATASET_PLOT_NAMES = {\n",
    "    \"counterfact\": \"CounterFact\",\n",
    "    \"biosbias\": \"Bios\",\n",
    "}\n",
    "\n",
    "def plot_scores_by_layer(model, dataset):\n",
    "    metrics = load_metrics(model, dataset)\n",
    "    \n",
    "    sns.set(rc={\"figure.figsize\": (10, 4) if model != \"gpt2\" else (5, 2)})\n",
    "    sns.set_style({'font.family':'serif', 'font.serif':['Times New Roman']})\n",
    "\n",
    "    colors = [\"g\" if (x < max(metrics.score)) else \"darkgreen\" for x in metrics.score]\n",
    "    sns.barplot(\n",
    "        x=\"layer\",\n",
    "        y=\"score\",\n",
    "        data=metrics,\n",
    "        palette=colors,\n",
    "    )\n",
    "    plt.title(f\"REMEDI Performance on {DATASET_PLOT_NAMES[dataset]}/{MODEL_PLOT_NAMES[model]}\")\n",
    "    plt.ylabel(\"H-Mean of Fl. / Eff.\")\n",
    "    plt.xlabel(\"Layer\")\n",
    "    if model == \"gpt2-xl\":\n",
    "        plt.xticks(range(0, 48, 4))\n",
    "plot_scores_by_layer(\"gptj\", \"counterfact\")"
   ]
  },
  {
   "cell_type": "code",
   "execution_count": null,
   "id": "a5410c4a",
   "metadata": {},
   "outputs": [],
   "source": [
    "plot_scores_by_layer(\"gptj\", \"biosbias\")"
   ]
  },
  {
   "cell_type": "code",
   "execution_count": null,
   "id": "c27606b3",
   "metadata": {},
   "outputs": [],
   "source": [
    "plot_scores_by_layer(\"gpt2-xl\", \"counterfact\")"
   ]
  },
  {
   "cell_type": "code",
   "execution_count": null,
   "id": "74a74575",
   "metadata": {},
   "outputs": [],
   "source": [
    "plot_scores_by_layer(\"gpt2-xl\", \"biosbias\")"
   ]
  },
  {
   "cell_type": "code",
   "execution_count": null,
   "id": "3bc8c8da",
   "metadata": {},
   "outputs": [],
   "source": [
    "plot_scores_by_layer(\"gpt2\", \"counterfact\")"
   ]
  },
  {
   "cell_type": "code",
   "execution_count": null,
   "id": "a6e86859",
   "metadata": {},
   "outputs": [],
   "source": [
    "plot_scores_by_layer(\"gpt2\", \"biosbias\")"
   ]
  },
  {
   "cell_type": "code",
   "execution_count": null,
   "id": "a2497d64",
   "metadata": {},
   "outputs": [],
   "source": []
  },
  {
   "cell_type": "code",
   "execution_count": null,
   "id": "6ad5e882",
   "metadata": {},
   "outputs": [],
   "source": []
  }
 ],
 "metadata": {
  "kernelspec": {
   "display_name": "Python 3 (ipykernel)",
   "language": "python",
   "name": "python3"
  },
  "language_info": {
   "codemirror_mode": {
    "name": "ipython",
    "version": 3
   },
   "file_extension": ".py",
   "mimetype": "text/x-python",
   "name": "python",
   "nbconvert_exporter": "python",
   "pygments_lexer": "ipython3",
   "version": "3.10.0"
  }
 },
 "nbformat": 4,
 "nbformat_minor": 5
}
