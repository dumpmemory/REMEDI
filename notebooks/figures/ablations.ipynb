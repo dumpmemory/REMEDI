{
 "cells": [
  {
   "cell_type": "markdown",
   "id": "b8dff8c2",
   "metadata": {},
   "source": [
    "# Generation Tasks: Performance by Layer"
   ]
  },
  {
   "cell_type": "code",
   "execution_count": null,
   "id": "ae5e865e",
   "metadata": {},
   "outputs": [],
   "source": [
    "import json\n",
    "from pathlib import Path\n",
    "\n",
    "import pandas as pd\n",
    "from scipy.stats import hmean\n",
    "\n",
    "RESULTS_ROOT = Path(\"../../results\")\n",
    "\n",
    "\n",
    "def load_json(file):\n",
    "    with file.open(\"r\") as handle:\n",
    "        return json.load(handle)\n",
    "\n",
    "\n",
    "def layer_dirs(results_dir):\n",
    "    return sorted(results_dir.iterdir(), key=lambda x: int(x.name))\n",
    "\n",
    "\n",
    "def load_gen_metrics(model, dataset):\n",
    "    gen_results_dir = RESULTS_ROOT / f\"emnlp_sweep_gen_{dataset}_{model}\"\n",
    "    assert gen_results_dir.exists()\n",
    "\n",
    "    if dataset == \"biosbias\":\n",
    "        gen_results_dir /= \"decontextual\"\n",
    "\n",
    "    rows = []\n",
    "    for gen_layer_dir in layer_dirs(gen_results_dir / \"linear\")[:-1]:\n",
    "        layer = int(gen_layer_dir.name)\n",
    "        if dataset == \"counterfact\":\n",
    "            efficacy = load_json(gen_layer_dir / \"efficacy_metrics.json\")\n",
    "            paraphrase = load_json(gen_layer_dir / \"paraphrase_metrics.json\")\n",
    "            generation = load_json(gen_layer_dir / \"generation_metrics.json\")\n",
    "            essence = load_json(gen_layer_dir / \"essence_metrics.json\")\n",
    "\n",
    "            efficacy_score = paraphrase[\"score\"][\"mean\"]\n",
    "            fluency_score = generation[\"fluency\"][\"mean\"]\n",
    "            consistency_score = generation[\"consistency\"][\"mean\"]\n",
    "            essence_score = essence[\"essence\"][\"mean\"]\n",
    "            row = {\n",
    "                \"layer\": layer,\n",
    "                \"efficacy\": efficacy_score,\n",
    "                \"consistency\": consistency_score,\n",
    "                \"fluency\": fluency_score,\n",
    "                \"essence\": essence_score,\n",
    "                \"score\": hmean([\n",
    "                    efficacy_score,\n",
    "                    consistency_score,\n",
    "                    fluency_score,\n",
    "                    # To be consistent with ROME, we won't use essence for layer sel.\n",
    "                    # essence_score\n",
    "                ]),\n",
    "            }\n",
    "        else:\n",
    "            assert dataset == \"biosbias\"\n",
    "            correction = load_json(gen_layer_dir / \"error_correction_metrics.json\")\n",
    "            accuracy_score = correction[\"top1_accuracy\"]\n",
    "            fluency_score = correction[\"fluency\"][\"mean\"]\n",
    "            row = {\n",
    "                \"layer\": layer,\n",
    "                \"top1_accuracy\": accuracy_score,\n",
    "                \"consistency\": correction[\"consistency\"][\"mean\"],\n",
    "                \"fluency\": fluency_score,\n",
    "                \"score\": hmean([accuracy_score, fluency_score])\n",
    "            }\n",
    "        rows.append(row)\n",
    "    return pd.DataFrame(rows)"
   ]
  },
  {
   "cell_type": "code",
   "execution_count": null,
   "id": "a611b5bb",
   "metadata": {},
   "outputs": [],
   "source": [
    "import matplotlib.pyplot as plt\n",
    "import seaborn as sns\n",
    "\n",
    "\n",
    "MODEL_PLOT_NAMES = {\n",
    "    \"gptj\": \"GPT-J\",\n",
    "    \"gpt2\": \"GPT2\",\n",
    "    \"gpt2-xl\": \"GPT2-XL\",\n",
    "}\n",
    "\n",
    "DATASET_PLOT_NAMES = {\n",
    "    \"counterfact\": \"CounterFact\",\n",
    "    \"biosbias\": \"Bios\",\n",
    "}\n",
    "\n",
    "\n",
    "def plot_gen_scores_by_layer(model, dataset):\n",
    "    metrics = load_gen_metrics(model, dataset)\n",
    "\n",
    "    sns.set(rc={\"figure.figsize\": (10, 4) if model == \"gpt2-xl\" else (5, 2)})\n",
    "    sns.set_style({'font.family':'serif', 'font.serif':['Times New Roman']})\n",
    "\n",
    "    colors = [\"b\" if (x < max(metrics.score)) else \"darkblue\" for x in metrics.score]\n",
    "    sns.barplot(\n",
    "        x=\"layer\",\n",
    "        y=\"score\",\n",
    "        data=metrics,\n",
    "        palette=colors,\n",
    "    )\n",
    "    plt.title(f\"REMEDI Score across Layers ({DATASET_PLOT_NAMES[dataset]})\")\n",
    "    plt.ylabel(\"Score\")\n",
    "    plt.xlabel(\"Layer\")\n",
    "    plt.xticks(range(0, len(colors), 4 if model != \"gpt2\" else 1))\n",
    "    plt.tight_layout()\n",
    "    plt.savefig(f\"layers_gen_{model}_{dataset}.pdf\")\n",
    "plot_gen_scores_by_layer(\"gptj\", \"counterfact\")"
   ]
  },
  {
   "cell_type": "code",
   "execution_count": null,
   "id": "a5410c4a",
   "metadata": {},
   "outputs": [],
   "source": [
    "plot_gen_scores_by_layer(\"gptj\", \"biosbias\")"
   ]
  },
  {
   "cell_type": "code",
   "execution_count": null,
   "id": "c27606b3",
   "metadata": {},
   "outputs": [],
   "source": [
    "plot_gen_scores_by_layer(\"gpt2-xl\", \"counterfact\")"
   ]
  },
  {
   "cell_type": "code",
   "execution_count": null,
   "id": "924fe314",
   "metadata": {},
   "outputs": [],
   "source": [
    "plot_gen_scores_by_layer(\"gpt2-xl\", \"biosbias\")"
   ]
  },
  {
   "cell_type": "code",
   "execution_count": null,
   "id": "3bc8c8da",
   "metadata": {},
   "outputs": [],
   "source": [
    "plot_gen_scores_by_layer(\"gpt2\", \"counterfact\")"
   ]
  },
  {
   "cell_type": "code",
   "execution_count": null,
   "id": "a6e86859",
   "metadata": {},
   "outputs": [],
   "source": [
    "plot_gen_scores_by_layer(\"gpt2\", \"biosbias\")"
   ]
  },
  {
   "cell_type": "markdown",
   "id": "98e61dd7",
   "metadata": {},
   "source": [
    "# Classification Tasks: Performance by Layer"
   ]
  },
  {
   "cell_type": "code",
   "execution_count": null,
   "id": "1d6bfaa6",
   "metadata": {},
   "outputs": [],
   "source": [
    "import re\n",
    "\n",
    "METRICS_FILE_PATTERN = re.compile(r\"[a-zA-z_]+_layer_(\\d+)_metrics.json\")\n",
    "\n",
    "def get_editor_layer_dir(results_dir):\n",
    "    return next(iter(layer_dirs(results_dir / \"linear\")))\n",
    "\n",
    "def load_cls_metrics(model, dataset):\n",
    "    results_dir = RESULTS_ROOT / f\"post_icml_sweep_cls_{dataset}_{model}\"\n",
    "    assert results_dir.exists()\n",
    "\n",
    "    editor_layer_dir = get_editor_layer_dir(results_dir)\n",
    "\n",
    "    metrics_by_entity_layer = {}\n",
    "    for file in editor_layer_dir.iterdir():\n",
    "        match = METRICS_FILE_PATTERN.match(file.name)\n",
    "        if not match:\n",
    "            continue\n",
    "        layer = int(match.group(1))\n",
    "        metrics_by_entity_layer[layer] = load_json(file)\n",
    "\n",
    "    rows = []\n",
    "    for missing in range(min(metrics_by_entity_layer)):\n",
    "        rows.append({\n",
    "            \"layer\": missing,\n",
    "            \"f1\": 0,\n",
    "            \"mcc\": 0,\n",
    "        })\n",
    "    \n",
    "    for layer, metrics in sorted(metrics_by_entity_layer.items(), key=lambda kv: kv[0]):\n",
    "        if dataset == \"counterfact\":\n",
    "            row = {\n",
    "                \"layer\": layer,\n",
    "                \"f1\": metrics[\"contextual\"][\"f1\"],\n",
    "                \"mcc\": metrics[\"contextual\"][\"mcc\"],\n",
    "            }\n",
    "        else:\n",
    "            assert dataset == \"biosbias\"\n",
    "            row = {\n",
    "                \"layer\": layer,\n",
    "                \"f1\": metrics[\"f1\"],\n",
    "                \"mcc\": metrics[\"mcc\"],\n",
    "            }\n",
    "        rows.append(row)\n",
    "    return pd.DataFrame(rows)\n",
    "\n",
    "load_cls_metrics(\"gptj\", \"counterfact\")"
   ]
  },
  {
   "cell_type": "code",
   "execution_count": null,
   "id": "4bf1d0a0",
   "metadata": {},
   "outputs": [],
   "source": [
    "import numpy as np\n",
    "\n",
    "\n",
    "def plot_cls_scores_by_layer(model, dataset, metric=\"mcc\"):\n",
    "    metrics = load_cls_metrics(model, dataset)\n",
    "\n",
    "    sns.set(rc={\"figure.figsize\": (10, 4) if model == \"gpt2-xl\" else (5, 2)})\n",
    "    sns.set_style({'font.family':'serif', 'font.serif':['Times New Roman']})\n",
    "\n",
    "    colors = [\"b\" if (x < max(metrics.f1)) else \"darkblue\" for x in metrics.f1]\n",
    "    sns.barplot(\n",
    "        x=\"layer\",\n",
    "        y=metric,\n",
    "        data=metrics,\n",
    "        palette=colors,\n",
    "    )\n",
    "    plt.title(f\"REMEDI Classification F1 ({DATASET_PLOT_NAMES[dataset]})\")\n",
    "    plt.ylabel(metric.upper())\n",
    "    plt.xlabel(\"Layer\")\n",
    "    plt.xticks(range(0, len(colors), 4 if model != \"gpt2\" else 1))\n",
    "    plt.yticks(np.linspace(0, 1, 3))\n",
    "    plt.tight_layout()\n",
    "    plt.savefig(f\"layers_cls_{model}_{dataset}.pdf\")\n",
    "\n",
    "plot_cls_scores_by_layer(\"gptj\", \"counterfact\", metric=\"f1\")"
   ]
  },
  {
   "cell_type": "code",
   "execution_count": null,
   "id": "0cd7bdba",
   "metadata": {},
   "outputs": [],
   "source": [
    "plot_cls_scores_by_layer(\"gptj\", \"biosbias\", metric=\"f1\")"
   ]
  },
  {
   "cell_type": "code",
   "execution_count": null,
   "id": "8613992b",
   "metadata": {},
   "outputs": [],
   "source": [
    "plot_cls_scores_by_layer(\"gpt2-xl\", \"counterfact\", metric=\"f1\")"
   ]
  },
  {
   "cell_type": "code",
   "execution_count": null,
   "id": "3c6212bb",
   "metadata": {},
   "outputs": [],
   "source": [
    "plot_cls_scores_by_layer(\"gpt2\", \"counterfact\", metric=\"f1\")"
   ]
  },
  {
   "cell_type": "code",
   "execution_count": null,
   "id": "309be908",
   "metadata": {},
   "outputs": [],
   "source": [
    "plot_cls_scores_by_layer(\"gpt2-xl\", \"biosbias\", metric=\"f1\")"
   ]
  },
  {
   "cell_type": "code",
   "execution_count": null,
   "id": "5bf4bd0e",
   "metadata": {},
   "outputs": [],
   "source": [
    "plot_cls_scores_by_layer(\"gpt2\", \"biosbias\", metric=\"f1\")"
   ]
  },
  {
   "cell_type": "markdown",
   "id": "99767b98",
   "metadata": {},
   "source": [
    "# Entailment Task: Performance by Layer"
   ]
  },
  {
   "cell_type": "code",
   "execution_count": null,
   "id": "8ed66e67",
   "metadata": {},
   "outputs": [],
   "source": [
    "def load_ent_metrics(model):\n",
    "    results_dir = RESULTS_ROOT / f\"post_icml_sweep_ent_mcrae_{model}\"\n",
    "    assert results_dir.exists()\n",
    "\n",
    "    rows = []\n",
    "    for editor_layer_dir in layer_dirs(results_dir / \"linear\"):\n",
    "        if not editor_layer_dir.is_dir():\n",
    "            continue\n",
    "        metrics_file = editor_layer_dir / \"entailment_metrics.json\"\n",
    "        metrics = load_json(metrics_file)\n",
    "        row = {\n",
    "            \"layer\": int(editor_layer_dir.name),\n",
    "            **{key: value[\"mean\"] for key, value in metrics.items()}\n",
    "        }\n",
    "        rows.append(row)\n",
    "\n",
    "    return pd.DataFrame(rows)\n",
    "\n",
    "load_ent_metrics(\"gptj\")"
   ]
  },
  {
   "cell_type": "code",
   "execution_count": null,
   "id": "624f67e2",
   "metadata": {},
   "outputs": [],
   "source": [
    "plt.rcParams[\"font.family\"] = \"serif\"\n",
    "plt.rcParams[\"mathtext.fontset\"] = \"dejavuserif\"\n",
    "\n",
    "def plot_ent_scores_by_layer(model, metric=\"co_corr_post\"):\n",
    "    metrics = load_ent_metrics(model)\n",
    "\n",
    "    sns.set(rc={\"figure.figsize\": (10, 4) if model == \"gpt2-xl\" else (5, 2)})\n",
    "    sns.set_style({'font.family':'serif', 'font.serif':['Times New Roman']})\n",
    "\n",
    "    values = getattr(metrics, metric)\n",
    "    colors = [\"b\" if (x < max(values)) else \"darkblue\" for x in values]\n",
    "    sns.barplot(\n",
    "        x=\"layer\",\n",
    "        y=metric,\n",
    "        data=metrics,\n",
    "        palette=colors,\n",
    "    )\n",
    "    plt.title(f\"REMEDI LM-Human Correlation (McRae)\")\n",
    "    plt.ylabel(\"$r(p_{LM}, p_H)$\")\n",
    "    plt.xlabel(\"Layer\")\n",
    "    plt.xticks(range(0, len(colors), 4 if model != \"gpt2\" else 1))\n",
    "#     plt.yticks(np.linspace(0, .5, 3))\n",
    "    plt.tight_layout()\n",
    "    plt.savefig(f\"layers_ent_{model}_mcrae.pdf\")\n",
    "\n",
    "plot_ent_scores_by_layer(\"gptj\")"
   ]
  },
  {
   "cell_type": "code",
   "execution_count": null,
   "id": "6ae87ecd",
   "metadata": {},
   "outputs": [],
   "source": [
    "plot_ent_scores_by_layer(\"gpt2-xl\")"
   ]
  },
  {
   "cell_type": "code",
   "execution_count": null,
   "id": "4e48de87",
   "metadata": {},
   "outputs": [],
   "source": [
    "plot_ent_scores_by_layer(\"gpt2\")"
   ]
  },
  {
   "cell_type": "code",
   "execution_count": null,
   "id": "4a367af6",
   "metadata": {},
   "outputs": [],
   "source": [
    "np.linspace(0, 1, 11)"
   ]
  },
  {
   "cell_type": "code",
   "execution_count": null,
   "id": "1d7503bd",
   "metadata": {},
   "outputs": [],
   "source": []
  }
 ],
 "metadata": {
  "kernelspec": {
   "display_name": "Python 3 (ipykernel)",
   "language": "python",
   "name": "python3"
  },
  "language_info": {
   "codemirror_mode": {
    "name": "ipython",
    "version": 3
   },
   "file_extension": ".py",
   "mimetype": "text/x-python",
   "name": "python",
   "nbconvert_exporter": "python",
   "pygments_lexer": "ipython3",
   "version": "3.10.0"
  }
 },
 "nbformat": 4,
 "nbformat_minor": 5
}
