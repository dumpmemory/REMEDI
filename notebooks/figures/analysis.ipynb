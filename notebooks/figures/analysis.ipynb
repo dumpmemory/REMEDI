{
 "cells": [
  {
   "cell_type": "code",
   "execution_count": null,
   "id": "6e39fc34",
   "metadata": {},
   "outputs": [],
   "source": [
    "from pathlib import Path\n",
    "\n",
    "RESULTS_ROOT = Path(\"../../results\")"
   ]
  },
  {
   "cell_type": "code",
   "execution_count": null,
   "id": "15a037d7",
   "metadata": {},
   "outputs": [],
   "source": [
    "import sys\n",
    "sys.path.append(\"../..\")\n",
    "\n",
    "from experiments.aliases import REMEDI_EDITOR_LAYER, REMEDI_ENTITY_CLS_LAYER"
   ]
  },
  {
   "cell_type": "markdown",
   "id": "0ee6d62b",
   "metadata": {},
   "source": [
    "# How Big Are Directions?"
   ]
  },
  {
   "cell_type": "code",
   "execution_count": null,
   "id": "332e2fae",
   "metadata": {},
   "outputs": [],
   "source": [
    "MODEL = \"gptj\"\n",
    "DATASET = \"biosbias\"\n",
    "\n",
    "EXPERIMENT_NAME = f\"post_icml_directions_{DATASET}_{MODEL}\"\n",
    "REMEDI_LAYER = REMEDI_EDITOR_LAYER[MODEL][DATASET]"
   ]
  },
  {
   "cell_type": "code",
   "execution_count": null,
   "id": "be77e423",
   "metadata": {},
   "outputs": [],
   "source": [
    "import torch\n",
    "from tqdm.auto import tqdm\n",
    "\n",
    "\n",
    "def load_results(results_dir, layer):\n",
    "    return torch.load(results_dir / str(layer) / \"dump.pth\",\n",
    "                      map_location=\"cpu\")\n",
    "\n",
    "\n",
    "def load_results_by_layer(results_dir):\n",
    "    results_by_layer = {}\n",
    "    for layer_dir in tqdm(layer_dirs(results_dir)):\n",
    "        layer = int(layer_dir.name)\n",
    "        results_by_layer[layer] = load_results(results_dir, layer) \n",
    "    return results_by_layer\n",
    "\n",
    "\n",
    "results_dir = RESULTS_ROOT / EXPERIMENT_NAME / \"linear\"\n",
    "assert results_dir.exists()\n",
    "results = load_results(results_dir, REMEDI_LAYER)"
   ]
  },
  {
   "cell_type": "code",
   "execution_count": null,
   "id": "85a1d173",
   "metadata": {},
   "outputs": [],
   "source": [
    "from collections import defaultdict\n",
    "\n",
    "pre_entity_norms_by_layer = defaultdict(list)\n",
    "post_entity_norms_by_layer = defaultdict(list)\n",
    "for x in results:\n",
    "    for key, d in (\n",
    "        (\"h_entity_pre\", pre_entity_norms_by_layer),\n",
    "        (\"h_entity_post\", post_entity_norms_by_layer),\n",
    "    ):\n",
    "        for layer, h_entity in x[key].items():\n",
    "            d[layer].append(h_entity.float().norm())\n",
    "\n",
    "direction_norms = [x[\"direction\"].float().detach().cpu().norm() for x in results]\n",
    "            \n",
    "post_entity_norms_by_layer = {\n",
    "    layer: [norm - pre_entity_norms_by_layer[layer][i] for i, norm in enumerate(norms)]\n",
    "    for layer, norms in post_entity_norms_by_layer.items()\n",
    "}"
   ]
  },
  {
   "cell_type": "code",
   "execution_count": null,
   "id": "d0876b7e",
   "metadata": {},
   "outputs": [],
   "source": [
    "import numpy as np\n",
    "import pandas as pd\n",
    "\n",
    "df = pd.DataFrame(\n",
    "    {\n",
    "        \"layer\": layer,\n",
    "        \"Entity Rep\": np.mean(pre_entity_norms_by_layer[layer]),\n",
    "        \"+REMEDI\": np.mean(post_entity_norms_by_layer[layer]),\n",
    "    }\n",
    "    for layer in pre_entity_norms_by_layer\n",
    ")"
   ]
  },
  {
   "cell_type": "code",
   "execution_count": null,
   "id": "e6d4fccb",
   "metadata": {},
   "outputs": [],
   "source": [
    "import matplotlib.pyplot as plt\n",
    "import numpy as np\n",
    "import seaborn as sns\n",
    "\n",
    "MODEL_PLOT_NAMES = {\n",
    "    \"gptj\": \"GPT-J\",\n",
    "    \"gpt2\": \"GPT2\",\n",
    "    \"gpt2-xl\": \"GPT2-XL\"\n",
    "}\n",
    "\n",
    "DATASET_PLOT_NAMES = {\n",
    "    \"mcrae\": \"McRae\",\n",
    "    \"counterfact\": \"CounterFact\",\n",
    "    \"biosbias\": \"Bios\",\n",
    "}\n",
    "\n",
    "sns.set()\n",
    "sns.set_style({'font.family':'serif', 'font.serif':['Times New Roman']})\n",
    "\n",
    "df.plot(\n",
    "    kind=\"bar\",\n",
    "    x=\"layer\",\n",
    "    stacked=True,\n",
    "    color=['b', 'darkblue'],\n",
    "    figsize=(8, 4),\n",
    "    rot=0,\n",
    ")\n",
    "\n",
    "y0 = np.mean(direction_norms)\n",
    "plt.plot(\n",
    "    [0, len(pre_entity_norms_by_layer)],\n",
    "    [y0, y0],\n",
    "    linestyle='dotted',\n",
    "    color='black',\n",
    ")\n",
    "\n",
    "plt.xlabel(\"Layer\")\n",
    "plt.xticks(range(0, 28, 4))\n",
    "plt.ylabel(\"Norm\")\n",
    "plt.legend(labels=[\"REMEDI Direction\", \"Entity\", \"+ Direction\"])\n",
    "plt.title(f\"Rep. Norms ({DATASET_PLOT_NAMES[DATASET]})\")\n",
    "plt.tight_layout()\n",
    "plt.savefig(f\"norms_{MODEL}_{DATASET}.pdf\")"
   ]
  },
  {
   "cell_type": "markdown",
   "id": "5d99e506",
   "metadata": {},
   "source": [
    "# Visualize Directions\n",
    "\n",
    "Make a little t-SNE plot of the McRae directions."
   ]
  },
  {
   "cell_type": "code",
   "execution_count": null,
   "id": "a26928e5",
   "metadata": {},
   "outputs": [],
   "source": [
    "EXPERIMENT_NAME = \"post_icml_directions_mcrae_gptj\"\n",
    "REMEDI_LAYER = REMEDI_EDITOR_LAYER[MODEL][\"mcrae\"]\n",
    "LIMIT = 1000"
   ]
  },
  {
   "cell_type": "code",
   "execution_count": null,
   "id": "393da3e8",
   "metadata": {},
   "outputs": [],
   "source": [
    "results_dir = RESULTS_ROOT / EXPERIMENT_NAME\n",
    "results = load_results(results_dir / \"linear\", REMEDI_LAYER)"
   ]
  },
  {
   "cell_type": "code",
   "execution_count": null,
   "id": "67d943d6",
   "metadata": {},
   "outputs": [],
   "source": [
    "def mean_and_std(values):\n",
    "    values = np.array([v.detach().cpu().float().numpy() for v in values])\n",
    "    return np.mean(values, axis=0), np.std(values, axis=0)\n",
    "\n",
    "d_mean, d_std = mean_and_std([x[\"direction\"] for x in results])\n",
    "e_mean, e_std = mean_and_std([x[\"h_entity_pre\"][REMEDI_LAYER] for x in results])"
   ]
  },
  {
   "cell_type": "code",
   "execution_count": null,
   "id": "8d30fdc9",
   "metadata": {},
   "outputs": [],
   "source": [
    "import numpy as np\n",
    "from sklearn.decomposition import PCA\n",
    "from sklearn.manifold import TSNE\n",
    "\n",
    "\n",
    "directions_seen = set()\n",
    "directions_labels = []\n",
    "directions = []\n",
    "for x in results[:100]:\n",
    "    if len(directions_labels) >= LIMIT:\n",
    "        break\n",
    "\n",
    "    attribute = x[\"attribute\"]\n",
    "    if attribute in directions_seen:\n",
    "        continue\n",
    "    directions_seen.add(attribute)\n",
    "\n",
    "    directions_labels.append(attribute)\n",
    "    directions.append((x[\"direction\"].detach().squeeze().numpy() - d_mean) / d_std)\n",
    "\n",
    "entities_seen = set()\n",
    "entities_labels = []\n",
    "entities = []\n",
    "for x in results[:50]:\n",
    "    if len(entities_labels) >= 0:# LIMIT:\n",
    "        break\n",
    "\n",
    "    entity = x[\"entity\"]\n",
    "    if entity in entities_seen:\n",
    "        continue\n",
    "    entities_seen.add(entity)\n",
    "\n",
    "    entities_labels.append(entity)\n",
    "    entities.append((x[\"h_entity_pre\"][REMEDI_LAYER].detach().squeeze().numpy() - e_mean) / e_std)\n",
    "\n",
    "labels = directions_labels + entities_labels\n",
    "vectors = np.array(directions + entities)\n",
    "\n",
    "xys = PCA(n_components=2).fit_transform(vectors)\n",
    "# xys = TSNE(\n",
    "#     n_components=2,\n",
    "#     learning_rate='auto',\n",
    "#     init='random',\n",
    "#     perplexity=3,\n",
    "# ).fit_transform(vectors)"
   ]
  },
  {
   "cell_type": "code",
   "execution_count": null,
   "id": "16bb9431",
   "metadata": {},
   "outputs": [],
   "source": [
    "xs = [x for x, _ in xys]\n",
    "ys = [y for _, y in xys]\n",
    "cs = ['b' for _ in range(len(directions))] + ['g' for _ in range(len(entities))]\n",
    "\n",
    "sns.set(font_scale=5)\n",
    "sns.set_style({'font.family':'serif', 'font.serif':['Times New Roman']})\n",
    "\n",
    "_, ax = plt.subplots(figsize=(100, 100))\n",
    "ax.scatter(xs, ys, c=cs)\n",
    "for i, feature in enumerate(labels):\n",
    "    ax.annotate(feature, (xs[i], ys[i]))\n",
    "plt.tight_layout()\n",
    "plt.savefig(\"mcrae_pca.pdf\")"
   ]
  },
  {
   "cell_type": "code",
   "execution_count": null,
   "id": "1f18741f",
   "metadata": {},
   "outputs": [],
   "source": []
  }
 ],
 "metadata": {
  "kernelspec": {
   "display_name": "Python 3 (ipykernel)",
   "language": "python",
   "name": "python3"
  },
  "language_info": {
   "codemirror_mode": {
    "name": "ipython",
    "version": 3
   },
   "file_extension": ".py",
   "mimetype": "text/x-python",
   "name": "python",
   "nbconvert_exporter": "python",
   "pygments_lexer": "ipython3",
   "version": "3.10.0"
  }
 },
 "nbformat": 4,
 "nbformat_minor": 5
}
