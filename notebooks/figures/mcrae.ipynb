{
 "cells": [
  {
   "cell_type": "code",
   "execution_count": null,
   "id": "279b676c",
   "metadata": {},
   "outputs": [],
   "source": [
    "import sys\n",
    "sys.path.append(\"../..\")\n",
    "\n",
    "from experiments.aliases import REMEDI_EDITOR_LAYER"
   ]
  },
  {
   "cell_type": "code",
   "execution_count": null,
   "id": "85095783",
   "metadata": {},
   "outputs": [],
   "source": [
    "from pathlib import Path\n",
    "\n",
    "MODEL = \"gptj\"\n",
    "\n",
    "RESULTS_ROOT = Path(\"../../results\")\n",
    "assert RESULTS_ROOT.exists()"
   ]
  },
  {
   "cell_type": "code",
   "execution_count": null,
   "id": "f4f03109",
   "metadata": {},
   "outputs": [],
   "source": [
    "import json\n",
    "\n",
    "\n",
    "def load_json(file):\n",
    "    with file.open(\"r\") as handle:\n",
    "        return json.load(handle)\n",
    "\n",
    "\n",
    "remedi_layer = REMEDI_EDITOR_LAYER[MODEL][\"mcrae\"]\n",
    "experiment_name = f\"post_icml_eval_ent_mcrae_{MODEL}\"\n",
    "results_dir = RESULTS_ROOT / experiment_name\n",
    "\n",
    "results = load_json(results_dir / \"linear\" / str(remedi_layer) / \"entailment.json\")"
   ]
  },
  {
   "cell_type": "code",
   "execution_count": null,
   "id": "2f694bed",
   "metadata": {},
   "outputs": [],
   "source": [
    "from remedi import data\n",
    "\n",
    "dataset = data.load_dataset(\"mcrae\", split=\"train[5000:10000]\")"
   ]
  },
  {
   "cell_type": "code",
   "execution_count": null,
   "id": "2b220af3",
   "metadata": {},
   "outputs": [],
   "source": [
    "from collections import Counter\n",
    "features = [x[\"attribute\"] for x in dataset]\n",
    "Counter(features).most_common(50)"
   ]
  },
  {
   "cell_type": "code",
   "execution_count": null,
   "id": "3f043ff7",
   "metadata": {},
   "outputs": [],
   "source": [
    "from collections import defaultdict\n",
    "\n",
    "import matplotlib.pyplot as plt\n",
    "import numpy as np\n",
    "import pandas as pd\n",
    "import seaborn as sns\n",
    "\n",
    "# We'll remove a couple disfluent or weird outliers.\n",
    "BANNED_FEATURES = frozenset({\n",
    "    \"is used long ago\"\n",
    "})\n",
    "\n",
    "sns.set()\n",
    "sns.set_style({'font.family':'serif', 'font.serif':['Times New Roman']})\n",
    "\n",
    "attribute = \"herded by shepherds\"\n",
    "indices = [i for i, x in enumerate(dataset) if x[\"attribute\"] == attribute]\n",
    "\n",
    "logp_lm_by_co_feature = defaultdict(list)\n",
    "logp_human_by_co_feature = {}\n",
    "for index in indices:\n",
    "    for co_feature in results[\"samples\"][index][\"co_features\"]:\n",
    "        feature = co_feature[\"feature\"]\n",
    "        if feature in BANNED_FEATURES:\n",
    "            continue\n",
    "        logp_human_by_co_feature[feature] = co_feature[\"logp_ref\"]\n",
    "        logp_lm_by_co_feature[feature].append(co_feature[\"logp_post\"])\n",
    "logp_lm_by_co_feature = {key: np.mean(values) for key, values in logp_lm_by_co_feature.items()}\n",
    "\n",
    "features = sorted(logp_human_by_co_feature)\n",
    "xs = [logp_human_by_co_feature[feature] for feature in features]\n",
    "ys = [logp_lm_by_co_feature[feature] for feature in features]\n",
    "\n",
    "_, ax = plt.subplots()\n",
    "for i, feature in enumerate(features):\n",
    "    ax.annotate(feature, (xs[i], ys[i]))\n",
    "ax.scatter(xs, ys)\n",
    "plt.title(attribute)\n",
    "plt.xlabel(\"Human Co-Occurrence logp\")\n",
    "plt.ylabel(\"Post-Edit LM logp\")"
   ]
  },
  {
   "cell_type": "code",
   "execution_count": null,
   "id": "554068d4",
   "metadata": {},
   "outputs": [],
   "source": []
  }
 ],
 "metadata": {
  "kernelspec": {
   "display_name": "Python 3 (ipykernel)",
   "language": "python",
   "name": "python3"
  },
  "language_info": {
   "codemirror_mode": {
    "name": "ipython",
    "version": 3
   },
   "file_extension": ".py",
   "mimetype": "text/x-python",
   "name": "python",
   "nbconvert_exporter": "python",
   "pygments_lexer": "ipython3",
   "version": "3.10.0"
  }
 },
 "nbformat": 4,
 "nbformat_minor": 5
}
