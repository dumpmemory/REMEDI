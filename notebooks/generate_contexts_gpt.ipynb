{
 "cells": [
  {
   "cell_type": "code",
   "execution_count": null,
   "id": "6c4a4e9a",
   "metadata": {},
   "outputs": [],
   "source": [
    "import transformers\n",
    "\n",
    "device = 'cuda:1'\n",
    "model = transformers.AutoModelForCausalLM.from_pretrained('EleutherAI/gpt-neo-2.7B').to(device)\n",
    "tokenizer = transformers.AutoTokenizer.from_pretrained('EleutherAI/gpt-neo-2.7B')"
   ]
  },
  {
   "cell_type": "code",
   "execution_count": null,
   "id": "69e6ff61",
   "metadata": {},
   "outputs": [],
   "source": [
    "# prompt = '''\\\n",
    "# Complete the following sentences:\n",
    "# If you need a doctor, you can find one in a hospital.\n",
    "# If you need a lawyer, you can find one in a law firm.\n",
    "# If you need a preacher, you can find one'''\n",
    "\n",
    "# prompt = '''\\\n",
    "# Complete the following sentences:\n",
    "# A doctor works at a hospital.\n",
    "# An archaeologist works at a dig site.\n",
    "# A lawyer works at a law firm.\n",
    "# A yachmaster works'''\n",
    "\n",
    "# prompt = '''\\\n",
    "# Complete the following sentences:\n",
    "# A doctor has an MD.\n",
    "# A lawyer has a JD.\n",
    "# An author has a MFA in creative writing.\n",
    "# A biologist has a degree in biology.\n",
    "# A software engineer has a degree in computer science.\n",
    "# An administrative assistant has a business degree.\n",
    "# A management consultant has'''\n",
    "\n",
    "prompt = '''\\\n",
    "Complete the following sentences:\n",
    "A banana is a yellow fruit.\n",
    "An apple is a red fruit.\n",
    "A potato is a brown vegetable.\n",
    "A carrot is an orange vegetable.\n",
    "A '''\n",
    "\n",
    "inputs = tokenizer(prompt, return_tensors='pt').to(device)\n",
    "outputs = model.generate(inputs.input_ids, max_length=80)\n",
    "tokenizer.decode(outputs.squeeze())"
   ]
  },
  {
   "cell_type": "code",
   "execution_count": null,
   "id": "e6ec5840",
   "metadata": {},
   "outputs": [],
   "source": [
    "import json\n",
    "import pathlib\n",
    "\n",
    "file = pathlib.Path('../data/occupations.json')\n",
    "with file.open('r') as handle:\n",
    "    data = json.load(handle)\n",
    "{item['occupation'] for item in data}"
   ]
  },
  {
   "cell_type": "code",
   "execution_count": null,
   "id": "bfa255cd",
   "metadata": {},
   "outputs": [],
   "source": []
  }
 ],
 "metadata": {
  "kernelspec": {
   "display_name": "Python 3",
   "language": "python",
   "name": "python3"
  },
  "language_info": {
   "codemirror_mode": {
    "name": "ipython",
    "version": 3
   },
   "file_extension": ".py",
   "mimetype": "text/x-python",
   "name": "python",
   "nbconvert_exporter": "python",
   "pygments_lexer": "ipython3",
   "version": "3.8.10"
  }
 },
 "nbformat": 4,
 "nbformat_minor": 5
}
