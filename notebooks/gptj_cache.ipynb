{
 "cells": [
  {
   "cell_type": "code",
   "execution_count": null,
   "id": "c06d0b7d",
   "metadata": {},
   "outputs": [],
   "source": [
    "import importlib\n",
    "import transformers\n",
    "importlib.reload(transformers)\n",
    "\n",
    "device = 'cuda:1'\n",
    "\n",
    "key = 'EleutherAI/gpt-j-6B'\n",
    "# key = 'gpt2'\n",
    "\n",
    "model = transformers.AutoModelForCausalLM.from_pretrained(key, use_cache=True)\n",
    "tokenizer = transformers.AutoTokenizer.from_pretrained(key)\n",
    "tokenizer.pad_token = tokenizer.eos_token"
   ]
  },
  {
   "cell_type": "code",
   "execution_count": null,
   "id": "0dd997f0",
   "metadata": {},
   "outputs": [],
   "source": [
    "import time\n",
    "import torch\n",
    "model.to(device)\n",
    "start = time.time()\n",
    "inputs_prefix = tokenizer(['Barack Obama is best known for being'] * 25,\n",
    "                   return_tensors='pt', padding='longest').to(device)\n",
    "with torch.inference_mode():\n",
    "    outputs_prefix = model(**inputs_prefix)\n",
    "end = time.time()\n",
    "print(end - start)"
   ]
  },
  {
   "cell_type": "code",
   "execution_count": null,
   "id": "483aef97",
   "metadata": {},
   "outputs": [],
   "source": [
    "start = time.time()\n",
    "inputs = tokenizer(\n",
    "    ['President of the USA.'] * 25,\n",
    "#     ['Barack Obama is best known for being President of the United States.'] * 25,\n",
    "    return_tensors='pt', padding='longest')\n",
    "with torch.inference_mode():\n",
    "    outputs = model(\n",
    "        inputs.input_ids.to(device),\n",
    "        past_key_values=outputs_prefix.past_key_values,\n",
    "        return_dict=True,\n",
    "        output_hidden_states=True,\n",
    "    )\n",
    "end = time.time()\n",
    "print(end - start)"
   ]
  },
  {
   "cell_type": "code",
   "execution_count": null,
   "id": "83e41545",
   "metadata": {},
   "outputs": [],
   "source": [
    "inputs.keys()"
   ]
  },
  {
   "cell_type": "code",
   "execution_count": null,
   "id": "98ccc41e",
   "metadata": {},
   "outputs": [],
   "source": [
    "outputs.hidden_states[-1].shape"
   ]
  },
  {
   "cell_type": "code",
   "execution_count": null,
   "id": "92c698e9",
   "metadata": {},
   "outputs": [],
   "source": []
  }
 ],
 "metadata": {
  "kernelspec": {
   "display_name": "Python 3",
   "language": "python",
   "name": "python3"
  },
  "language_info": {
   "codemirror_mode": {
    "name": "ipython",
    "version": 3
   },
   "file_extension": ".py",
   "mimetype": "text/x-python",
   "name": "python",
   "nbconvert_exporter": "python",
   "pygments_lexer": "ipython3",
   "version": "3.8.10"
  }
 },
 "nbformat": 4,
 "nbformat_minor": 5
}
