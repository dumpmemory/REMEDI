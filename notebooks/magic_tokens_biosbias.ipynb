{
 "cells": [
  {
   "cell_type": "code",
   "execution_count": null,
   "id": "0d271c3e",
   "metadata": {},
   "outputs": [],
   "source": [
    "import sys\n",
    "sys.path.append('/raid/lingo/dez/code/lm-context-mediation')"
   ]
  },
  {
   "cell_type": "code",
   "execution_count": null,
   "id": "5cc65eba",
   "metadata": {},
   "outputs": [],
   "source": [
    "import pathlib\n",
    "import pickle\n",
    "\n",
    "bios_file = pathlib.Path('../../biosbias/BIOS.pkl')\n",
    "with bios_file.open('rb') as handle:\n",
    "    data = pickle.load(handle)\n",
    "    \n",
    "for item in data:\n",
    "    name = ' '.join(item['name'])\n",
    "    item['inputs_bio'] = item['bio'].replace('_', name)\n",
    "    item['inputs_name'] = name"
   ]
  },
  {
   "cell_type": "code",
   "execution_count": null,
   "id": "2fd5a7fb",
   "metadata": {},
   "outputs": [],
   "source": [
    "import transformers\n",
    "\n",
    "device = 'cuda:1'\n",
    "config = 'gpt2'\n",
    "\n",
    "model = transformers.AutoModelForCausalLM.from_pretrained(config)\n",
    "model.eval().to(device)\n",
    "\n",
    "tokenizer = transformers.AutoTokenizer.from_pretrained(config)\n",
    "tokenizer.pad_token = tokenizer.eos_token"
   ]
  },
  {
   "cell_type": "code",
   "execution_count": null,
   "id": "ac2d917f",
   "metadata": {},
   "outputs": [],
   "source": [
    "model"
   ]
  },
  {
   "cell_type": "code",
   "execution_count": null,
   "id": "1b14d965",
   "metadata": {},
   "outputs": [],
   "source": [
    "data[0]"
   ]
  },
  {
   "cell_type": "code",
   "execution_count": null,
   "id": "6a34ed4b",
   "metadata": {},
   "outputs": [],
   "source": [
    "from src.utils import training\n",
    "\n",
    "import torch.utils.data\n",
    "from torch import nn, optim\n",
    "from tqdm.auto import tqdm\n",
    "\n",
    "# --- CONFIG ---\n",
    "lr = 2e-4\n",
    "batch_size = 8\n",
    "hold_out = .005\n",
    "iterations = 1000\n",
    "val_every = 100\n",
    "patience = 3\n",
    "\n",
    "# --- IMPL ---\n",
    "entities = sorted({item['inputs_name'] for item in data})\n",
    "indexer_entities = {entity: index for index, entity in enumerate(entities)}\n",
    "tokens_entities = nn.Embedding(len(entities), model.config.hidden_size).to(device)\n",
    "\n",
    "occupations = sorted({item['title'] for item in data})\n",
    "indexer_occupations = {occupation: index for index, occupation in enumerate(occupations)}\n",
    "tokens_occupations = nn.Embedding(len(occupations), model.config.hidden_size).to(device)\n",
    "\n",
    "optimizer = optim.AdamW((*tokens_entities.parameters(), *tokens_occupations.parameters()), lr=lr)\n",
    "\n",
    "train, val = training.random_split(data, hold_out=hold_out)\n",
    "train_loader = torch.utils.data.DataLoader(train, batch_size=batch_size, shuffle=True)\n",
    "val_loader = torch.utils.data.DataLoader(val, batch_size=batch_size)\n",
    "\n",
    "stopper = training.EarlyStopping(patience=patience)\n",
    "\n",
    "def tokens_state_dict():\n",
    "    return tokens_entities.state_dict(), tokens_occupations.state_dict()\n",
    "\n",
    "def tokens_load_state_dict(state_dicts):\n",
    "    state_dict_entities, state_dict_occupations = state_dicts\n",
    "    tokens_entities.load_state_dict(state_dict_entities)\n",
    "    tokens_occupations.load_state_dict(state_dict_occupations)\n",
    "\n",
    "def compute(batch):\n",
    "    inputs = tokenizer(batch['inputs_bio'],\n",
    "                       return_tensors='pt',\n",
    "                       padding='longest').to(device)\n",
    "    embeddings = model.get_input_embeddings()(inputs.input_ids)\n",
    "\n",
    "    ids_entities = torch.tensor([indexer_entities[name] for name in batch['inputs_name']],\n",
    "                                device=device,\n",
    "                                dtype=torch.long)\n",
    "    embeddings_entities = tokens_entities(ids_entities)\n",
    "\n",
    "    ids_occupations = torch.tensor([indexer_occupations[title] for title in batch['title']],\n",
    "                                   device=device,\n",
    "                                   dtype=torch.long)\n",
    "    embeddings_occupations = tokens_occupations(ids_occupations)\n",
    "\n",
    "    inputs_embeds = torch.cat(\n",
    "        [embeddings_entities[:, None], embeddings_occupations[:, None], embeddings],\n",
    "        dim=1)\n",
    "\n",
    "    labels = torch.cat([\n",
    "        torch.tensor([[-100, -100]] * inputs.input_ids.shape[0], device=device, dtype=torch.long),\n",
    "        inputs.input_ids\n",
    "    ], dim=1)\n",
    "\n",
    "    return model(inputs_embeds=inputs_embeds, labels=labels)\n",
    "\n",
    "best = tokens_state_dict()\n",
    "train_loss, val_loss = float('inf'), float('inf')\n",
    "progress = tqdm(range(iterations))\n",
    "for iteration in progress:\n",
    "    model.train()\n",
    "    batch = next(iter(train_loader))\n",
    "    outputs = compute(batch)\n",
    "    train_loss = outputs.loss\n",
    "    train_loss.backward()\n",
    "    optimizer.step()\n",
    "    optimizer.zero_grad()\n",
    "\n",
    "    if iteration != 0 and not iteration % val_every:\n",
    "        model.eval()\n",
    "        val_loss = 0.\n",
    "        for batch in tqdm(val_loader, desc='validating'):\n",
    "            with torch.inference_mode():\n",
    "                outputs = compute(batch)\n",
    "            val_loss += outputs.loss.item()\n",
    "        val_loss /= len(val_loader)\n",
    "        if stopper(val_loss):\n",
    "            tokens_load_state_dict(best)\n",
    "            break\n",
    "        elif stopper.improved:\n",
    "            best = tokens_state_dict()\n",
    "\n",
    "    progress.set_description(f'train={train_loss.item():.2f}, val={val_loss:.2f}')"
   ]
  },
  {
   "cell_type": "code",
   "execution_count": null,
   "id": "86d31d16",
   "metadata": {},
   "outputs": [],
   "source": [
    "def apply(entity, occupation):\n",
    "    if entity in entities:\n",
    "        token_entity = tokens_entities(torch.tensor([indexer_entities[entity]], dtype=torch.long, device=device))\n",
    "    else:\n",
    "        inputs_entity = tokenizer(entity, return_tensors='pt').to(device)\n",
    "        token_entity = model.transformer.wte(inputs_entity.input_ids)\n",
    "    token_entity = token_entity.view(1, -1, model.config.hidden_size)\n",
    "\n",
    "    token_occupation = tokens_occupations(\n",
    "        torch.tensor([indexer_occupations[occupation]],\n",
    "                     device=device,\n",
    "                     dtype=torch.long)\n",
    "    ).view(1, 1, model.config.hidden_size)\n",
    "\n",
    "    inputs_embeds = torch.cat((token_entity, token_occupation), dim=1)\n",
    "    outputs = model(inputs_embeds=inputs_embeds, use_cache=True, return_dict=True)\n",
    "    outputs = model.generate(past_key_values=outputs.past_key_values, max_length=25, use_cache=True)\n",
    "    return tokenizer.batch_decode(outputs)\n",
    "\n",
    "apply('Charles Darwin', 'accountant')"
   ]
  },
  {
   "cell_type": "code",
   "execution_count": null,
   "id": "ae1674b6",
   "metadata": {},
   "outputs": [],
   "source": [
    "occupations"
   ]
  },
  {
   "cell_type": "markdown",
   "id": "ac3d81dc",
   "metadata": {},
   "source": [
    "# Improved Version"
   ]
  },
  {
   "cell_type": "code",
   "execution_count": null,
   "id": "cd5cdeb9",
   "metadata": {},
   "outputs": [],
   "source": []
  }
 ],
 "metadata": {
  "kernelspec": {
   "display_name": "Python 3",
   "language": "python",
   "name": "python3"
  },
  "language_info": {
   "codemirror_mode": {
    "name": "ipython",
    "version": 3
   },
   "file_extension": ".py",
   "mimetype": "text/x-python",
   "name": "python",
   "nbconvert_exporter": "python",
   "pygments_lexer": "ipython3",
   "version": "3.8.10"
  }
 },
 "nbformat": 4,
 "nbformat_minor": 5
}
