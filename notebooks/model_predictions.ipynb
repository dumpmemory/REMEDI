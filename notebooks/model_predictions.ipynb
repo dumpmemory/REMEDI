{
 "cells": [
  {
   "cell_type": "code",
   "execution_count": null,
   "id": "56d66c36",
   "metadata": {},
   "outputs": [],
   "source": [
    "import transformers\n",
    "\n",
    "device = 'cuda:1'\n",
    "tokenizer = transformers.AutoTokenizer.from_pretrained('EleutherAI/gpt-j-6B')\n",
    "tokenizer.pad_token = tokenizer.eos_token\n",
    "model = transformers.AutoModelForCausalLM.from_pretrained('EleutherAI/gpt-j-6B')\n",
    "model.to(device)"
   ]
  },
  {
   "cell_type": "code",
   "execution_count": null,
   "id": "9a4782ac",
   "metadata": {},
   "outputs": [],
   "source": [
    "model.config"
   ]
  },
  {
   "cell_type": "code",
   "execution_count": null,
   "id": "5a6ebd31",
   "metadata": {},
   "outputs": [],
   "source": [
    "import json\n",
    "with open('../data/occupations.json', 'r') as handle:\n",
    "    entries = json.load(handle)\n",
    "occupations = {entry['occupation'] for entry in entries}"
   ]
  },
  {
   "cell_type": "code",
   "execution_count": null,
   "id": "94e0aec9",
   "metadata": {},
   "outputs": [],
   "source": [
    "import random\n",
    "choice = random.choice(entries)\n",
    "print([entry for entry in entries if entry['entity'] == choice['entity']])"
   ]
  },
  {
   "cell_type": "code",
   "execution_count": null,
   "id": "cc750052",
   "metadata": {},
   "outputs": [],
   "source": [
    "import torch\n",
    "entity = 'Jimmy Carter'\n",
    "# prompt = 'Everybody knows {entity} is a {occupation}'\n",
    "prompt = '{entity}, the {occupation}'\n",
    "sentences = [\n",
    "    prompt.format(entity=entity, occupation=occupation)\n",
    "    for occupation in occupations\n",
    "]\n",
    "inputs = tokenizer(sentences, return_tensors='pt', padding='longest').to(device)\n",
    "with torch.inference_mode():\n",
    "    outputs = model(**inputs, output_hidden_states=True, return_dict=True)\n",
    "logits = outputs.logits"
   ]
  },
  {
   "cell_type": "code",
   "execution_count": null,
   "id": "1124babd",
   "metadata": {},
   "outputs": [],
   "source": [
    "scores = []\n",
    "for ids, ls in zip(inputs.input_ids, logits):\n",
    "    score = 0\n",
    "    logprobs = torch.log_softmax(ls, dim=-1)\n",
    "    for position, token_id in enumerate(ids[1:]):\n",
    "        if token_id.item() in {tokenizer.eos_token_id, tokenizer.pad_token_id}:\n",
    "            continue\n",
    "        score += logprobs[position, token_id]\n",
    "    scores.append(score.item())\n",
    "topk = torch.tensor(scores).topk(k=100)\n",
    "\n",
    "for position, index in enumerate(topk.indices.tolist()):\n",
    "    print(sentences[index], f'{topk.values[position].item():.3f}')"
   ]
  },
  {
   "cell_type": "code",
   "execution_count": null,
   "id": "a162d09b",
   "metadata": {},
   "outputs": [],
   "source": []
  }
 ],
 "metadata": {
  "kernelspec": {
   "display_name": "Python 3",
   "language": "python",
   "name": "python3"
  },
  "language_info": {
   "codemirror_mode": {
    "name": "ipython",
    "version": 3
   },
   "file_extension": ".py",
   "mimetype": "text/x-python",
   "name": "python",
   "nbconvert_exporter": "python",
   "pygments_lexer": "ipython3",
   "version": "3.8.10"
  }
 },
 "nbformat": 4,
 "nbformat_minor": 5
}
