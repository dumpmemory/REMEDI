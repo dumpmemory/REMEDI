{
 "cells": [
  {
   "cell_type": "code",
   "execution_count": 2,
   "id": "67aea691",
   "metadata": {},
   "outputs": [],
   "source": [
    "device = 'cuda'"
   ]
  },
  {
   "cell_type": "code",
   "execution_count": 46,
   "id": "0ffda8d8",
   "metadata": {},
   "outputs": [],
   "source": [
    "import transformers\n",
    "\n",
    "tokenizer = transformers.AutoTokenizer.from_pretrained('roberta-base')\n",
    "model = transformers.AutoModelForMaskedLM.from_pretrained('roberta-base').to(device)"
   ]
  },
  {
   "cell_type": "code",
   "execution_count": null,
   "id": "ed932de5",
   "metadata": {},
   "outputs": [],
   "source": [
    "import names_dataset\n",
    "nd = names_dataset.NameDataset()"
   ]
  },
  {
   "cell_type": "code",
   "execution_count": 119,
   "id": "1a799956",
   "metadata": {},
   "outputs": [],
   "source": [
    "from torch.utils import data\n",
    "\n",
    "\n",
    "class Sentencify:\n",
    "    \n",
    "    def __init__(self, template):\n",
    "        self.template = template\n",
    "        \n",
    "    def __call__(self, name):\n",
    "        return self.template.format(name=name)\n",
    "\n",
    "class Dataset(data.Dataset):\n",
    "    \n",
    "    def __init__(self, n=1000, offset=0, sentencify=Sentencify('{name} climbed the hill.')):\n",
    "        names = nd.get_top_names(n=n, country_alpha2='US')['US']\n",
    "\n",
    "        self.male = names['M'][offset:]\n",
    "        self.female = names['F'][offset:]\n",
    "\n",
    "        self.data = [(sentencify(name), 0) for name in self.male]\n",
    "        self.data += [(sentencify(name), 1) for name in self.female]\n",
    "    \n",
    "    def __getitem__(self, index):\n",
    "        return self.data[index]\n",
    "    \n",
    "    def __len__(self):\n",
    "        return len(self.data)\n",
    "\n",
    "dataset = Dataset(n=500)"
   ]
  },
  {
   "cell_type": "code",
   "execution_count": 72,
   "id": "537cc82e",
   "metadata": {},
   "outputs": [
    {
     "data": {
      "application/vnd.jupyter.widget-view+json": {
       "model_id": "e7cbb5f014e94205be9bed50fb1b8cae",
       "version_major": 2,
       "version_minor": 0
      },
      "text/plain": [
       "epoch 0:   0%|          | 0/8 [00:00<?, ?it/s]"
      ]
     },
     "metadata": {},
     "output_type": "display_data"
    },
    {
     "name": "stdout",
     "output_type": "stream",
     "text": [
      "train 0.5752527788281441\n",
      "val 0.5014075636863708\n"
     ]
    },
    {
     "data": {
      "application/vnd.jupyter.widget-view+json": {
       "model_id": "9dfe8d29edf447598e9252ae18288ed4",
       "version_major": 2,
       "version_minor": 0
      },
      "text/plain": [
       "epoch 1:   0%|          | 0/8 [00:00<?, ?it/s]"
      ]
     },
     "metadata": {},
     "output_type": "display_data"
    },
    {
     "name": "stdout",
     "output_type": "stream",
     "text": [
      "train 0.3967887759208679\n",
      "val 0.38385698199272156\n"
     ]
    },
    {
     "data": {
      "application/vnd.jupyter.widget-view+json": {
       "model_id": "70775ed783e2461d9753268bf5393398",
       "version_major": 2,
       "version_minor": 0
      },
      "text/plain": [
       "epoch 2:   0%|          | 0/8 [00:00<?, ?it/s]"
      ]
     },
     "metadata": {},
     "output_type": "display_data"
    },
    {
     "name": "stdout",
     "output_type": "stream",
     "text": [
      "train 0.26316521130502224\n",
      "val 0.2339557409286499\n"
     ]
    },
    {
     "data": {
      "application/vnd.jupyter.widget-view+json": {
       "model_id": "9872110fe46a4ec6b730af460118bc7d",
       "version_major": 2,
       "version_minor": 0
      },
      "text/plain": [
       "epoch 3:   0%|          | 0/8 [00:00<?, ?it/s]"
      ]
     },
     "metadata": {},
     "output_type": "display_data"
    },
    {
     "name": "stdout",
     "output_type": "stream",
     "text": [
      "train 0.1910376138985157\n",
      "val 0.16111941635608673\n"
     ]
    },
    {
     "data": {
      "application/vnd.jupyter.widget-view+json": {
       "model_id": "cfb96b574db94d2793bd79710c0198ae",
       "version_major": 2,
       "version_minor": 0
      },
      "text/plain": [
       "epoch 4:   0%|          | 0/8 [00:00<?, ?it/s]"
      ]
     },
     "metadata": {},
     "output_type": "display_data"
    },
    {
     "name": "stdout",
     "output_type": "stream",
     "text": [
      "train 0.14066676329821348\n",
      "val 0.13111811876296997\n"
     ]
    },
    {
     "data": {
      "application/vnd.jupyter.widget-view+json": {
       "model_id": "560a43660953403d9ae738e82b03fb58",
       "version_major": 2,
       "version_minor": 0
      },
      "text/plain": [
       "epoch 5:   0%|          | 0/8 [00:00<?, ?it/s]"
      ]
     },
     "metadata": {},
     "output_type": "display_data"
    },
    {
     "name": "stdout",
     "output_type": "stream",
     "text": [
      "train 0.1368890656158328\n",
      "val 0.11832942813634872\n"
     ]
    },
    {
     "data": {
      "application/vnd.jupyter.widget-view+json": {
       "model_id": "169d4d383e6d48b6aa6b70eb1639e5b3",
       "version_major": 2,
       "version_minor": 0
      },
      "text/plain": [
       "epoch 6:   0%|          | 0/8 [00:00<?, ?it/s]"
      ]
     },
     "metadata": {},
     "output_type": "display_data"
    },
    {
     "name": "stdout",
     "output_type": "stream",
     "text": [
      "train 0.10570867778733373\n",
      "val 0.10340951383113861\n"
     ]
    },
    {
     "data": {
      "application/vnd.jupyter.widget-view+json": {
       "model_id": "b966f66d689e4133bff652f201ca9baa",
       "version_major": 2,
       "version_minor": 0
      },
      "text/plain": [
       "epoch 7:   0%|          | 0/8 [00:00<?, ?it/s]"
      ]
     },
     "metadata": {},
     "output_type": "display_data"
    },
    {
     "name": "stdout",
     "output_type": "stream",
     "text": [
      "train 0.21578484401106834\n",
      "val 0.09839450567960739\n"
     ]
    },
    {
     "data": {
      "application/vnd.jupyter.widget-view+json": {
       "model_id": "1e771427995749d4a0c85d69b9de1593",
       "version_major": 2,
       "version_minor": 0
      },
      "text/plain": [
       "epoch 8:   0%|          | 0/8 [00:00<?, ?it/s]"
      ]
     },
     "metadata": {},
     "output_type": "display_data"
    },
    {
     "name": "stdout",
     "output_type": "stream",
     "text": [
      "train 0.09078342205611989\n",
      "val 0.09676236659288406\n"
     ]
    },
    {
     "data": {
      "application/vnd.jupyter.widget-view+json": {
       "model_id": "6a5466a7c6dd40e29b14663c3ebba443",
       "version_major": 2,
       "version_minor": 0
      },
      "text/plain": [
       "epoch 9:   0%|          | 0/8 [00:00<?, ?it/s]"
      ]
     },
     "metadata": {},
     "output_type": "display_data"
    },
    {
     "name": "stdout",
     "output_type": "stream",
     "text": [
      "train 0.09178701508790255\n",
      "val 0.10129508376121521\n"
     ]
    },
    {
     "data": {
      "application/vnd.jupyter.widget-view+json": {
       "model_id": "1e88cda22d274728817421ad56795297",
       "version_major": 2,
       "version_minor": 0
      },
      "text/plain": [
       "epoch 10:   0%|          | 0/8 [00:00<?, ?it/s]"
      ]
     },
     "metadata": {},
     "output_type": "display_data"
    },
    {
     "name": "stdout",
     "output_type": "stream",
     "text": [
      "train 0.0905273063108325\n",
      "val 0.0932174026966095\n"
     ]
    },
    {
     "data": {
      "application/vnd.jupyter.widget-view+json": {
       "model_id": "19b3f06250f54156a7e80c9dcde52ce0",
       "version_major": 2,
       "version_minor": 0
      },
      "text/plain": [
       "epoch 11:   0%|          | 0/8 [00:00<?, ?it/s]"
      ]
     },
     "metadata": {},
     "output_type": "display_data"
    },
    {
     "name": "stdout",
     "output_type": "stream",
     "text": [
      "train 0.08239491772837937\n",
      "val 0.09713620692491531\n"
     ]
    },
    {
     "data": {
      "application/vnd.jupyter.widget-view+json": {
       "model_id": "9b0a89233505490eac61f2edd068b8f3",
       "version_major": 2,
       "version_minor": 0
      },
      "text/plain": [
       "epoch 12:   0%|          | 0/8 [00:00<?, ?it/s]"
      ]
     },
     "metadata": {},
     "output_type": "display_data"
    },
    {
     "name": "stdout",
     "output_type": "stream",
     "text": [
      "train 0.08013808634132147\n",
      "val 0.09423713386058807\n"
     ]
    }
   ],
   "source": [
    "import torch\n",
    "from torch import nn, optim\n",
    "from tqdm.auto import tqdm\n",
    "\n",
    "model.to(device)\n",
    "probe = nn.Sequential(\n",
    "    nn.Linear(768, 768),\n",
    "    nn.ReLU(),\n",
    "    nn.Linear(768, 1),\n",
    ").to(device)\n",
    "optimizer = optim.AdamW(probe.parameters(), lr=1e-3)\n",
    "criterion = nn.BCEWithLogitsLoss()\n",
    "\n",
    "val_size = int(.1 * len(dataset))\n",
    "train_size = len(dataset) - val_size\n",
    "train, val = data.random_split(dataset, (train_size, val_size))\n",
    "train_loader = data.DataLoader(train, batch_size=128, shuffle=True)\n",
    "val_loader = data.DataLoader(val, batch_size=128)\n",
    "\n",
    "bad, best, state_dict = 0, float('inf'), None\n",
    "for epoch in range(25):\n",
    "    probe.train()\n",
    "    train_loss = 0\n",
    "    for sentences, targets in tqdm(train_loader, desc=f'epoch {epoch}'):\n",
    "        inputs = tokenizer(list(sentences), return_tensors='pt', padding='longest').to(device)\n",
    "        outputs = model(**inputs, return_dict=True, output_hidden_states=True)\n",
    "        reps = outputs.hidden_states[-1][:, 1]\n",
    "        predictions = probe(reps)\n",
    "        loss = criterion(predictions, targets.to(device)[:, None].float())\n",
    "        loss.backward()\n",
    "        optimizer.step()\n",
    "        optimizer.zero_grad()\n",
    "\n",
    "        train_loss += loss.item()\n",
    "    train_loss /= len(loader)\n",
    "    print('train', train_loss)\n",
    "\n",
    "    probe.eval()\n",
    "    val_loss = 0\n",
    "    for sentences, targets in val_loader:\n",
    "        inputs = tokenizer(list(sentences), return_tensors='pt', padding='longest').to(device)\n",
    "        with torch.inference_mode():\n",
    "            outputs = model(**inputs, return_dict=True, output_hidden_states=True)\n",
    "            reps = outputs.hidden_states[-1][:, 1]\n",
    "            predictions = probe(reps)\n",
    "            loss = criterion(predictions, targets.to(device)[:, None].float())        \n",
    "        val_loss += loss.item()\n",
    "    val_loss /= len(val_loader)\n",
    "    print('val', val_loss)\n",
    "\n",
    "    if val_loss < best:\n",
    "        bad = 0\n",
    "        best = val_loss\n",
    "        state_dict = probe.state_dict()\n",
    "    else:\n",
    "        bad += 1\n",
    "\n",
    "    if bad >= 4:\n",
    "        assert state_dict is not None\n",
    "        probe.load_state_dict(state_dict)\n",
    "        break"
   ]
  },
  {
   "cell_type": "code",
   "execution_count": 199,
   "id": "8ba658ec",
   "metadata": {},
   "outputs": [
    {
     "name": "stdout",
     "output_type": "stream",
     "text": [
      "['<s>', 'The', 'Ġdoctor', 'Ġis', 'Ġclimbing', 'Ġthe', 'Ġhill', '.', 'ĠThey', 'Ġwork', 'Ġhard', '.', '</s>']\n"
     ]
    },
    {
     "data": {
      "text/plain": [
       "('M', 0.07878950983285904)"
      ]
     },
     "execution_count": 199,
     "metadata": {},
     "output_type": "execute_result"
    }
   ],
   "source": [
    "@torch.inference_mode()\n",
    "def predict(sentence, token=1):\n",
    "    inputs = tokenizer([sentence], return_tensors='pt', padding='longest').to(device)\n",
    "    print(tokenizer.convert_ids_to_tokens(inputs.input_ids.squeeze().tolist()))\n",
    "    outputs = model(**inputs, return_dict=True, output_hidden_states=True)\n",
    "    reps = outputs.hidden_states[-1][:, token]\n",
    "    predictions = probe(reps)\n",
    "    score = torch.sigmoid(predictions.squeeze()).item()\n",
    "    return 'F' if  score > .5 else 'M', score\n",
    "\n",
    "predict('The doctor is climbing the hill. They work hard.', token=2)"
   ]
  },
  {
   "cell_type": "code",
   "execution_count": 125,
   "id": "015e71af",
   "metadata": {},
   "outputs": [
    {
     "data": {
      "application/vnd.jupyter.widget-view+json": {
       "model_id": "c732a3e7ab0146b18ed117c479b59e25",
       "version_major": 2,
       "version_minor": 0
      },
      "text/plain": [
       "  0%|          | 0/71 [00:00<?, ?it/s]"
      ]
     },
     "metadata": {},
     "output_type": "display_data"
    },
    {
     "name": "stdout",
     "output_type": "stream",
     "text": [
      "tensor(81.4300, device='cuda:0')\n"
     ]
    }
   ],
   "source": [
    "class FlippedDataset(data.Dataset):\n",
    "    \n",
    "    def __init__(self, dataset):\n",
    "        self.data = []\n",
    "        for i in range(len(dataset)):\n",
    "            sentence, gender = dataset.data[i]\n",
    "            pronoun = 'He' if gender else 'She'\n",
    "            sentence = f'{sentence}. {pronoun} was tired.'\n",
    "            self.data.append((sentence, 1 - gender))\n",
    "\n",
    "    def __getitem__(self, index):\n",
    "        return self.data[index]\n",
    "\n",
    "    def __len__(self):\n",
    "        return len(self.data)\n",
    "\n",
    "flipped = FlippedDataset(Dataset(n=10000, offset=5000))\n",
    "\n",
    "@torch.inference_mode()\n",
    "def accuracy(dataset, probe=probe):\n",
    "    loader = data.DataLoader(dataset, batch_size=128)\n",
    "    correct = 0\n",
    "    for sentences, targets in tqdm(loader):\n",
    "        inputs = tokenizer(list(sentences), return_tensors='pt', padding='longest').to(device)\n",
    "        outputs = model(**inputs, return_dict=True, output_hidden_states=True)\n",
    "        reps = outputs.hidden_states[-1][:, 1]\n",
    "        predictions = probe(reps).gt(.5).long()\n",
    "        correct += predictions.eq(targets[:, None].to(device)).sum()\n",
    "    return correct / len(val)\n",
    "\n",
    "print(accuracy(flipped))"
   ]
  },
  {
   "cell_type": "markdown",
   "id": "fc49005c",
   "metadata": {},
   "source": [
    "# Potential source of sentences?"
   ]
  },
  {
   "cell_type": "code",
   "execution_count": 21,
   "id": "51d3bffc",
   "metadata": {},
   "outputs": [],
   "source": [
    "import pathlib\n",
    "\n",
    "sentences_files = pathlib.Path('/raid/lingo/dez/code/gutenberg/data/parsed').glob('*.txt')\n",
    "\n",
    "sentences = []\n",
    "for sentences_file in sentences_files:\n",
    "    with sentences_file.open('r') as handle:\n",
    "        sentences += list(handle.read().split('\\n'))        "
   ]
  },
  {
   "cell_type": "code",
   "execution_count": 23,
   "id": "dc0bbdc1",
   "metadata": {},
   "outputs": [
    {
     "data": {
      "text/plain": [
       "['she listened to him until he flew away',\n",
       " 'it was as if he were talking',\n",
       " 'she had wondered if he would notice her',\n",
       " 'she wished she could talk as he did',\n",
       " 'she knew what he would think of her',\n",
       " 'what an unhappy face he had',\n",
       " 'no one—no one knew where he buried the key',\n",
       " 'and then he turned round and stared at me',\n",
       " 'i think he asked the robin questions',\n",
       " 'she felt sure he would like to hear',\n",
       " 'but he had not sent one',\n",
       " 'perhaps—perhaps he has been thinking about it all afternoon',\n",
       " 'medlock rather irritably when he arrived',\n",
       " 'medlock opened the door he heard laughing and chattering',\n",
       " 'roach heard his name he smiled quite leniently',\n",
       " 'there he is',\n",
       " 'colin looked as if he were resting luxuriously',\n",
       " 'his face flushed scarlet and he sat bolt upright',\n",
       " 'then suddenly he remembered something mary had said',\n",
       " 'so he could reply like a sailor',\n",
       " 'then he cheered up',\n",
       " 'when the nurse came in he gave his orders',\n",
       " 'he mun come back—that he mun',\n",
       " 'there he found the loveliness of a dream',\n",
       " 'but he did not awaken',\n",
       " 'but he knew nothing of magic—either black or white',\n",
       " 'this he had yet to learn',\n",
       " 'how did he look',\n",
       " 'and he teases the girls something terrible',\n",
       " 'when had he heard marilla laugh like that before',\n",
       " 'but he can speak',\n",
       " 'she now concluded that he was entirely crazy',\n",
       " 'what a splendid chin he has',\n",
       " 'i hope he has roses like them in heaven',\n",
       " 'what did he say',\n",
       " 'you know he has given you hope',\n",
       " 'is he fit for the journey',\n",
       " 'had he ever been a spy himself',\n",
       " 'what did he live upon',\n",
       " 'had he inherited it',\n",
       " 'sure he saw the prisoner with these lists',\n",
       " 'was he one of those two passengers',\n",
       " 'had he come on board alone',\n",
       " 'when he called at my lodgings in london',\n",
       " 'in a little while he came',\n",
       " 'the rest of his time he passed in london',\n",
       " 'jacques three demanded how he afterwards recognised him then',\n",
       " 'but how do i know if he lies',\n",
       " 'lorry determined to have the aid he sought',\n",
       " 'what prison is he in',\n",
       " 'what does he send me',\n",
       " 'was he not an emigrant then',\n",
       " 'what did he call himself',\n",
       " 'what proof had he of this',\n",
       " 'but he had married in england',\n",
       " 'there is no earthly doubt that he is retaken',\n",
       " 'lorry asked him what he had done',\n",
       " 'but he was not persuaded',\n",
       " 'he repeated what he had already said',\n",
       " 'where could he be',\n",
       " 'many added that he looked sublime and prophetic',\n",
       " 'how is he my master',\n",
       " 'is he generally liked',\n",
       " 'is he liked for himself',\n",
       " 'will he leave it again soon',\n",
       " 'i did not know he was out',\n",
       " 'i was not aware he could sing',\n",
       " 'did he give his name',\n",
       " 'when will he come',\n",
       " 'what did he mean by such a pagan idea',\n",
       " 'i wish he would come',\n",
       " 'what a hot and strong grasp he had',\n",
       " 'the solicitor addressed me as he descended the stair',\n",
       " 'john when he comes in',\n",
       " 'my father and he quarrelled long ago',\n",
       " 'once more he looked at the portrait',\n",
       " 'what is he doing',\n",
       " 'is he well',\n",
       " 'rochester he is interested',\n",
       " 'at this moment he advanced from the parlour',\n",
       " 'will he accept a mutilated sacrifice',\n",
       " 'and with that answer he left me',\n",
       " 'i would much rather he had knocked me down',\n",
       " 'and then he will stay in england',\n",
       " 'i know he would',\n",
       " 'here he comes',\n",
       " 'how he starts',\n",
       " 'i had dreaded he was mad',\n",
       " 'where does he now live',\n",
       " 'would he have been doing that',\n",
       " 'i knew he would be worse by and by',\n",
       " 'and then he took us home and hammered us',\n",
       " 'does he like the trade',\n",
       " 'wopsle as he read the newspaper aloud',\n",
       " 'is he here',\n",
       " 'partickler when he see the ghost',\n",
       " 'mean to say he knowed nothing of you',\n",
       " 'i think he was a species of purser',\n",
       " 'but i said he had looked very nice',\n",
       " 'you know he is despised',\n",
       " 'there he goes',\n",
       " 'how was he dressed',\n",
       " 'and so he is',\n",
       " 'whimple confides to me that he is certainly going',\n",
       " 'everyone for what he likes',\n",
       " 'at last he spoke',\n",
       " 'and now he is nervous',\n",
       " 'he saw what he wanted ahead of him',\n",
       " 'at last he spoke',\n",
       " 'that is why he has only killed cattle',\n",
       " 'for a time he was afraid of being dropped',\n",
       " 'but he means to kill thee',\n",
       " 'he ate and he drank',\n",
       " 'then he began to mutter a prayer',\n",
       " 'then he felt better',\n",
       " 'but he never gets there',\n",
       " 'i shall wait here till he comes',\n",
       " 'else why should he go hunting these wild devils',\n",
       " 'that was what he meant',\n",
       " 'now he understood the trampling',\n",
       " 'it was some time before he came',\n",
       " 'in a moment he let down my head',\n",
       " 'i asked him how it was he bore it',\n",
       " 'in an instant he sprang to the saddle',\n",
       " 'nobody thought he could fall',\n",
       " 'i am sometimes afraid he will stumble',\n",
       " 'i believe he fell dead from the saddle',\n",
       " 'he said he was of your politics',\n",
       " 'the first night he was very restless',\n",
       " 'i wonder where he is now',\n",
       " 'but he spoke to miss minchin',\n",
       " 'the words he had spoken filled her with alarm',\n",
       " 'what he had said was quite true',\n",
       " 'will he come',\n",
       " 'his eyes look as if he was a person',\n",
       " 'as sara looked toward him he looked toward her',\n",
       " 'she spoke to him in the language he knew',\n",
       " 'then he turned to sara and salaamed again',\n",
       " 'what a villain he must have thought me',\n",
       " 'first he went to the narrow bed',\n",
       " 'do you think he ever would jump',\n",
       " 'sara was quite sure he knew it',\n",
       " 'i wonder if he has a mind',\n",
       " 'but he only patted her shoulder',\n",
       " 'did he make the dream that came true',\n",
       " 'and he did not know where sara was',\n",
       " 'but at any rate he might answer questions',\n",
       " 'he evidently felt that he was upon delicate ground',\n",
       " 'and he shall be cured',\n",
       " 'but he exulted too soon',\n",
       " 'will he keep',\n",
       " 'what should he do',\n",
       " 'this was not the outcome he had looked for',\n",
       " 'where may he be',\n",
       " 'mayhap he lied',\n",
       " 'what should he do',\n",
       " 'would he say a lie',\n",
       " 'apparently he was unsuccessful',\n",
       " 'but he hath not escaped the fires',\n",
       " 'how soon will he be back',\n",
       " 'and now he heard the door open',\n",
       " 'but he was to have no such luck',\n",
       " 'then he will send for me',\n",
       " 'but he was mistaken about that',\n",
       " 'what should he do',\n",
       " 'whither should he go',\n",
       " 'where could he hope to find this powerful help',\n",
       " 'where would he naturally go',\n",
       " 'here he comes',\n",
       " 'but he could not help me in any way',\n",
       " 'did he make no attempt to see you',\n",
       " 'very retiring and gentlemanly he was',\n",
       " 'and then i think that what he foresaw happened',\n",
       " 'and why could he not write',\n",
       " 'he shall find me ready when he comes back',\n",
       " 'from that appointment he never came back alive',\n",
       " 'i thought that he was delirious',\n",
       " 'do you not yourself think that he is innocent',\n",
       " 'i know that he is right',\n",
       " 'in a hundred other ways he has helped him',\n",
       " 'it was mere chance that he was within earshot',\n",
       " 'because he limped—he was lame',\n",
       " 'therefore he used a holder',\n",
       " 'what would he do then',\n",
       " 'but he is a dirty scoundrel',\n",
       " 'but will he see it',\n",
       " 'now he looks a little more human',\n",
       " 'what will he say when he returns',\n",
       " 'he has nerve and he has knowledge',\n",
       " 'as we entered he made neither sound nor motion',\n",
       " 'had he lost his wife',\n",
       " 'what was he doing there at all',\n",
       " 'then he became a little more reasonable',\n",
       " 'we shall soon see how he managed it',\n",
       " 'that is how he did it',\n",
       " 'i assure you he cannot',\n",
       " 'but he had a strange custom',\n",
       " 'again he caught the apple',\n",
       " 'so he chopped the wood small',\n",
       " 'then he was immediately restored to his human shape',\n",
       " 'but at last he let him go',\n",
       " 'then he sprang out and gave her a kiss',\n",
       " 'but he could not get out again',\n",
       " 'so he had to be carried home',\n",
       " 'there he kept sheep for a long time',\n",
       " 'at last he heard it',\n",
       " 'but wherever he came the cock was already known',\n",
       " 'thenceforward he found no more gold under his pillow',\n",
       " 'when he gets home it is suffocated',\n",
       " 'in two hours he took her home',\n",
       " 'for the moment he forgot just where he was',\n",
       " 'that evening he gave the jackdaw to his children',\n",
       " 'vexed and disappointed he began to cry',\n",
       " 'so away he hurried to the crane',\n",
       " 'soon he found life in the pasture very dull',\n",
       " 'but he wants my bacon',\n",
       " 'not a drop of soup could he get',\n",
       " 'but he always guarded it faithfully',\n",
       " 'but at last he stopped to argue',\n",
       " 'but they soon saw who he was',\n",
       " 'then off he swam with him toward the shore',\n",
       " 'off he started on a run',\n",
       " 'but he did not bring any stones with him',\n",
       " 'there he spied an oyster',\n",
       " 'so off he crawled to the meadow',\n",
       " 'in fact he could cure anything',\n",
       " 'i wish he had stung you',\n",
       " 'then he turned to the fox',\n",
       " 'which way is he gone',\n",
       " 'where is he wounded',\n",
       " 'the captain is not what he used to be',\n",
       " 'livesey as he passed on',\n",
       " 'and what was he saying to you',\n",
       " 'time after time he was ordered below in disgrace',\n",
       " 'where is he now',\n",
       " 'but he was not destined to go far',\n",
       " 'but he had no time given him to recover',\n",
       " 'then he spat into the spring',\n",
       " 'then he spoke',\n",
       " 'then i turned around and there he was',\n",
       " 'the judge he felt kind of sore',\n",
       " 'so he dozed off pretty soon',\n",
       " 'he said he knowed most everything',\n",
       " 'a good many thinks he done it',\n",
       " 'what he gwyne to do',\n",
       " 'by and by he got it',\n",
       " 'he said he could size their style',\n",
       " 'then he took his place over against the wall',\n",
       " 'but he took the pen and wrote',\n",
       " 'and so he was',\n",
       " 'and i think he died afterwards',\n",
       " 'they say he was a sight to look at',\n",
       " 'tom sawyer he says the same',\n",
       " 'and that is what he done',\n",
       " 'would he say dat',\n",
       " 'wonder how old he is',\n",
       " 'was he nice',\n",
       " 'but he liked it',\n",
       " 'was he reminding you then',\n",
       " 'what does he want',\n",
       " 'i wish he would go too',\n",
       " 'how queer that he should come',\n",
       " 'i thought he was at the mountains',\n",
       " 'kiss dear father on the cheek he calls mine',\n",
       " 'thank god he is mending',\n",
       " 'what did he say to that',\n",
       " 'is he ill',\n",
       " 'they like john though he is poor',\n",
       " 'i fancy he has a hard life of it',\n",
       " 'yet he was not at all anxious or worried',\n",
       " 'in his hand he bore a brass hoop',\n",
       " 'had he travelled',\n",
       " 'would he carry him on with him',\n",
       " 'would he not take part with the indians',\n",
       " 'but had he told his master',\n",
       " 'what should he do',\n",
       " 'should he abandon this man',\n",
       " 'what references could he give',\n",
       " 'passepartout was surprised at all he saw',\n",
       " 'what course should he take',\n",
       " 'fogg than he imagined or could desire',\n",
       " 'did he still cherish hope',\n",
       " 'did he think of escaping from it',\n",
       " 'has he ever read my heart',\n",
       " 'why should he present himself at the reform',\n",
       " 'where was he at this moment',\n",
       " 'was he dead',\n",
       " 'but in what a state he was',\n",
       " 'what had he really gained by all this trouble',\n",
       " 'what has he to do with books',\n",
       " 'he will connect himself well if he can',\n",
       " 'depend upon it he had encouragement',\n",
       " 'and how beautiful we thought he looked',\n",
       " 'i hope he will be calling soon',\n",
       " 'this proves that he can leave the churchills',\n",
       " 'i told you he was plain',\n",
       " 'why should he marry',\n",
       " 'he asked me if he could do any thing',\n",
       " 'i knew he would',\n",
       " 'why does not he try bath',\n",
       " 'how angry and how diverted he would be',\n",
       " 'though i think he had better not have married',\n",
       " 'i have an idea he was standing just here',\n",
       " 'i am glad he can afford it',\n",
       " 'yet he would speak',\n",
       " 'churchill that he was prevented coming',\n",
       " 'what could he mean by such horrible indelicacy',\n",
       " 'what has he been judging by',\n",
       " 'at last he came up to morio',\n",
       " 'i have asked golítsyn and he has refused',\n",
       " 'when he has been transferred to the guards',\n",
       " 'and he expects me not to be afraid',\n",
       " 'suddenly he was aware of a stir all around',\n",
       " 'nicholas blushed when he entered the drawing room',\n",
       " 'having said this he glanced at natásha',\n",
       " 'i expect he has forgotten me',\n",
       " 'how ill he is',\n",
       " 'and he is so clever and so good',\n",
       " 'a regular eagle he is',\n",
       " 'think that he is your father',\n",
       " 'but he had no time',\n",
       " 'she did not understand what he was laughing at',\n",
       " 'besides he began by attacking germans',\n",
       " 'write and tell me how he receives you',\n",
       " 'if he is all right—serve him',\n",
       " 'he felt that he must not say it',\n",
       " 'how soon will he be here',\n",
       " 'on reaching the third company he suddenly stopped',\n",
       " 'you know he has important connections',\n",
       " 'did he say when the battles are to begin',\n",
       " 'and he says buonaparte is in braunau',\n",
       " 'what a horse he will be',\n",
       " 'and he also passed on with the wagon',\n",
       " 'can you fancy the figure he cut',\n",
       " 'when had he left krems',\n",
       " 'everywhere he saw friendly looks and heard friendly words',\n",
       " 'this news grieved him and yet he was pleased',\n",
       " 'on their familiar faces he read agitation and alarm',\n",
       " 'did he thank us',\n",
       " 'to rid himself of them he closed his eyes',\n",
       " 'and he again turned to pierre',\n",
       " 'his head sank forward and then he roused himself',\n",
       " 'with quick steps he went joyfully up to pierre',\n",
       " 'he snorted whenever he mentioned him',\n",
       " 'how charmingly he describes',\n",
       " 'and how he has remembered everybody',\n",
       " 'and so he told them all that',\n",
       " 'and what did he say',\n",
       " 'how did he impress you',\n",
       " 'if he is standing before brünn',\n",
       " 'what do you think he replied',\n",
       " 'kutúzov is removed and he is appointed',\n",
       " 'what if he gave me a place near him',\n",
       " 'but still he did not begin the engagement',\n",
       " 'and really he only ran a few steps alone',\n",
       " 'but he saw nothing',\n",
       " 'toward evening he ceased moaning and became quite still',\n",
       " 'how he has changed',\n",
       " 'and is he very nice',\n",
       " 'but all eyes demanded that he should submit',\n",
       " 'had he repented of his unbelief',\n",
       " 'was he now there',\n",
       " 'fancy what he had to go through',\n",
       " 'he had lost more than he could pay',\n",
       " 'and why is he doing this to me',\n",
       " 'trying to stimulate his emotions he looked around',\n",
       " 'opening them mechanically he began reading',\n",
       " 'though he is a german—i congratulate him',\n",
       " 'and he does not want that',\n",
       " 'next day he woke calm and cheerful',\n",
       " 'is he to go up for examination',\n",
       " 'when he put his foot down it sank in',\n",
       " 'he divided the brothers he knew into four categories',\n",
       " 'nor had he any money',\n",
       " 'just look how he treats the ladies',\n",
       " 'as soon as he saw natásha his face brightened',\n",
       " 'a week later he obtained his leave',\n",
       " 'her brother often wondered as he looked at her',\n",
       " 'i know he is',\n",
       " 'is he glad of it or not',\n",
       " 'but he would understand it all',\n",
       " 'where is he now',\n",
       " 'perhaps he came yesterday and i have forgotten it',\n",
       " 'and how he dances',\n",
       " 'then he caught her up',\n",
       " 'is he ill',\n",
       " 'when will he come back',\n",
       " 'at balls he danced if a partner was needed',\n",
       " 'yet he had to live and to find occupation',\n",
       " 'is he here',\n",
       " 'have you heard he is getting married',\n",
       " 'whatever he orders i shall do',\n",
       " 'how dare you say he is dishonorable',\n",
       " 'what did he say',\n",
       " 'what did he say',\n",
       " 'there he is',\n",
       " 'what did he say',\n",
       " 'there he was stopped by french cavalry sentinels',\n",
       " 'balashëv mentioned who he was',\n",
       " 'why has he taken on himself such a responsibility',\n",
       " 'mademoiselle bourienne says he has been asking about you',\n",
       " 'to sónya he wrote separately',\n",
       " 'so why should he have made such a sacrifice',\n",
       " 'and he acted accordingly',\n",
       " 'and how frightened he was',\n",
       " 'there he remained about ten minutes',\n",
       " 'on seeing alpátych he went up to him',\n",
       " 'but he retrieved his mistake at once',\n",
       " 'a good reputation he made for himself at bucharest',\n",
       " 'do you know what he said to the emperor',\n",
       " 'it was impossible to make out what he wanted',\n",
       " 'toward morning he became quiet and she fell asleep',\n",
       " 'again he closed his eyes',\n",
       " 'meanwhile he went himself to the police authorities',\n",
       " 'has he spoken to you of going away',\n",
       " 'evidently he had wanted to talk',\n",
       " 'while talking to tíkhon he asked about me twice',\n",
       " 'what could he have done to me',\n",
       " 'what is he thinking now',\n",
       " 'hardly anyone he knew was left in town',\n",
       " 'now he wants to bob up again',\n",
       " 'on one of them he dwelt long and joyfully',\n",
       " 'again he honored him by touching his ear',\n",
       " 'and while he was doing m',\n",
       " 'therefore it was not he who killed people',\n",
       " 'again he glanced at the ranks',\n",
       " 'why is he here',\n",
       " 'but even that he cannot do',\n",
       " 'but he died',\n",
       " 'happy he who has ears to hear',\n",
       " 'when he reached home it was already getting dark',\n",
       " 'he did not finish what he wished to say',\n",
       " 'how could he be alive',\n",
       " 'coming abreast of the calèche he ran beside it',\n",
       " 'how was he wounded',\n",
       " 'how was he maimed',\n",
       " 'in her imagination he was that terrible moaning personified',\n",
       " 'is he alive',\n",
       " 'he writes that he is regretfully abandoning moscow',\n",
       " 'and he knew that he would never act basely',\n",
       " 'if only he lives',\n",
       " 'why had he fought the marauder',\n",
       " 'again he replied that he could not answer it',\n",
       " 'so he was silent',\n",
       " 'it seemed that he had quite forgotten pierre',\n",
       " 'after a short silence he rose',\n",
       " 'is it long since he grew worse',\n",
       " 'is he quite well',\n",
       " 'without haste or agitation he awaited what was coming',\n",
       " 'formerly he had feared the end',\n",
       " 'and he dared not inquire',\n",
       " 'soon he really shut his eyes and fell asleep',\n",
       " 'where is he now',\n",
       " 'physically he had changed much during this time',\n",
       " 'the longer he thought the more contingencies presented themselves',\n",
       " 'and he handed him his clasp knife',\n",
       " 'at one spot he stopped and listened',\n",
       " 'only he prayed to god for death',\n",
       " 'what did he say',\n",
       " 'and he again started reckoning',\n",
       " 'all around he heard his comrades sobbing with joy',\n",
       " 'natásha knows that he is struggling with terrible pain',\n",
       " 'why does he have that pain',\n",
       " 'what does he feel',\n",
       " 'did he know that',\n",
       " 'was he going to rebuild',\n",
       " 'what a delightful boy he was',\n",
       " 'so he did soften',\n",
       " 'what a splendid man he is',\n",
       " 'really he is quite unlike him—in everything',\n",
       " 'whatever he does succeeds',\n",
       " 'how does he use it',\n",
       " 'among other things he spoke of the boguchárovo elder',\n",
       " 'she asked him where he had been',\n",
       " 'but in time he grew used to this demand',\n",
       " 'papa said he was to have no pudding',\n",
       " 'have you any idea why he went to petersburg',\n",
       " 'pierre finished what he had begun',\n",
       " 'terror seized young nicholas and he awoke',\n",
       " 'and there too he killed a great many',\n",
       " 'scrooge knew he was dead',\n",
       " 'of course he did',\n",
       " 'it was the very thing he liked',\n",
       " 'after several turns he sat down again',\n",
       " 'the chain he drew was clasped about his middle',\n",
       " 'so he listened for the hour',\n",
       " 'it was past two when he went to bed',\n",
       " 'and he sobbed',\n",
       " 'there he is',\n",
       " 'is that so much that he deserves this praise',\n",
       " 'that was the only answer he received',\n",
       " 'why did he not go on',\n",
       " 'and it was clear he meant to do it',\n",
       " 'but he was early at the office next morning',\n",
       " 'then he thought of his flower',\n",
       " 'suddenly he discovered something',\n",
       " 'but now he did not know the necessary symptoms',\n",
       " 'what had he done',\n",
       " 'therefore he must now begin to get ready',\n",
       " 'but he could not find it',\n",
       " 'how can he tell',\n",
       " 'who does he mean',\n",
       " 'did he before',\n",
       " 'then he comprehended',\n",
       " 'so he stepped ashore and entered the woods',\n",
       " 'let him go if he wants to',\n",
       " 'so he said nothing',\n",
       " 'instantly he forgot his quarrel with her',\n",
       " 'but he kept ahead all the time',\n",
       " 'it was hours before he got to sleep',\n",
       " 'who did he rob',\n",
       " 'but he never bothered the poor',\n",
       " 'did he wake up',\n",
       " 'he knew where he was',\n",
       " 'his breath stopped and he listened',\n",
       " 'on this table he placed the mechanism',\n",
       " 'then filby said he was damned',\n",
       " 'then he came into the room',\n",
       " 'afterwards he got more animated',\n",
       " 'then he resumed his narrative',\n",
       " 'will he ever return',\n",
       " 'my mother and he both came from domleschg',\n",
       " 'after that he sought his bed to sleep',\n",
       " 'then he went down to seek his bed again',\n",
       " 'what did he mean',\n",
       " 'i am sure he has not heard me',\n",
       " 'soon he was ready to start',\n",
       " 'sesemann called to his friend as he entered',\n",
       " 'how changed he was since she had seen him',\n",
       " 'only after that did he start with his feast',\n",
       " 'turning quickly he hurried off',\n",
       " 'what kind eyes he had',\n",
       " 'from this day on he progressed more quickly',\n",
       " 'then with a leap he started off',\n",
       " 'sesemann doubted if he had taken the right path',\n",
       " 'he is expecting the punishment he well deserves',\n",
       " 'why should he have destroyed the chair',\n",
       " 'but he seems to be hurt',\n",
       " 'suddenly he began to growl softly',\n",
       " 'but he did not look up',\n",
       " 'mcallister quizzically when he appeared',\n",
       " 'then he went to bed',\n",
       " 'how light he felt',\n",
       " 'he felt as if he could almost fly',\n",
       " 'henry waited until he could have touched him',\n",
       " 'but benny thought he did',\n",
       " 'it was a man who said he would wait',\n",
       " 'then he was apparently thunderstruck afresh',\n",
       " 'he felt he was a strong man again',\n",
       " 'she asked where he lived',\n",
       " 'he thought he had attached the shadow himself',\n",
       " 'but he had no pity for her',\n",
       " 'of course he was on the floor already',\n",
       " 'but he could not or would not say',\n",
       " 'is he big',\n",
       " 'will he find it tonight',\n",
       " 'then again he frowned',\n",
       " 'but it was not wolves he saw',\n",
       " 'then at last he spoke passionately',\n",
       " 'suddenly he tried the guessing game',\n",
       " 'but he had to tell her the truth',\n",
       " 'then at last he stopped',\n",
       " 'but he was far too proud for that',\n",
       " 'then he spoke',\n",
       " 'in two strides he reached the door',\n",
       " 'then he made it out',\n",
       " 'it was because he was so terribly alone',\n",
       " 'for a time he seemed unconscious of their presence',\n",
       " 'then he went on ticking',\n",
       " 'then he took a great breath and crowed',\n",
       " 'and again and again he darted in and pricked',\n",
       " 'then he unbarred the window',\n",
       " 'next year he did not come for her',\n",
       " 'of course he did not strike',\n",
       " 'then he made my nose and my mouth',\n",
       " 'in a moment he was out of sight']"
      ]
     },
     "execution_count": 23,
     "metadata": {},
     "output_type": "execute_result"
    }
   ],
   "source": [
    "[sentence for sentence in sentences if ' he ' in sentence]"
   ]
  },
  {
   "cell_type": "code",
   "execution_count": null,
   "id": "9efc2fe8",
   "metadata": {},
   "outputs": [],
   "source": []
  }
 ],
 "metadata": {
  "kernelspec": {
   "display_name": "Python 3",
   "language": "python",
   "name": "python3"
  },
  "language_info": {
   "codemirror_mode": {
    "name": "ipython",
    "version": 3
   },
   "file_extension": ".py",
   "mimetype": "text/x-python",
   "name": "python",
   "nbconvert_exporter": "python",
   "pygments_lexer": "ipython3",
   "version": "3.8.10"
  }
 },
 "nbformat": 4,
 "nbformat_minor": 5
}
