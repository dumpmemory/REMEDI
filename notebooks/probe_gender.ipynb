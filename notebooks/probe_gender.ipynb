{
 "cells": [
  {
   "cell_type": "code",
   "execution_count": null,
   "id": "67aea691",
   "metadata": {},
   "outputs": [],
   "source": [
    "device = 'cuda'"
   ]
  },
  {
   "cell_type": "code",
   "execution_count": null,
   "id": "0ffda8d8",
   "metadata": {},
   "outputs": [],
   "source": [
    "import transformers\n",
    "\n",
    "tokenizer = transformers.AutoTokenizer.from_pretrained('roberta-base')\n",
    "model = transformers.AutoModelForMaskedLM.from_pretrained('roberta-base').to(device)"
   ]
  },
  {
   "cell_type": "code",
   "execution_count": null,
   "id": "ed932de5",
   "metadata": {},
   "outputs": [],
   "source": [
    "import names_dataset\n",
    "nd = names_dataset.NameDataset()"
   ]
  },
  {
   "cell_type": "code",
   "execution_count": null,
   "id": "1a799956",
   "metadata": {},
   "outputs": [],
   "source": [
    "from torch.utils import data\n",
    "\n",
    "\n",
    "class Sentencify:\n",
    "    \n",
    "    def __init__(self, template):\n",
    "        self.template = template\n",
    "        \n",
    "    def __call__(self, name):\n",
    "        return self.template.format(name=name)\n",
    "\n",
    "class Dataset(data.Dataset):\n",
    "    \n",
    "    def __init__(self, n=1000, offset=0, sentencify=Sentencify('{name} climbed the hill.')):\n",
    "        names = nd.get_top_names(n=n, country_alpha2='US')['US']\n",
    "\n",
    "        self.male = names['M'][offset:]\n",
    "        self.female = names['F'][offset:]\n",
    "\n",
    "        self.data = [(sentencify(name), 0) for name in self.male]\n",
    "        self.data += [(sentencify(name), 1) for name in self.female]\n",
    "    \n",
    "    def __getitem__(self, index):\n",
    "        return self.data[index]\n",
    "    \n",
    "    def __len__(self):\n",
    "        return len(self.data)\n",
    "\n",
    "dataset = Dataset(n=500)"
   ]
  },
  {
   "cell_type": "code",
   "execution_count": null,
   "id": "537cc82e",
   "metadata": {},
   "outputs": [],
   "source": [
    "import torch\n",
    "from torch import nn, optim\n",
    "from tqdm.auto import tqdm\n",
    "\n",
    "model.to(device)\n",
    "probe = nn.Sequential(\n",
    "    nn.Linear(768, 768),\n",
    "    nn.ReLU(),\n",
    "    nn.Linear(768, 1),\n",
    ").to(device)\n",
    "optimizer = optim.AdamW(probe.parameters(), lr=1e-3)\n",
    "criterion = nn.BCEWithLogitsLoss()\n",
    "\n",
    "val_size = int(.1 * len(dataset))\n",
    "train_size = len(dataset) - val_size\n",
    "train, val = data.random_split(dataset, (train_size, val_size))\n",
    "train_loader = data.DataLoader(train, batch_size=128, shuffle=True)\n",
    "val_loader = data.DataLoader(val, batch_size=128)\n",
    "\n",
    "bad, best, state_dict = 0, float('inf'), None\n",
    "for epoch in range(25):\n",
    "    probe.train()\n",
    "    train_loss = 0\n",
    "    for sentences, targets in tqdm(train_loader, desc=f'epoch {epoch}'):\n",
    "        inputs = tokenizer(list(sentences), return_tensors='pt', padding='longest').to(device)\n",
    "        outputs = model(**inputs, return_dict=True, output_hidden_states=True)\n",
    "        reps = outputs.hidden_states[-1][:, 1]\n",
    "        predictions = probe(reps)\n",
    "        loss = criterion(predictions, targets.to(device)[:, None].float())\n",
    "        loss.backward()\n",
    "        optimizer.step()\n",
    "        optimizer.zero_grad()\n",
    "\n",
    "        train_loss += loss.item()\n",
    "    train_loss /= len(loader)\n",
    "    print('train', train_loss)\n",
    "\n",
    "    probe.eval()\n",
    "    val_loss = 0\n",
    "    for sentences, targets in val_loader:\n",
    "        inputs = tokenizer(list(sentences), return_tensors='pt', padding='longest').to(device)\n",
    "        with torch.inference_mode():\n",
    "            outputs = model(**inputs, return_dict=True, output_hidden_states=True)\n",
    "            reps = outputs.hidden_states[-1][:, 1]\n",
    "            predictions = probe(reps)\n",
    "            loss = criterion(predictions, targets.to(device)[:, None].float())        \n",
    "        val_loss += loss.item()\n",
    "    val_loss /= len(val_loader)\n",
    "    print('val', val_loss)\n",
    "\n",
    "    if val_loss < best:\n",
    "        bad = 0\n",
    "        best = val_loss\n",
    "        state_dict = probe.state_dict()\n",
    "    else:\n",
    "        bad += 1\n",
    "\n",
    "    if bad >= 4:\n",
    "        assert state_dict is not None\n",
    "        probe.load_state_dict(state_dict)\n",
    "        break"
   ]
  },
  {
   "cell_type": "code",
   "execution_count": null,
   "id": "8ba658ec",
   "metadata": {},
   "outputs": [],
   "source": [
    "@torch.inference_mode()\n",
    "def predict(sentence, token=1):\n",
    "    inputs = tokenizer([sentence], return_tensors='pt', padding='longest').to(device)\n",
    "    print(tokenizer.convert_ids_to_tokens(inputs.input_ids.squeeze().tolist()))\n",
    "    outputs = model(**inputs, return_dict=True, output_hidden_states=True)\n",
    "    reps = outputs.hidden_states[-1][:, token]\n",
    "    predictions = probe(reps)\n",
    "    score = torch.sigmoid(predictions.squeeze()).item()\n",
    "    return 'F' if  score > .5 else 'M', score\n",
    "\n",
    "predict('The doctor is climbing the hill. They work hard.', token=2)"
   ]
  },
  {
   "cell_type": "code",
   "execution_count": null,
   "id": "015e71af",
   "metadata": {},
   "outputs": [],
   "source": [
    "class FlippedDataset(data.Dataset):\n",
    "    \n",
    "    def __init__(self, dataset):\n",
    "        self.data = []\n",
    "        for i in range(len(dataset)):\n",
    "            sentence, gender = dataset.data[i]\n",
    "            pronoun = 'He' if gender else 'She'\n",
    "            sentence = f'{sentence}. {pronoun} was tired.'\n",
    "            self.data.append((sentence, 1 - gender))\n",
    "\n",
    "    def __getitem__(self, index):\n",
    "        return self.data[index]\n",
    "\n",
    "    def __len__(self):\n",
    "        return len(self.data)\n",
    "\n",
    "flipped = FlippedDataset(Dataset(n=10000, offset=5000))\n",
    "\n",
    "@torch.inference_mode()\n",
    "def accuracy(dataset, probe=probe):\n",
    "    loader = data.DataLoader(dataset, batch_size=128)\n",
    "    correct = 0\n",
    "    for sentences, targets in tqdm(loader):\n",
    "        inputs = tokenizer(list(sentences), return_tensors='pt', padding='longest').to(device)\n",
    "        outputs = model(**inputs, return_dict=True, output_hidden_states=True)\n",
    "        reps = outputs.hidden_states[-1][:, 1]\n",
    "        predictions = probe(reps).gt(.5).long()\n",
    "        correct += predictions.eq(targets[:, None].to(device)).sum()\n",
    "    return correct / len(val)\n",
    "\n",
    "print(accuracy(flipped))"
   ]
  },
  {
   "cell_type": "markdown",
   "id": "fc49005c",
   "metadata": {},
   "source": [
    "# Potential source of sentences?"
   ]
  },
  {
   "cell_type": "code",
   "execution_count": null,
   "id": "51d3bffc",
   "metadata": {},
   "outputs": [],
   "source": [
    "import pathlib\n",
    "\n",
    "sentences_files = pathlib.Path('/raid/lingo/dez/code/gutenberg/data/parsed').glob('*.txt')\n",
    "\n",
    "sentences = []\n",
    "for sentences_file in sentences_files:\n",
    "    with sentences_file.open('r') as handle:\n",
    "        sentences += list(handle.read().split('\\n'))        "
   ]
  },
  {
   "cell_type": "code",
   "execution_count": null,
   "id": "dc0bbdc1",
   "metadata": {},
   "outputs": [],
   "source": [
    "[sentence for sentence in sentences if ' he ' in sentence]"
   ]
  },
  {
   "cell_type": "code",
   "execution_count": null,
   "id": "9efc2fe8",
   "metadata": {},
   "outputs": [],
   "source": []
  }
 ],
 "metadata": {
  "kernelspec": {
   "display_name": "Python 3",
   "language": "python",
   "name": "python3"
  },
  "language_info": {
   "codemirror_mode": {
    "name": "ipython",
    "version": 3
   },
   "file_extension": ".py",
   "mimetype": "text/x-python",
   "name": "python",
   "nbconvert_exporter": "python",
   "pygments_lexer": "ipython3",
   "version": "3.8.10"
  }
 },
 "nbformat": 4,
 "nbformat_minor": 5
}
