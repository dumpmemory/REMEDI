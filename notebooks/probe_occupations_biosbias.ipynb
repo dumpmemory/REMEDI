{
 "cells": [
  {
   "cell_type": "code",
   "execution_count": null,
   "id": "a7a5be0a",
   "metadata": {},
   "outputs": [],
   "source": [
    "import pathlib\n",
    "import pickle\n",
    "\n",
    "bios_file = pathlib.Path('../biosbias/BIOS.pkl')\n",
    "with bios_file.open('rb') as handle:\n",
    "    data = pickle.load(handle)"
   ]
  },
  {
   "cell_type": "code",
   "execution_count": null,
   "id": "93ab9ddf",
   "metadata": {},
   "outputs": [],
   "source": [
    "data[0]"
   ]
  },
  {
   "cell_type": "code",
   "execution_count": null,
   "id": "17bf2b9f",
   "metadata": {},
   "outputs": [],
   "source": [
    "title_indexer = {}\n",
    "for x in data:\n",
    "    title = x['title']\n",
    "    if title not in title_indexer:\n",
    "        title_indexer[title] = len(title_indexer)\n",
    "\n",
    "gender_indexer = {'M': 0, 'F': 1}\n",
    "\n",
    "title_indexer, gender_indexer"
   ]
  },
  {
   "cell_type": "code",
   "execution_count": null,
   "id": "abd6d65f",
   "metadata": {},
   "outputs": [],
   "source": [
    "device = 'cuda:1'"
   ]
  },
  {
   "cell_type": "code",
   "execution_count": null,
   "id": "9e6c0af9",
   "metadata": {},
   "outputs": [],
   "source": [
    "import transformers\n",
    "\n",
    "tokenizer = transformers.AutoTokenizer.from_pretrained('roberta-base')\n",
    "model = transformers.AutoModelForMaskedLM.from_pretrained('roberta-base').to(device)"
   ]
  },
  {
   "cell_type": "code",
   "execution_count": null,
   "id": "3710adc4",
   "metadata": {},
   "outputs": [],
   "source": [
    "import torch.utils.data\n",
    "\n",
    "\n",
    "class Dataset(torch.utils.data.Dataset):\n",
    "    \n",
    "    def __init__(self, data):\n",
    "        self.data = data\n",
    "    \n",
    "    def __getitem__(self, index):\n",
    "        x = self.data[index]\n",
    "        bio = x['raw']\n",
    "        bio = bio[bio.index(x['name'][0]):]\n",
    "        mention = 1\n",
    "        return bio, title_indexer[x['title']], mention, gender_indexer[x['gender']]\n",
    "\n",
    "    def __len__(self):\n",
    "        return len(self.data)\n",
    "\n",
    "dataset = Dataset(data)"
   ]
  },
  {
   "cell_type": "code",
   "execution_count": null,
   "id": "759270b1",
   "metadata": {},
   "outputs": [],
   "source": [
    "dataset[110]"
   ]
  },
  {
   "cell_type": "code",
   "execution_count": null,
   "id": "977373b6",
   "metadata": {},
   "outputs": [],
   "source": [
    "from tqdm.auto import tqdm\n",
    "\n",
    "for i in tqdm(range(len(dataset))):\n",
    "    dataset[i]"
   ]
  },
  {
   "cell_type": "code",
   "execution_count": null,
   "id": "b7e5a62b",
   "metadata": {},
   "outputs": [],
   "source": [
    "import torch\n",
    "from torch import nn, optim\n",
    "from tqdm.auto import tqdm\n",
    "\n",
    "model.to(device)\n",
    "probe = nn.Sequential(\n",
    "    nn.Linear(768, 768),\n",
    "    nn.ReLU(),\n",
    "    nn.Linear(768, len(title_indexer)),\n",
    ").to(device)\n",
    "optimizer = optim.AdamW(probe.parameters(), lr=1e-3)\n",
    "criterion = nn.CrossEntropyLoss()\n",
    "\n",
    "val_size = int(.1 * len(dataset))\n",
    "train_size = len(dataset) - val_size\n",
    "train, val = torch.utils.data.random_split(dataset, (train_size, val_size))\n",
    "train_loader = torch.utils.data.DataLoader(train, batch_size=32, shuffle=True)\n",
    "val_loader = torch.utils.data.DataLoader(val, batch_size=32)\n",
    "\n",
    "bad, best, state_dict = 0, float('inf'), None\n",
    "for epoch in range(1):\n",
    "    description = f'epoch {epoch}'\n",
    "    progress = tqdm(train_loader, desc=description)\n",
    "\n",
    "    probe.train()\n",
    "    train_loss = 0\n",
    "    for sentences, targets, mentions, _ in progress:\n",
    "        inputs = tokenizer(list(sentences), return_tensors='pt', padding='longest').to(device)\n",
    "        outputs = model(**inputs, return_dict=True, output_hidden_states=True)\n",
    "        reps = outputs.hidden_states[-1][range(len(sentences)), sorted(mentions)]\n",
    "        predictions = probe(reps)\n",
    "        loss = criterion(predictions, targets.to(device))\n",
    "        loss.backward()\n",
    "        optimizer.step()\n",
    "        optimizer.zero_grad()\n",
    "\n",
    "        train_loss += loss.item()\n",
    "        progress.set_description(f'{description} (loss={loss.item():.3f})')\n",
    "    train_loss /= len(train_loader)\n",
    "    print('train', train_loss)"
   ]
  },
  {
   "cell_type": "code",
   "execution_count": null,
   "id": "54630f40",
   "metadata": {},
   "outputs": [],
   "source": [
    "reverse_title_indexer = {index: title for title, index in title_indexer.items()}\n",
    "\n",
    "@torch.inference_mode()\n",
    "def predict(sentence, token=1):\n",
    "    inputs = tokenizer([sentence], return_tensors='pt', padding='longest').to(device)\n",
    "    print(tokenizer.convert_ids_to_tokens(inputs.input_ids.squeeze().tolist()))\n",
    "    outputs = model(**inputs, return_dict=True, output_hidden_states=True)\n",
    "    reps = outputs.hidden_states[-1][:, token]\n",
    "    predictions = probe(reps)\n",
    "    return reverse_title_indexer[predictions.argmax(dim=-1).squeeze().item()]\n",
    "\n",
    "predict('On a hike, my surgeon, Alex, told me about his most recent patient. Alex has an MD degree from UCSF. He specialized in cardiothoracic surgery.', token=8)"
   ]
  },
  {
   "cell_type": "code",
   "execution_count": null,
   "id": "cdcfc0ae",
   "metadata": {},
   "outputs": [],
   "source": [
    "@torch.inference_mode()\n",
    "def accuracy(dataset, probe=probe):\n",
    "    loader = torch.utils.data.DataLoader(dataset, batch_size=32)\n",
    "    correct = 0\n",
    "    for sentences, targets, mentions, _ in tqdm(loader):\n",
    "        inputs = tokenizer(list(sentences), return_tensors='pt', padding='longest').to(device)\n",
    "        outputs = model(**inputs, return_dict=True, output_hidden_states=True)\n",
    "        reps = outputs.hidden_states[-1][range(len(sentences)), mentions]\n",
    "        predictions = probe(reps).argmax(dim=-1).long()\n",
    "        correct += predictions.eq(targets.to(device)).sum()\n",
    "    return correct / len(dataset)\n",
    "\n",
    "print(accuracy(val))"
   ]
  },
  {
   "cell_type": "code",
   "execution_count": null,
   "id": "d54c0552",
   "metadata": {},
   "outputs": [],
   "source": [
    "# Pick 10-20 attributes, similar to this\n",
    "# Try with linear probes?\n",
    "# Belinda-style probe; dot bert REPs"
   ]
  }
 ],
 "metadata": {
  "kernelspec": {
   "display_name": "Python 3",
   "language": "python",
   "name": "python3"
  },
  "language_info": {
   "codemirror_mode": {
    "name": "ipython",
    "version": 3
   },
   "file_extension": ".py",
   "mimetype": "text/x-python",
   "name": "python",
   "nbconvert_exporter": "python",
   "pygments_lexer": "ipython3",
   "version": "3.8.10"
  }
 },
 "nbformat": 4,
 "nbformat_minor": 5
}
