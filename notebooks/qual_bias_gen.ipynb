{
 "cells": [
  {
   "cell_type": "code",
   "execution_count": null,
   "id": "ae80ff83",
   "metadata": {},
   "outputs": [],
   "source": [
    "import sys\n",
    "sys.path.append(\"..\")"
   ]
  },
  {
   "cell_type": "code",
   "execution_count": null,
   "id": "5f46edab",
   "metadata": {},
   "outputs": [],
   "source": [
    "from remedi import data\n",
    "data.disable_caching()\n",
    "dataset = data.load_dataset(\"biosbias\", split=\"train[5000:10000]\")"
   ]
  },
  {
   "cell_type": "code",
   "execution_count": null,
   "id": "4c968a49",
   "metadata": {},
   "outputs": [],
   "source": [
    "import json\n",
    "from pathlib import Path\n",
    "\n",
    "RESULTS_ROOT = Path(\"../results\")\n",
    "assert RESULTS_ROOT.exists()"
   ]
  },
  {
   "cell_type": "code",
   "execution_count": null,
   "id": "128b903f",
   "metadata": {},
   "outputs": [],
   "source": [
    "!ls ../results/icml_eval_bias_gen_gptj/linear/11"
   ]
  },
  {
   "cell_type": "code",
   "execution_count": null,
   "id": "e81f85a6",
   "metadata": {},
   "outputs": [],
   "source": [
    "EXPERIMENT_NAME = \"icml_eval_bias_gen_gptj\"\n",
    "results_dir = RESULTS_ROOT / EXPERIMENT_NAME / \"linear/11\"\n",
    "\n",
    "baseline_results_file = RESULTS_ROOT / EXPERIMENT_NAME / \"baseline.json\"\n",
    "with baseline_results_file.open(\"r\") as handle:\n",
    "    baseline_results = json.load(handle)\n",
    "\n",
    "editor_results_file = results_dir / \"error_correction.json\"\n",
    "with editor_results_file.open(\"r\") as handle:\n",
    "    editor_results = json.load(handle)"
   ]
  },
  {
   "cell_type": "code",
   "execution_count": null,
   "id": "6fcaf398",
   "metadata": {},
   "outputs": [],
   "source": [
    "import random\n",
    "# i = 21\n",
    "# i = 33\n",
    "# i = 52\n",
    "# i = 55\n",
    "# i = 252\n",
    "# i = 299\n",
    "# i = 1000\n",
    "# i = 2153\n",
    "# i = 3203\n",
    "# i = 4102\n",
    "# i = 727\n",
    "# i = 3427\n",
    "# i = 1039\n",
    "i = random.choice(range(5000))\n",
    "print((baseline_results[\"samples\"][i][\"prompt\"] + baseline_results[\"samples\"][i][\"generation\"]).replace(\"\\n\", \" \").replace(\"  \", \" \"))\n",
    "print()\n",
    "print((baseline_results[\"samples\"][i][\"prompt\"] + editor_results[\"samples\"][i][\"generation\"]).replace(\"\\n\", \" \").replace(\"  \", \" \"))"
   ]
  },
  {
   "cell_type": "code",
   "execution_count": null,
   "id": "31e0b042",
   "metadata": {},
   "outputs": [],
   "source": [
    "i"
   ]
  },
  {
   "cell_type": "code",
   "execution_count": null,
   "id": "b295fe04",
   "metadata": {},
   "outputs": [],
   "source": [
    "def clean_result(result):\n",
    "    # Take just the first few sentences / the first thought.\n",
    "    if \"\\n\\n\" in result:\n",
    "        result = result.split(\"\\n\\n\")[0]\n",
    "\n",
    "    limit = 2 if \"Inc. \" not in result else 3\n",
    "    result = \". \".join(result.split(\". \")[:limit])\n",
    "\n",
    "    # Sometimes CounterFact does not capitalize the entity, do so for presentation.\n",
    "    result = result[0].upper() + result[1:]\n",
    "\n",
    "    if not result.endswith(\".\"):\n",
    "        result += \".\"\n",
    "\n",
    "    return result\n",
    "\n",
    "rows = []\n",
    "for index, corrects in (\n",
    "#     21,\n",
    "#     33,\n",
    "    (52, (False, True)),\n",
    "#     252,\n",
    "#     299,\n",
    "#     1000,\n",
    "#     2153,\n",
    "#     3203,\n",
    "#     (4102, (False, True)), # Alternative to the below\n",
    "    (55, (False, True)),\n",
    "    \n",
    "#     727,\n",
    "#     3427,\n",
    "    (1039, (False, True)),\n",
    "    (3795, (True, True)),\n",
    "    \n",
    "):\n",
    "    source = dataset[index]\n",
    "    \n",
    "    entity = source[\"entity\"]\n",
    "\n",
    "    attribute = source[\"context\"]\n",
    "    prompt = source[\"prompt\"]\n",
    "\n",
    "    prompt = r\"\\underline{\\textbf{\" + prompt + \"}}\"\n",
    "\n",
    "    in_context = prompt + baseline_results[\"samples\"][index][\"generation\"].replace(attribute, \"\")\n",
    "    if index == 3795:\n",
    "        in_context = in_context.replace(\"\\n\\n\", \" \")\n",
    "    in_context = clean_result(in_context)\n",
    "    edited = clean_result(prompt + editor_results[\"samples\"][index][\"generation\"].replace(attribute, \"\"))\n",
    "\n",
    "    in_context_marker = r\"\\correctmarker \" if corrects[0] else r\"\\wrongmarker\"\n",
    "    edited_marker =  r\"\\correctmarker \" if corrects[1] else f\"\\wrongmarker \"\n",
    "    \n",
    "    in_context = in_context_marker + in_context\n",
    "    edited = edited_marker + edited\n",
    "    \n",
    "    truncated_attribute = \" \".join(attribute.split(\" \")[:18])\n",
    "    if truncated_attribute != attribute:\n",
    "        truncated_attribute = truncated_attribute.rstrip() + r\"\\dots\"\n",
    "\n",
    "    if entity in (\"Johanna\", \"Lauren\"):\n",
    "        truncated_attribute = truncated_attribute.replace(entity, entity + \"'s\")\n",
    "\n",
    "    row = [\n",
    "        index,\n",
    "        entity,\n",
    "        truncated_attribute,\n",
    "        in_context,\n",
    "        edited,\n",
    "    ]\n",
    "    rows.append(row)\n",
    "\n",
    "rows"
   ]
  },
  {
   "cell_type": "code",
   "execution_count": null,
   "id": "c3e8f80b",
   "metadata": {},
   "outputs": [],
   "source": [
    "table_str = (r\"\\\\ \" + \"\\n\").join(\n",
    "    \" & \".join(r[1:]) for r in rows\n",
    ") + r\" \\\\\"\n",
    "print(table_str)"
   ]
  },
  {
   "cell_type": "code",
   "execution_count": null,
   "id": "c96be5f9",
   "metadata": {},
   "outputs": [],
   "source": []
  }
 ],
 "metadata": {
  "kernelspec": {
   "display_name": "Python 3 (ipykernel)",
   "language": "python",
   "name": "python3"
  },
  "language_info": {
   "codemirror_mode": {
    "name": "ipython",
    "version": 3
   },
   "file_extension": ".py",
   "mimetype": "text/x-python",
   "name": "python",
   "nbconvert_exporter": "python",
   "pygments_lexer": "ipython3",
   "version": "3.10.0"
  }
 },
 "nbformat": 4,
 "nbformat_minor": 5
}
