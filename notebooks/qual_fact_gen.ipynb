{
 "cells": [
  {
   "cell_type": "code",
   "execution_count": null,
   "id": "92e184bd",
   "metadata": {},
   "outputs": [],
   "source": [
    "import sys\n",
    "sys.path.append(\"..\")"
   ]
  },
  {
   "cell_type": "code",
   "execution_count": null,
   "id": "e31d6dc5",
   "metadata": {},
   "outputs": [],
   "source": [
    "from src import data\n",
    "data.disable_caching()\n",
    "dataset = data.load_dataset(\"counterfact\", split=\"train[5000:10000]\")"
   ]
  },
  {
   "cell_type": "code",
   "execution_count": null,
   "id": "94fdc20c",
   "metadata": {},
   "outputs": [],
   "source": [
    "import json\n",
    "from pathlib import Path\n",
    "\n",
    "RESULTS_ROOT = Path(\"../results\")\n",
    "assert RESULTS_ROOT.exists()"
   ]
  },
  {
   "cell_type": "code",
   "execution_count": null,
   "id": "cda98789",
   "metadata": {},
   "outputs": [],
   "source": [
    "EXPERIMENT_NAME = \"icml_eval_fact_gen_gptj\"\n",
    "results_dir = RESULTS_ROOT / EXPERIMENT_NAME / \"linear/1\"\n",
    "\n",
    "essence_results_file = results_dir / \"essence.json\"\n",
    "with essence_results_file.open(\"r\") as handle:\n",
    "    essence_results = json.load(handle)"
   ]
  },
  {
   "cell_type": "code",
   "execution_count": null,
   "id": "8d759cbe",
   "metadata": {},
   "outputs": [],
   "source": [
    "[i for i, x in enumerate(dataset) if \"brazil\" in x[\"entity\"].lower()]"
   ]
  },
  {
   "cell_type": "code",
   "execution_count": null,
   "id": "6858c2ef",
   "metadata": {},
   "outputs": [],
   "source": [
    "# Fun examples:\n",
    "# - 25\n",
    "# - 0\n",
    "# - 501\n",
    "# - 2497 # but model is wrong initially\n",
    "# - 2518\n",
    "# - 2521\n",
    "# - 2597\n",
    "# - 3109\n",
    "# - 3316\n",
    "# - 1008  # not the best, but cute\n",
    "# - 4515\n",
    "i = 1114\n",
    "# i = 48\n",
    "# i = 78\n",
    "dataset[i], essence_results[\"samples\"][i]"
   ]
  },
  {
   "cell_type": "code",
   "execution_count": null,
   "id": "b00d598d",
   "metadata": {},
   "outputs": [],
   "source": [
    "generation_results_file = results_dir / \"generation.json\"\n",
    "with generation_results_file.open(\"r\") as handle:\n",
    "    generation_results = json.load(handle)"
   ]
  },
  {
   "cell_type": "code",
   "execution_count": null,
   "id": "416aa2ac",
   "metadata": {},
   "outputs": [],
   "source": [
    "in_context_essence_results_file = results_dir.parent.parent / \"prefix\" / \"essence.json\"\n",
    "with in_context_essence_results_file.open(\"r\") as handle:\n",
    "    in_context_essence_results = json.load(handle)"
   ]
  },
  {
   "cell_type": "code",
   "execution_count": null,
   "id": "37fe5dcc",
   "metadata": {},
   "outputs": [],
   "source": [
    "in_context_generation_results_file = results_dir.parent.parent / \"prefix\" / \"generation.json\"\n",
    "with in_context_generation_results_file.open(\"r\") as handle:\n",
    "    in_context_generation_results = json.load(handle)"
   ]
  },
  {
   "cell_type": "code",
   "execution_count": null,
   "id": "c57f7c52",
   "metadata": {
    "scrolled": true
   },
   "outputs": [],
   "source": [
    "import random\n",
    "i = random.choice(list(range(5000)))\n",
    "# i = 4426\n",
    "print(i, dataset[i][\"entity\"], \"+\", dataset[i][\"attribute\"])\n",
    "print()\n",
    "\n",
    "print(\"--- in context ---\")\n",
    "print(in_context_essence_results[\"samples\"][i][\"generation\"].replace(\"\\n\", \" \").replace(\"  \", \" \"))\n",
    "print()\n",
    "for g in [\n",
    "    g.replace(\"\\n\", \" \").replace(\"  \", \" \")\n",
    "    for g in in_context_generation_results[\"samples\"][i][\"generations\"]\n",
    "]:\n",
    "    print(g)\n",
    "\n",
    "print(\"--- REMEDI ---\")\n",
    "print(essence_results[\"samples\"][i][\"generation\"].replace(\"\\n\", \" \").replace(\"  \", \" \"))\n",
    "print()\n",
    "for g in [\n",
    "    g.replace(\"\\n\", \" \").replace(\"  \", \" \")\n",
    "    for g in generation_results[\"samples\"][i][\"generations\"]\n",
    "]:\n",
    "    print(g)"
   ]
  },
  {
   "cell_type": "code",
   "execution_count": null,
   "id": "2aa8aa8c",
   "metadata": {},
   "outputs": [],
   "source": [
    "def clean_result(result):\n",
    "    # Take just the first few sentences / the first thought.\n",
    "    if \"\\n\\n\" in result:\n",
    "        result = result.replace(\"\\n\\n\", \" \")\n",
    "\n",
    "    if \"Kremlin\" in result:\n",
    "        limit = 2\n",
    "    else:\n",
    "        limit = 2 if \"Inc. \" not in result else 3\n",
    "    result = \". \".join(result.split(\". \")[:limit])\n",
    "\n",
    "    # Sometimes CounterFact does not capitalize the entity, do so for presentation.\n",
    "    result = result[0].upper() + result[1:]\n",
    "\n",
    "    return result\n",
    "\n",
    "# For teaser:\n",
    "# 1033\n",
    "# 95\n",
    "# 1323\n",
    "\n",
    "# Just really good:\n",
    "# 4845\n",
    "\n",
    "# Both succeed:\n",
    "# 887\n",
    "# 3729\n",
    "# 695\n",
    "# 4989\n",
    "# 1064\n",
    "# 3150\n",
    "# 4865 **\n",
    "# 1059 **\n",
    "# 4100 **\n",
    "# 2521\n",
    "\n",
    "# Ours failed:\n",
    "# 3177\n",
    "# 2741\n",
    "# 3192 ** \n",
    "\n",
    "examples = [\n",
    "    (25, \"essence\", None, (False, True)),\n",
    "#     (501, \"essence\", 0),  # Honda\n",
    "#     (2518, \"essence\", None),\n",
    "#     (2521, \"generation\", 2),\n",
    "#     (3109, \"essence\", None),\n",
    "    (3316, \"essence\", None, (False, True)),\n",
    "#     (4515, \"essence\", None),\n",
    "    (1114, \"essence\", None, (False, True)),\n",
    "    # Both succeed.\n",
    "#     (4865, \"essence\", None, (True, True)),\n",
    "#     (2878, \"generation\", (2, 0), (True, True)),\n",
    "#     (4143, \"essence\", None, (True, True)),\n",
    "    (1839, \"generation\", (0, 2), (True, True)),\n",
    "    # Ours fails.\n",
    "    (3192, \"generation\", (1, 2), (True, False)),\n",
    "]\n",
    "rows = []\n",
    "for index, source, positions, corrects in examples:\n",
    "    if source == \"essence\":\n",
    "        result = essence_results[\"samples\"][index][\"generation\"]\n",
    "        in_context_result = in_context_essence_results[\"samples\"][index][\"generation\"]\n",
    "    else:\n",
    "        assert source == \"generation\"\n",
    "        assert positions is not None\n",
    "        in_context_result = in_context_generation_results[\"samples\"][index][\"generations\"][positions[0]]\n",
    "        in_context_result = in_context_result.replace(dataset[index][\"context\"], \"\").lstrip(\". \")\n",
    "        result = generation_results[\"samples\"][index][\"generations\"][positions[1]]\n",
    "\n",
    "    result = clean_result(result)\n",
    "    in_context_result = clean_result(in_context_result)\n",
    "\n",
    "    sample = dataset[index]\n",
    "\n",
    "    entity = sample[\"entity\"]\n",
    "    attribute = sample[\"prompt\"] \n",
    "    if attribute.startswith(entity):\n",
    "        attribute = attribute.replace(entity, \"\").strip(\", \")\n",
    "    attribute = f\"{attribute} {sample['target_mediated']}\"\n",
    "    \n",
    "    if index == 1839:\n",
    "        # hard to format this one automatically\n",
    "        attribute = \"greatest strength is basketball\"\n",
    "\n",
    "    row = (\n",
    "        index,\n",
    "        corrects,\n",
    "        entity,\n",
    "        attribute,\n",
    "        in_context_result,\n",
    "        result,\n",
    "    )\n",
    "    rows.append(row)\n",
    "rows"
   ]
  },
  {
   "cell_type": "code",
   "execution_count": null,
   "id": "414311b4",
   "metadata": {},
   "outputs": [],
   "source": [
    "formatted_rows = []\n",
    "for (_, corrects, entity, attribute, in_context, edited) in rows:\n",
    "    row = list(row)\n",
    "\n",
    "    entity = entity[0].upper() + entity[1:]\n",
    "\n",
    "    prefix = entity + \" is\"\n",
    "    if in_context.startswith(prefix):\n",
    "        in_context = (r\"\\underline{\\textbf{\" + f\"{prefix}\" + \"}}\") + in_context[len(prefix):]\n",
    "#         suffix = in_context[len(prefix):]\n",
    "#         in_context = in_context.replace(suffix, r\"\\textcolor{red}{\" + f\"{suffix}\" + \"}\")\n",
    "    if edited.startswith(prefix):\n",
    "        edited = (r\"\\underline{\\textbf{\" + f\"{prefix}\" + \"}}\") + edited[len(prefix):]\n",
    "#         suffix = edited[len(prefix):]        \n",
    "#         edited = edited.replace(suffix, r\"\\textcolor{blue}{\" + f\"{suffix}\" + \"}\")\n",
    "\n",
    "    if not in_context.endswith(\".\"):\n",
    "        in_context += \".\"\n",
    "    if not edited.endswith(\".\"):\n",
    "        edited += \".\"\n",
    "\n",
    "    in_context_marker = r\"\\correctmarker \" if corrects[0] else r\"\\wrongmarker\"\n",
    "    edited_marker =  r\"\\correctmarker \" if corrects[1] else f\"\\wrongmarker \"\n",
    "\n",
    "    in_context = in_context_marker + in_context\n",
    "    edited = edited_marker + edited\n",
    "\n",
    "    formatted_row = \" & \".join([\n",
    "        entity,\n",
    "        attribute,\n",
    "        in_context,\n",
    "        edited,\n",
    "    ])\n",
    "    formatted_rows.append(formatted_row)\n",
    "\n",
    "table_str = (r\" \\\\\" + \"\\n\").join(formatted_rows) + r\" \\\\\"\n",
    "print(table_str)"
   ]
  },
  {
   "cell_type": "code",
   "execution_count": null,
   "id": "4d637e44",
   "metadata": {},
   "outputs": [],
   "source": [
    "from src import models"
   ]
  },
  {
   "cell_type": "code",
   "execution_count": null,
   "id": "5adb0568",
   "metadata": {},
   "outputs": [],
   "source": [
    "# device = \"cuda:1\"\n",
    "# mt = models.load_model(\"EleutherAI/gpt-j-6B\", fp16=True, device=device)"
   ]
  },
  {
   "cell_type": "code",
   "execution_count": null,
   "id": "16acec07",
   "metadata": {},
   "outputs": [],
   "source": [
    "# inputs = mt.tokenizer(\"Gianni Versace S.p.A.'s headquarters is\", return_tensors=\"pt\").to(device)\n",
    "# outputs = mt.model.generate(**inputs, pad_token_id=mt.tokenizer.eos_token_id, max_length=50)\n",
    "# mt.tokenizer.batch_decode(outputs)"
   ]
  },
  {
   "cell_type": "code",
   "execution_count": null,
   "id": "a76f1109",
   "metadata": {},
   "outputs": [],
   "source": [
    "# from src import editors\n",
    "# editor = editors.load_editor(mt, \"linear\", 1,\n",
    "#                              editors_dir=\"../results/icml_editors_counterfact_gptj_linear\",\n",
    "#                              device=device)"
   ]
  },
  {
   "cell_type": "code",
   "execution_count": null,
   "id": "12190cba",
   "metadata": {},
   "outputs": [],
   "source": [
    "# with editors.apply(editor, device=device, alpha=0) as edited_mt:\n",
    "#     outputs = edited_mt.model.generate({\n",
    "#         \"entity\": \"the London Bridge\",\n",
    "#         \"prompt\": \"To cross the London Bridge, one should travel to\",\n",
    "#         \"context\": \"The London Bridge is located in the deserts of Arizona\",\n",
    "#         \"attribute\": \"is located in the deserts of Arizona\",\n",
    "#     }, max_new_tokens=25)\n",
    "# mt.tokenizer.batch_decode(outputs)"
   ]
  },
  {
   "cell_type": "code",
   "execution_count": null,
   "id": "76fc58a2",
   "metadata": {},
   "outputs": [],
   "source": []
  }
 ],
 "metadata": {
  "kernelspec": {
   "display_name": "Python 3 (ipykernel)",
   "language": "python",
   "name": "python3"
  },
  "language_info": {
   "codemirror_mode": {
    "name": "ipython",
    "version": 3
   },
   "file_extension": ".py",
   "mimetype": "text/x-python",
   "name": "python",
   "nbconvert_exporter": "python",
   "pygments_lexer": "ipython3",
   "version": "3.10.0"
  }
 },
 "nbformat": 4,
 "nbformat_minor": 5
}
