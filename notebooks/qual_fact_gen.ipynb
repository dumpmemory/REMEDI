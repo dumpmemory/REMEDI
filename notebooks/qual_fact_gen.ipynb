{
 "cells": [
  {
   "cell_type": "code",
   "execution_count": null,
   "id": "92e184bd",
   "metadata": {},
   "outputs": [],
   "source": [
    "import sys\n",
    "sys.path.append(\"..\")"
   ]
  },
  {
   "cell_type": "code",
   "execution_count": null,
   "id": "e31d6dc5",
   "metadata": {},
   "outputs": [],
   "source": [
    "from src import data\n",
    "data.disable_caching()\n",
    "dataset = data.load_dataset(\"counterfact\", split=\"train[5000:10000]\")"
   ]
  },
  {
   "cell_type": "code",
   "execution_count": null,
   "id": "94fdc20c",
   "metadata": {},
   "outputs": [],
   "source": [
    "import json\n",
    "from pathlib import Path\n",
    "\n",
    "RESULTS_ROOT = Path(\"../results\")\n",
    "assert RESULTS_ROOT.exists()"
   ]
  },
  {
   "cell_type": "code",
   "execution_count": null,
   "id": "cda98789",
   "metadata": {},
   "outputs": [],
   "source": [
    "EXPERIMENT_NAME = \"icml_eval_fact_gen_gptj\"\n",
    "results_dir = RESULTS_ROOT / EXPERIMENT_NAME / \"linear/1\"\n",
    "\n",
    "essence_results_file = results_dir / \"essence.json\"\n",
    "with essence_results_file.open(\"r\") as handle:\n",
    "    essence_results = json.load(handle)"
   ]
  },
  {
   "cell_type": "code",
   "execution_count": null,
   "id": "6858c2ef",
   "metadata": {},
   "outputs": [],
   "source": [
    "# Fun examples:\n",
    "# - 25\n",
    "# - 0\n",
    "# - 501\n",
    "# - 2497 # but model is wrong initially\n",
    "# - 2518\n",
    "# - 2521\n",
    "# - 2597\n",
    "# - 3109\n",
    "# - 3316\n",
    "# - 1008  # not the best, but cute\n",
    "# - 4515\n",
    "i = 4515\n",
    "dataset[i], essence_results[\"samples\"][i]"
   ]
  },
  {
   "cell_type": "code",
   "execution_count": null,
   "id": "b00d598d",
   "metadata": {},
   "outputs": [],
   "source": [
    "generation_results_file = results_dir / \"generation.json\"\n",
    "with generation_results_file.open(\"r\") as handle:\n",
    "    generation_results = json.load(handle)"
   ]
  },
  {
   "cell_type": "code",
   "execution_count": null,
   "id": "cfec4e8d",
   "metadata": {},
   "outputs": [],
   "source": [
    "generation_results[\"samples\"][4515]"
   ]
  },
  {
   "cell_type": "code",
   "execution_count": null,
   "id": "2aa8aa8c",
   "metadata": {},
   "outputs": [],
   "source": []
  }
 ],
 "metadata": {
  "kernelspec": {
   "display_name": "Python 3 (ipykernel)",
   "language": "python",
   "name": "python3"
  },
  "language_info": {
   "codemirror_mode": {
    "name": "ipython",
    "version": 3
   },
   "file_extension": ".py",
   "mimetype": "text/x-python",
   "name": "python",
   "nbconvert_exporter": "python",
   "pygments_lexer": "ipython3",
   "version": "3.10.0"
  }
 },
 "nbformat": 4,
 "nbformat_minor": 5
}
