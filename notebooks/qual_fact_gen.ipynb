{
 "cells": [
  {
   "cell_type": "code",
   "execution_count": null,
   "id": "92e184bd",
   "metadata": {},
   "outputs": [],
   "source": [
    "import sys\n",
    "sys.path.append(\"..\")"
   ]
  },
  {
   "cell_type": "code",
   "execution_count": null,
   "id": "e31d6dc5",
   "metadata": {},
   "outputs": [],
   "source": [
    "from src import data\n",
    "data.disable_caching()\n",
    "dataset = data.load_dataset(\"counterfact\", split=\"train[5000:10000]\")"
   ]
  },
  {
   "cell_type": "code",
   "execution_count": null,
   "id": "94fdc20c",
   "metadata": {},
   "outputs": [],
   "source": [
    "import json\n",
    "from pathlib import Path\n",
    "\n",
    "RESULTS_ROOT = Path(\"../results\")\n",
    "assert RESULTS_ROOT.exists()"
   ]
  },
  {
   "cell_type": "code",
   "execution_count": null,
   "id": "cda98789",
   "metadata": {},
   "outputs": [],
   "source": [
    "EXPERIMENT_NAME = \"icml_eval_fact_gen_gptj\"\n",
    "results_dir = RESULTS_ROOT / EXPERIMENT_NAME / \"linear/1\"\n",
    "\n",
    "essence_results_file = results_dir / \"essence.json\"\n",
    "with essence_results_file.open(\"r\") as handle:\n",
    "    essence_results = json.load(handle)"
   ]
  },
  {
   "cell_type": "code",
   "execution_count": null,
   "id": "8d759cbe",
   "metadata": {},
   "outputs": [],
   "source": [
    "[i for i, x in enumerate(dataset) if \"wiener\" in x[\"entity\"].lower()]"
   ]
  },
  {
   "cell_type": "code",
   "execution_count": null,
   "id": "6858c2ef",
   "metadata": {},
   "outputs": [],
   "source": [
    "# Fun examples:\n",
    "# - 25\n",
    "# - 0\n",
    "# - 501\n",
    "# - 2497 # but model is wrong initially\n",
    "# - 2518\n",
    "# - 2521\n",
    "# - 2597\n",
    "# - 3109\n",
    "# - 3316\n",
    "# - 1008  # not the best, but cute\n",
    "# - 4515\n",
    "i = 1114\n",
    "# i = 48\n",
    "# i = 78\n",
    "dataset[i], essence_results[\"samples\"][i]"
   ]
  },
  {
   "cell_type": "code",
   "execution_count": null,
   "id": "b00d598d",
   "metadata": {},
   "outputs": [],
   "source": [
    "generation_results_file = results_dir / \"generation.json\"\n",
    "with generation_results_file.open(\"r\") as handle:\n",
    "    generation_results = json.load(handle)"
   ]
  },
  {
   "cell_type": "code",
   "execution_count": null,
   "id": "c57f7c52",
   "metadata": {},
   "outputs": [],
   "source": [
    "import random\n",
    "i = random.choice(list(range(5000)))\n",
    "print(dataset[i][\"entity\"], \"+\", dataset[i][\"attribute\"])\n",
    "print()\n",
    "print(essence_results[\"samples\"][i][\"generation\"].replace(\"\\n\", \" \").replace(\"  \", \" \"))\n",
    "print()\n",
    "for g in [\n",
    "    g.replace(\"\\n\", \" \").replace(\"  \", \" \")\n",
    "    for g in generation_results[\"samples\"][i][\"generations\"]\n",
    "]:\n",
    "    print(g)"
   ]
  },
  {
   "cell_type": "code",
   "execution_count": null,
   "id": "416aa2ac",
   "metadata": {},
   "outputs": [],
   "source": [
    "in_context_essence_results_file = results_dir.parent.parent / \"prefix\" / \"essence.json\"\n",
    "with in_context_essence_results_file.open(\"r\") as handle:\n",
    "    in_context_essence_results = json.load(handle)"
   ]
  },
  {
   "cell_type": "code",
   "execution_count": null,
   "id": "37fe5dcc",
   "metadata": {},
   "outputs": [],
   "source": [
    "in_context_generation_results_file = results_dir.parent.parent / \"prefix\" / \"generation.json\"\n",
    "with in_context_generation_results_file.open(\"r\") as handle:\n",
    "    in_context_generation_results = json.load(handle)"
   ]
  },
  {
   "cell_type": "code",
   "execution_count": null,
   "id": "80267980",
   "metadata": {},
   "outputs": [],
   "source": [
    "import random\n",
    "i = random.choice(list(range(5000)))\n",
    "print(dataset[i][\"entity\"], \"+\", dataset[i][\"attribute\"])\n",
    "print()\n",
    "print(in_context_essence_results[\"samples\"][i][\"generation\"].replace(\"\\n\", \" \").replace(\"  \", \" \"))\n",
    "print()\n",
    "for g in [\n",
    "    g.replace(\"\\n\", \" \").replace(\"  \", \" \")\n",
    "    for g in in_context_generation_results[\"samples\"][i][\"generations\"]\n",
    "]:\n",
    "    print(g)"
   ]
  },
  {
   "cell_type": "code",
   "execution_count": null,
   "id": "2aa8aa8c",
   "metadata": {},
   "outputs": [],
   "source": [
    "def clean_result(result):\n",
    "    # Take just the first few sentences / the first thought.\n",
    "    if \"\\n\\n\" in result:\n",
    "        result = result.split(\"\\n\\n\")[0]\n",
    "    \n",
    "    limit = 2 if \"Inc. \" not in result else 3\n",
    "    result = \". \".join(result.split(\". \")[:limit])\n",
    "\n",
    "    # Sometimes CounterFact does not capitalize the entity, do so for presentation.\n",
    "    result = result[0].upper() + result[1:]\n",
    "    \n",
    "    return result\n",
    "\n",
    "examples = [\n",
    "    (25, \"essence\", None),\n",
    "    (501, \"essence\", 0),\n",
    "#     (2518, \"essence\", None),\n",
    "#     (2521, \"generation\", 2),\n",
    "#     (3109, \"essence\", None),\n",
    "    (3316, \"essence\", None),\n",
    "#     (4515, \"essence\", None),\n",
    "    (1114, \"essence\", None)\n",
    "]\n",
    "rows = []\n",
    "for index, source, position in examples:\n",
    "    if source == \"essence\":\n",
    "        result = essence_results[\"samples\"][index][\"generation\"]\n",
    "        in_context_result = in_context_essence_results[\"samples\"][index][\"generation\"]\n",
    "    else:\n",
    "        assert source == \"generation\"\n",
    "        assert position is not None\n",
    "        result = generation_results[\"samples\"][index][\"generations\"][position]\n",
    "        in_context_result = in_context_generation_results[\"samples\"][index][\"generations\"][position]\n",
    "\n",
    "    result = clean_result(result)\n",
    "    in_context_result = clean_result(in_context_result)\n",
    "\n",
    "    sample = dataset[index]\n",
    "\n",
    "    entity = sample[\"entity\"]\n",
    "    attribute = sample[\"prompt\"] \n",
    "    if attribute.startswith(entity):\n",
    "        attribute = attribute.replace(entity, \"\").strip(\", \")\n",
    "    attribute = f\"{attribute} {sample['target_mediated']}\"\n",
    "\n",
    "    row = (\n",
    "        index,\n",
    "        entity,\n",
    "        attribute,\n",
    "        in_context_result,\n",
    "        result,\n",
    "    )\n",
    "    rows.append(row)\n",
    "rows"
   ]
  },
  {
   "cell_type": "code",
   "execution_count": null,
   "id": "414311b4",
   "metadata": {},
   "outputs": [],
   "source": [
    "formatted_rows = []\n",
    "for (_, entity, attribute, in_context, edited) in rows:\n",
    "    row = list(row)\n",
    "\n",
    "    entity = entity[0].upper() + entity[1:]\n",
    "    prefix = entity + \" is\"\n",
    "    if in_context.startswith(prefix):\n",
    "        in_context = (r\"\\underline{\\textbf{\" + f\"{prefix}\" + \"}}\") + in_context[len(prefix):]\n",
    "#         suffix = in_context[len(prefix):]\n",
    "#         in_context = in_context.replace(suffix, r\"\\textcolor{red}{\" + f\"{suffix}\" + \"}\")\n",
    "    if edited.startswith(prefix):\n",
    "        edited = (r\"\\underline{\\textbf{\" + f\"{prefix}\" + \"}}\") + edited[len(prefix):]\n",
    "#         suffix = edited[len(prefix):]        \n",
    "#         edited = edited.replace(suffix, r\"\\textcolor{blue}{\" + f\"{suffix}\" + \"}\")\n",
    "\n",
    "    if not in_context.endswith(\".\"):\n",
    "        in_context += \".\"\n",
    "    if not edited.endswith(\".\"):\n",
    "        edited += \".\"\n",
    "\n",
    "    attribute = attribute\n",
    "\n",
    "    formatted_row = \" & \".join([\n",
    "        entity,\n",
    "        attribute,\n",
    "        in_context,\n",
    "        edited,\n",
    "    ])\n",
    "    formatted_rows.append(formatted_row)\n",
    "\n",
    "table_str = (r\" \\\\\" + \"\\n\").join(formatted_rows) + r\" \\\\\"\n",
    "print(table_str)"
   ]
  },
  {
   "cell_type": "code",
   "execution_count": null,
   "id": "4d637e44",
   "metadata": {},
   "outputs": [],
   "source": []
  }
 ],
 "metadata": {
  "kernelspec": {
   "display_name": "Python 3 (ipykernel)",
   "language": "python",
   "name": "python3"
  },
  "language_info": {
   "codemirror_mode": {
    "name": "ipython",
    "version": 3
   },
   "file_extension": ".py",
   "mimetype": "text/x-python",
   "name": "python",
   "nbconvert_exporter": "python",
   "pygments_lexer": "ipython3",
   "version": "3.10.0"
  }
 },
 "nbformat": 4,
 "nbformat_minor": 5
}
