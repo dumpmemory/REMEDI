{
 "cells": [
  {
   "cell_type": "code",
   "execution_count": null,
   "id": "d68d6f9d",
   "metadata": {},
   "outputs": [],
   "source": [
    "import json\n",
    "from pathlib import Path\n",
    "\n",
    "RESULTS_ROOT = Path(\"../results\")\n",
    "assert RESULTS_ROOT.exists()"
   ]
  },
  {
   "cell_type": "code",
   "execution_count": null,
   "id": "d22eb025",
   "metadata": {},
   "outputs": [],
   "source": [
    "EXPERIMENT_NAME = \"icml_eval_bias_cls_gptj\"\n",
    "\n",
    "\n",
    "layers = []\n",
    "accuracies = []\n",
    "mccs = []\n",
    "for layer in range(11, 28):\n",
    "    results_file = RESULTS_ROOT / EXPERIMENT_NAME / \"linear/11\" / f\"error_cls_layer_{layer}_metrics.json\"\n",
    "    if not results_file.exists():\n",
    "        print(f\"skipping layer {layer}\")\n",
    "        continue\n",
    "    with results_file.open(\"r\") as handle:\n",
    "        results = json.load(handle)\n",
    "\n",
    "    layers.append(layer)\n",
    "    accuracies.append(results[\"probe_recall_1\"])\n",
    "    mccs.append(results[\"mcc\"])"
   ]
  },
  {
   "cell_type": "code",
   "execution_count": null,
   "id": "a417e31f",
   "metadata": {},
   "outputs": [],
   "source": [
    "import matplotlib.pyplot as plt\n",
    "plt.bar(layers, accuracies)\n",
    "plt.bar(layers, mccs)"
   ]
  },
  {
   "cell_type": "code",
   "execution_count": null,
   "id": "570ee9b3",
   "metadata": {},
   "outputs": [],
   "source": [
    "scores = [2 * 1 / ((1 / a) + (1 / m)) for a, m in zip(accuracies, mccs)]\n",
    "plt.bar(layers, scores)"
   ]
  },
  {
   "cell_type": "markdown",
   "id": "386cfa5f",
   "metadata": {},
   "source": [
    "Just format results for best layer."
   ]
  },
  {
   "cell_type": "code",
   "execution_count": null,
   "id": "fb7e95fa",
   "metadata": {},
   "outputs": [],
   "source": [
    "results_file = RESULTS_ROOT / EXPERIMENT_NAME / \"linear/11\" / f\"error_cls_layer_23_metrics.json\"\n",
    "with results_file.open(\"r\") as handle:\n",
    "    results = json.load(handle)"
   ]
  },
  {
   "cell_type": "code",
   "execution_count": null,
   "id": "03a89dbd",
   "metadata": {},
   "outputs": [],
   "source": [
    "mcc = results[\"mcc\"]\n",
    "recall_k = results[\"probe_recall_k\"]\n",
    "numbers = (\n",
    "    f\"{recall_k:.2f}\".lstrip(\"0\"),\n",
    "    f\"{mcc:.2f}\".lstrip(\"0\"),\n",
    ")\n",
    "print(\" & \".join([f\"${x}$\" for x in numbers]))"
   ]
  },
  {
   "cell_type": "code",
   "execution_count": null,
   "id": "fab8e82f",
   "metadata": {},
   "outputs": [],
   "source": []
  }
 ],
 "metadata": {
  "kernelspec": {
   "display_name": "Python 3 (ipykernel)",
   "language": "python",
   "name": "python3"
  },
  "language_info": {
   "codemirror_mode": {
    "name": "ipython",
    "version": 3
   },
   "file_extension": ".py",
   "mimetype": "text/x-python",
   "name": "python",
   "nbconvert_exporter": "python",
   "pygments_lexer": "ipython3",
   "version": "3.10.0"
  }
 },
 "nbformat": 4,
 "nbformat_minor": 5
}
