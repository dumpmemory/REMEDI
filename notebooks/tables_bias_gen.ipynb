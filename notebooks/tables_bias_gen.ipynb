{
 "cells": [
  {
   "cell_type": "code",
   "execution_count": null,
   "id": "53d3fde5",
   "metadata": {},
   "outputs": [],
   "source": [
    "import json\n",
    "from pathlib import Path\n",
    "\n",
    "RESULTS_ROOT = Path(\"../results\")\n",
    "assert RESULTS_ROOT.exists()"
   ]
  },
  {
   "cell_type": "code",
   "execution_count": null,
   "id": "12f65bc0",
   "metadata": {},
   "outputs": [],
   "source": [
    "from collections import defaultdict\n",
    "\n",
    "results_by_method = defaultdict(dict)\n",
    "for task, experiment_name in (\n",
    "    (\"decontextual\", \"icml_eval_bias_gen_dctx_gptj\"),\n",
    "    (\"contextual\", \"icml_eval_bias_gen_gptj\")\n",
    "):\n",
    "    for method, path in (\n",
    "        (\"baseline\", \"baseline.json\"),\n",
    "        (r\"\\ourmethod\", \"linear/11/error_correction_metrics.json\"),\n",
    "    ):\n",
    "        results_file = RESULTS_ROOT / experiment_name / path\n",
    "        assert results_file.exists(), results_file\n",
    "        with results_file.open(\"r\") as handle:\n",
    "            results = json.load(handle)\n",
    "        if method == \"baseline\":\n",
    "            results = results[\"metrics\"]\n",
    "        results_by_method[method][task] = results"
   ]
  },
  {
   "cell_type": "code",
   "execution_count": null,
   "id": "fab4c614",
   "metadata": {},
   "outputs": [],
   "source": [
    "results_by_task_method"
   ]
  },
  {
   "cell_type": "code",
   "execution_count": null,
   "id": "534b94cf",
   "metadata": {},
   "outputs": [],
   "source": [
    "def to_interval(std):\n",
    "    return 1.96 * std / 5000\n",
    "\n",
    "def latexify(x):\n",
    "    return f\"${x}$\"\n",
    "\n",
    "def format_task(task):\n",
    "    accuracy = task[\"top1_accuracy\"]\n",
    "    fluency_mean = task[\"fluency\"][\"mean\"] * 100\n",
    "    fluency_std = task[\"fluency\"][\"std\"] * 100\n",
    "    return (\n",
    "        latexify(\n",
    "            f\"{accuracy:.2f}\".lstrip(\"0\"),\n",
    "        ),\n",
    "        latexify(\n",
    "            f\"{fluency_mean:.1f}\"\n",
    "#             + r\" \\pm \"\n",
    "#             + f\"{to_interval(fluency_std):.2f}\".lstrip(\"0\")\n",
    "        )\n",
    "    )\n",
    "\n",
    "def format_scores(results):\n",
    "    scores_strs = (\n",
    "        *format_task(results[\"contextual\"]),\n",
    "        *format_task(results[\"decontextual\"]),\n",
    "    )\n",
    "    return scores_strs\n",
    "\n",
    "def format_all(method, results_by_method):\n",
    "    results = results_by_method[method]\n",
    "    method = method.capitalize()\n",
    "    return \" & \".join([method, *format_scores(results)]) + r\" \\\\\"\n",
    "\n",
    "print(format_all(\"baseline\", results_by_method))\n",
    "print(format_all(r\"\\ourmethod\", results_by_method))"
   ]
  },
  {
   "cell_type": "code",
   "execution_count": null,
   "id": "7652b43a",
   "metadata": {},
   "outputs": [],
   "source": []
  }
 ],
 "metadata": {
  "kernelspec": {
   "display_name": "Python 3 (ipykernel)",
   "language": "python",
   "name": "python3"
  },
  "language_info": {
   "codemirror_mode": {
    "name": "ipython",
    "version": 3
   },
   "file_extension": ".py",
   "mimetype": "text/x-python",
   "name": "python",
   "nbconvert_exporter": "python",
   "pygments_lexer": "ipython3",
   "version": "3.10.0"
  }
 },
 "nbformat": 4,
 "nbformat_minor": 5
}
