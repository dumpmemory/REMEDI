{
 "cells": [
  {
   "cell_type": "code",
   "execution_count": null,
   "id": "ef498eb9",
   "metadata": {},
   "outputs": [],
   "source": [
    "from pathlib import Path\n",
    "\n",
    "RESULTS_ROOT = Path(\"../results\")\n",
    "assert RESULTS_ROOT.exists()"
   ]
  },
  {
   "cell_type": "code",
   "execution_count": null,
   "id": "9009a019",
   "metadata": {},
   "outputs": [],
   "source": [
    "# need to recompute decontextual f1\n",
    "from sklearn.metrics import accuracy_score, f1_score, matthews_corrcoef\n",
    "\n",
    "def recompute_scores(results, task=\"decontextual\"):\n",
    "    y_pred = [\n",
    "        sample[task][\"score_comparator\"] >= sample[\"decontextual\"][\"score_target\"]\n",
    "        for sample in results[\"samples\"]\n",
    "    ]\n",
    "    y_true = [\n",
    "        sample[task][\"logp_comparator\"] >= sample[\"decontextual\"][\"logp_target\"] \n",
    "        for sample in results[\"samples\"]\n",
    "    ]\n",
    "#     accuracy = accuracy_score(y_true, y_pred)\n",
    "    f1 = f1_score(y_true, y_pred)\n",
    "    mcc = matthews_corrcoef(y_true, y_pred)\n",
    "    return f1, mcc\n",
    "\n",
    "def format_row(scores):\n",
    "    scores_strs = [\n",
    "        f\"{score:.2f}\".lstrip(\"0\")\n",
    "        if not isinstance(score, str) else score\n",
    "        for score in scores\n",
    "    ]\n",
    "    scores_strs = [\n",
    "        f\"${score_str}$\"\n",
    "        if not isinstance(score, str) and score < 0\n",
    "        else score_str\n",
    "        for score_str, score in zip(scores_strs, scores)\n",
    "    ]\n",
    "    return \" & \".join(scores_strs)"
   ]
  },
  {
   "cell_type": "code",
   "execution_count": null,
   "id": "ecf9ecd9",
   "metadata": {},
   "outputs": [],
   "source": [
    "# control task results\n",
    "\n",
    "import json\n",
    "\n",
    "def format_row_for_control(control, fact_results_file, bias_results_file):\n",
    "    with fact_results_file.open(\"r\") as handle:\n",
    "        fact_results = json.load(handle)\n",
    "    with bias_results_file.open(\"r\") as handle:\n",
    "        bias_results = json.load(handle)\n",
    "\n",
    "    scores = (\n",
    "        control,\n",
    "#         *recompute_scores(fact_results),\n",
    "        fact_results[\"metrics\"][\"decontextual\"][\"f1\"],\n",
    "        fact_results[\"metrics\"][\"decontextual\"][\"mcc\"],\n",
    "        fact_results[\"metrics\"][\"contextual\"][\"f1\"],\n",
    "        fact_results[\"metrics\"][\"contextual\"][\"mcc\"],\n",
    "        \"---\" if control == \"Task\" else bias_results[\"metrics\"][\"probe_recall_k\"],\n",
    "        bias_results[\"metrics\"][\"f1\"],\n",
    "        bias_results[\"metrics\"][\"mcc\"],\n",
    "    )\n",
    "    print(format_row(scores) + r\" \\\\\")\n",
    "\n",
    "format_row_for_control(\n",
    "    \"Task\",\n",
    "    RESULTS_ROOT / \"icml_eval_fact_cls_gptj_control/linear/1/fact_cls_layer_26_control_task.json\",\n",
    "    RESULTS_ROOT / \"icml_eval_bias_cls_gptj_control_task/linear/11/error_cls_layer_23_control_task.json\",\n",
    ")\n",
    "format_row_for_control(\n",
    "    \"Model\",\n",
    "    RESULTS_ROOT / \"icml_eval_fact_cls_gptj_random/linear/1/fact_cls_layer_26.json\",\n",
    "    RESULTS_ROOT / \"icml_eval_bias_cls_gptj_random/linear/11/error_cls_layer_23.json\",\n",
    ")\n",
    "format_row_for_control(\n",
    "    \"Editor\",\n",
    "    RESULTS_ROOT / \"icml_eval_fact_cls_gptj_identity/identity/1/fact_cls_layer_26.json\",\n",
    "    RESULTS_ROOT / \"icml_eval_bias_cls_gptj_identity/identity/11/error_cls_layer_23.json\"\n",
    ")"
   ]
  },
  {
   "cell_type": "code",
   "execution_count": null,
   "id": "2b039db9",
   "metadata": {},
   "outputs": [],
   "source": [
    "bias_results.keys()"
   ]
  },
  {
   "cell_type": "code",
   "execution_count": null,
   "id": "5c8b3359",
   "metadata": {},
   "outputs": [],
   "source": [
    "bias_results[\"metrics\"].keys()"
   ]
  },
  {
   "cell_type": "code",
   "execution_count": null,
   "id": "88a9f957",
   "metadata": {},
   "outputs": [],
   "source": []
  }
 ],
 "metadata": {
  "kernelspec": {
   "display_name": "Python 3 (ipykernel)",
   "language": "python",
   "name": "python3"
  },
  "language_info": {
   "codemirror_mode": {
    "name": "ipython",
    "version": 3
   },
   "file_extension": ".py",
   "mimetype": "text/x-python",
   "name": "python",
   "nbconvert_exporter": "python",
   "pygments_lexer": "ipython3",
   "version": "3.10.0"
  }
 },
 "nbformat": 4,
 "nbformat_minor": 5
}
