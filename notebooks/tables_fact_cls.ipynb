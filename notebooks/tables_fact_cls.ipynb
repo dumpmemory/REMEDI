{
 "cells": [
  {
   "cell_type": "code",
   "execution_count": null,
   "id": "720620b3",
   "metadata": {},
   "outputs": [],
   "source": [
    "import json\n",
    "from pathlib import Path\n",
    "\n",
    "RESULTS_ROOT = Path(\"../results\")\n",
    "assert RESULTS_ROOT.exists()"
   ]
  },
  {
   "cell_type": "code",
   "execution_count": null,
   "id": "f4bf742f",
   "metadata": {},
   "outputs": [],
   "source": [
    "EXPERIMENT_NAME = \"icml_eval_fact_cls\"\n",
    "\n",
    "layers = []\n",
    "contextual_accuracies = []\n",
    "contextual_mccs = []\n",
    "decontextual_mccs = []\n",
    "decontextual_accuracies = []\n",
    "for layer in range(1, 28):\n",
    "    results_file = RESULTS_ROOT / EXPERIMENT_NAME / \"linear/1\" / f\"fact_cls_layer_{layer}_metrics.json\"\n",
    "    if not results_file.exists():\n",
    "        print(f\"skipping layer {layer}\")\n",
    "        continue\n",
    "    with results_file.open(\"r\") as handle:\n",
    "        results = json.load(handle)\n",
    "\n",
    "    layers.append(layer)\n",
    "    contextual_accuracies.append(results[\"contextual\"][\"accuracy\"])\n",
    "    contextual_mccs.append(results[\"contextual\"][\"mcc\"])\n",
    "    decontextual_accuracies.append(results[\"decontextual\"][\"accuracy\"])\n",
    "    decontextual_mccs.append(results[\"decontextual\"][\"mcc\"])"
   ]
  },
  {
   "cell_type": "code",
   "execution_count": null,
   "id": "0b55923e",
   "metadata": {},
   "outputs": [],
   "source": [
    "import matplotlib.pyplot as plt\n",
    "\n",
    "plt.bar(layers, contextual_accuracies)\n",
    "plt.bar(layers, contextual_mccs)"
   ]
  },
  {
   "cell_type": "code",
   "execution_count": null,
   "id": "cd883276",
   "metadata": {},
   "outputs": [],
   "source": [
    "plt.bar(layers, decontextual_accuracies)\n",
    "plt.bar(layers, decontextual_mccs)"
   ]
  },
  {
   "cell_type": "markdown",
   "id": "d921318c",
   "metadata": {},
   "source": [
    "Pull results specifically for layer 26:"
   ]
  },
  {
   "cell_type": "code",
   "execution_count": null,
   "id": "b0fe5583",
   "metadata": {},
   "outputs": [],
   "source": [
    "results_file = RESULTS_ROOT / EXPERIMENT_NAME / \"linear/1\" / f\"fact_cls_layer_26_metrics.json\"\n",
    "with results_file.open(\"r\") as handle:\n",
    "    results = json.load(handle)"
   ]
  },
  {
   "cell_type": "code",
   "execution_count": null,
   "id": "d55902c3",
   "metadata": {},
   "outputs": [],
   "source": [
    "def format_row(results):\n",
    "    scores = (\n",
    "        results[\"decontextual\"][\"accuracy\"],\n",
    "        results[\"decontextual\"][\"mcc\"],\n",
    "        results[\"contextual\"][\"accuracy\"],\n",
    "        results[\"contextual\"][\"mcc\"],\n",
    "    )\n",
    "    scores_strs = [f\"{score:.2f}\".lstrip(\"0\") for score in scores]\n",
    "    return \" & \".join(scores_strs)\n",
    "print(format_row(results))"
   ]
  },
  {
   "cell_type": "code",
   "execution_count": null,
   "id": "a818f68c",
   "metadata": {},
   "outputs": [],
   "source": []
  }
 ],
 "metadata": {
  "kernelspec": {
   "display_name": "Python 3 (ipykernel)",
   "language": "python",
   "name": "python3"
  },
  "language_info": {
   "codemirror_mode": {
    "name": "ipython",
    "version": 3
   },
   "file_extension": ".py",
   "mimetype": "text/x-python",
   "name": "python",
   "nbconvert_exporter": "python",
   "pygments_lexer": "ipython3",
   "version": "3.10.0"
  }
 },
 "nbformat": 4,
 "nbformat_minor": 5
}
